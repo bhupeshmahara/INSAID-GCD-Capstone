{
  "cells": [
    {
      "cell_type": "markdown",
      "metadata": {
        "id": "view-in-github",
        "colab_type": "text"
      },
      "source": [
        "<a href=\"https://colab.research.google.com/github/bhupeshmahara/employee-retention-prediction/blob/main/Employee_Retention_Prediction.ipynb\" target=\"_parent\"><img src=\"https://colab.research.google.com/assets/colab-badge.svg\" alt=\"Open In Colab\"/></a>"
      ]
    },
    {
      "cell_type": "markdown",
      "metadata": {
        "id": "dTkMqARigfmc"
      },
      "source": [
        "---\n",
        "# **Table of Contents**\n",
        "---\n",
        "\n",
        "**1.** [**Problem Statement**](#Section1)<br>\n",
        "**2.** [**Data Description**](#Section2)<br>\n",
        "**3.** [**Installing & Importing Libraries**](#Section3)<br>\n",
        "  - **3.1** [**Installing Libraries**](#Section31)<br>\n",
        "  - **3.2** [**Importing Libraries**](#Section32)<br>\n",
        "\n",
        "**4.** [**Data Acquisition & Description**](#Section4)<br>\n",
        "  - **4.1** [**Data Description**](#Section41)\n",
        "  - **4.2** [**Data Information**](#Section42)\n",
        "\n",
        "**5.** [**Data Pre-Profiling**](#Section5)<br>\n",
        "**6.** [**Data Pre-Processing**](#Section6)<br>\n",
        "**7.** [**Data Post-Profiling**](#Section7)<br>\n",
        "**8.** [**Exploratory Data Analysis**](#Section8)<br>\n",
        "**9.** [**Data Processing & Feature Selection**](#Section9)<br>\n",
        "  - **9.1** [**Data Encoding**](#Section91)<br>\n",
        "  - **9.2** [**Data Preparation**](#Section92)<br>\n",
        "  - **9.3** [**Data Scaling**](#Section93)<br>\n",
        "\n",
        "**10.** [**Model Development & Evaluation**](#Section10)<br>\n",
        "  - **10.1** [**Logistic Regression**](#Section101)<br>\n",
        "  - **10.2** [**Decistion Tree Classifier**](#Section102)<br>\n",
        "  - **10.3** [**Random Forest Classifier**](#Section103)<br>\n",
        "  - **10.4** [**KNN Classifier**](#Section104)<br>\n",
        "  - **10.5** [**Naive Bayes Classifier**](#Section105)<br>\n",
        "  - **10.6** [**Gradient Boosting Classifier**](#Section106)<br>\n",
        "  - **10.7** [**XGBoost Classifier Classifier**](#Section107)<br>\n",
        "  - **10.8** [**AdaBoost Classifier**](#Section108)<br>\n",
        "\n",
        "**11.** [**Modelling using Cross-Validation**](#Section11)<br>\n",
        "  - **11.1** [**Declare Hyper-paramter to tune the model**](#Section11.1)<br>\n",
        "\n",
        "**12.** [**Predicting for Unknown Data**](#Section12)<br>\n",
        "  - **12.1** [**Data Description**](#Section12.1)<br>\n",
        "  - **12.2** [**Data Encoding**](#Section12.2)<br>\n",
        "  - **12.3** [**Run the model through given data**](#Section12.3)<br>\n",
        "  - **12.4** [**Publish the report**](#Section12.4)<br>\n",
        "---"
      ]
    },
    {
      "cell_type": "markdown",
      "metadata": {
        "id": "vfsCpCi9yE21"
      },
      "source": [
        "<center><h1><b>EMPLOYEE RETENTION PREDICTION</b></h1></center>\n"
      ]
    },
    {
      "cell_type": "markdown",
      "metadata": {
        "id": "uOG_N8xqy318"
      },
      "source": [
        "---\n",
        "<a name = Section1></a>\n",
        "# **2. Problem Statement**\n",
        "---\n",
        "\n",
        "Predict whether or not an employee would stay given the data of employees at a company.\n",
        "\n",
        "Your client for this project is the HR Department at a software company.\n",
        "\n",
        "    They want to try a new initiative to retain employees.\n",
        "    The idea is to use data to predict whether an employee is likely to leave.\n",
        "    Once these employees are identified, HR can be more proactive in reaching out to them before it's too late.\n",
        "    They only want to deal with the data that is related to permanent employees.\n",
        "\n",
        "Current Practice\n",
        "Once an employee leaves, he or she is taken an interview with the name \"exit interview\" and shares reasons for leaving. The HR Department then tries and learns insights from the interview and makes changes accordingly.\n",
        "\n",
        "This suffers from the following problems:\n",
        "\n",
        "    This approach is that it's too haphazard. The quality of insight gained from an interview depends heavily on the skill of the interviewer.\n",
        "    The second problem is these insights can't be aggregated and interlaced across all employees who have left.\n",
        "    The third is that it is too late by the time the proposed policy changes take effect.\n",
        "\n",
        "The HR department has hired you as data science consultants. They want to supplement their exit interviews with a more proactive approach.\n",
        "\n",
        "\n",
        "#### Your Role\n",
        "\n",
        "    You are given datasets of past employees and their status (still employed or already left).\n",
        "    Your task is to build a classification model using the datasets.\n",
        "    Because there was no machine learning model for this problem in the company, you don’t have quantifiable win condition. \n",
        "    You need to build the best possible model."
      ]
    },
    {
      "cell_type": "markdown",
      "metadata": {
        "id": "p6p6Qw9P0HLP"
      },
      "source": [
        "---\n",
        "<a name = Section2></a>\n",
        "# **2. Data Description**\n",
        "---\n",
        "\n",
        "The Business Intelligence Analysts of the Company provided you three datasets that contain information about past employees and their status (still employed or already left).\n",
        "\n",
        "    department_data\n",
        "\n",
        "    This dataset contains information about each department. The schema of the dataset is as follows:\n",
        "        dept_id – Unique Department Code\n",
        "        dept_name – Name of the Department\n",
        "        dept_head – Name of the Head of the Department\n",
        "\n",
        "    employee_details_data\n",
        "\n",
        "    This dataset consists of Employee ID, their Age, Gender and Marital Status. The schema of this dataset is as follows:\n",
        "        employee_id – Unique ID Number for each employee\n",
        "        age – Age of the employee\n",
        "        gender – Gender of the employee\n",
        "        marital_status – Marital Status of the employee\n",
        "\n",
        "    employee_data\n",
        "\n",
        "    This dataset consists of each employee’s Administrative Information, Workload Information, Mutual Evaluation Information and Status.\n",
        "\n",
        "    Target variable\n",
        "        status – Current employment status (Employed / Left)\n",
        "\n",
        "    Administrative information\n",
        "        department – Department to which the employees belong(ed) to\n",
        "        salary – Salary level with respect to rest of their department\n",
        "        tenure – Number of years at the company\n",
        "        recently_promoted – Was the employee promoted in the last 3 years?\n",
        "        employee_id – Unique ID Number for each employee\n",
        "\n",
        "    Workload information\n",
        "        n_projects – Number of projects employee has worked on\n",
        "        avg_monthly_hrs – Average number of hours worked per month\n",
        "\n",
        "    Mutual evaluation information\n",
        "        satisfaction – Score for employee’s satisfaction with the company (higher is better)\n",
        "        last_evaluation – Score for most recent evaluation of employee (higher is better)\n",
        "        filed_complaint – Has the employee filed a formal complaint in the last 3 years?\n"
      ]
    },
    {
      "cell_type": "markdown",
      "metadata": {
        "id": "zI6jPeLYy71y"
      },
      "source": [
        "---\n",
        "<a name = Section3></a>\n",
        "# **3. Installing & Importing Libraries**\n",
        "---"
      ]
    },
    {
      "cell_type": "markdown",
      "metadata": {
        "id": "-b2SdGY8icsf"
      },
      "source": [
        "---\n",
        "<a name = Section31></a>\n",
        "### **3.1 Installing Libraries**\n",
        "---"
      ]
    },
    {
      "cell_type": "code",
      "execution_count": 1,
      "metadata": {
        "colab": {
          "base_uri": "https://localhost:8080/"
        },
        "id": "5OIqny-6yik_",
        "outputId": "463a481a-5cd9-45b2-eec3-77cc5b2fc3a1"
      },
      "outputs": [
        {
          "output_type": "stream",
          "name": "stdout",
          "text": [
            "Collecting mysql-connector-python\n",
            "  Downloading mysql_connector_python-8.0.29-cp37-cp37m-manylinux1_x86_64.whl (25.2 MB)\n",
            "\u001b[K     |████████████████████████████████| 25.2 MB 56.5 MB/s \n",
            "\u001b[?25hRequirement already satisfied: protobuf>=3.0.0 in /usr/local/lib/python3.7/dist-packages (from mysql-connector-python) (3.17.3)\n",
            "Requirement already satisfied: six>=1.9 in /usr/local/lib/python3.7/dist-packages (from protobuf>=3.0.0->mysql-connector-python) (1.15.0)\n",
            "Installing collected packages: mysql-connector-python\n",
            "Successfully installed mysql-connector-python-8.0.29\n",
            "Requirement already satisfied: pandas-profiling in /usr/local/lib/python3.7/dist-packages (1.4.1)\n",
            "Requirement already satisfied: six>=1.9 in /usr/local/lib/python3.7/dist-packages (from pandas-profiling) (1.15.0)\n",
            "Requirement already satisfied: jinja2>=2.8 in /usr/local/lib/python3.7/dist-packages (from pandas-profiling) (2.11.3)\n",
            "Requirement already satisfied: matplotlib>=1.4 in /usr/local/lib/python3.7/dist-packages (from pandas-profiling) (3.2.2)\n",
            "Requirement already satisfied: pandas>=0.19 in /usr/local/lib/python3.7/dist-packages (from pandas-profiling) (1.3.5)\n",
            "Requirement already satisfied: MarkupSafe>=0.23 in /usr/local/lib/python3.7/dist-packages (from jinja2>=2.8->pandas-profiling) (2.0.1)\n",
            "Requirement already satisfied: numpy>=1.11 in /usr/local/lib/python3.7/dist-packages (from matplotlib>=1.4->pandas-profiling) (1.21.6)\n",
            "Requirement already satisfied: cycler>=0.10 in /usr/local/lib/python3.7/dist-packages (from matplotlib>=1.4->pandas-profiling) (0.11.0)\n",
            "Requirement already satisfied: pyparsing!=2.0.4,!=2.1.2,!=2.1.6,>=2.0.1 in /usr/local/lib/python3.7/dist-packages (from matplotlib>=1.4->pandas-profiling) (3.0.8)\n",
            "Requirement already satisfied: python-dateutil>=2.1 in /usr/local/lib/python3.7/dist-packages (from matplotlib>=1.4->pandas-profiling) (2.8.2)\n",
            "Requirement already satisfied: kiwisolver>=1.0.1 in /usr/local/lib/python3.7/dist-packages (from matplotlib>=1.4->pandas-profiling) (1.4.2)\n",
            "Requirement already satisfied: typing-extensions in /usr/local/lib/python3.7/dist-packages (from kiwisolver>=1.0.1->matplotlib>=1.4->pandas-profiling) (4.2.0)\n",
            "Requirement already satisfied: pytz>=2017.3 in /usr/local/lib/python3.7/dist-packages (from pandas>=0.19->pandas-profiling) (2022.1)\n"
          ]
        }
      ],
      "source": [
        "!pip install mysql-connector-python\n",
        "!pip install pandas-profiling"
      ]
    },
    {
      "cell_type": "code",
      "execution_count": 2,
      "metadata": {
        "id": "TKksf84iyipe"
      },
      "outputs": [],
      "source": [
        "# Database \n",
        "import mysql.connector\n",
        "from mysql.connector import Error\n",
        "from collections import Counter"
      ]
    },
    {
      "cell_type": "markdown",
      "metadata": {
        "id": "N0WkkpmO1YVM"
      },
      "source": [
        "Download the dataSets onto Python by connecting to the below provided MySQL instance.\n",
        "                      \n",
        "    host        'cpanel.insaid.co'\n",
        "    user \t   'student'\n",
        "    passwd      'student'\n",
        "    database    'Capstone2'"
      ]
    },
    {
      "cell_type": "markdown",
      "metadata": {
        "id": "3baig3MSinZD"
      },
      "source": [
        "---\n",
        "<a name = Section32></a>\n",
        "### **3.2 Importing Libraries**\n",
        "---"
      ]
    },
    {
      "cell_type": "code",
      "execution_count": 3,
      "metadata": {
        "scrolled": true,
        "colab": {
          "base_uri": "https://localhost:8080/"
        },
        "id": "izE1kwdA5a4c",
        "outputId": "babcafc3-d1c1-4237-d239-f7bd22c75bc4"
      },
      "outputs": [
        {
          "output_type": "stream",
          "name": "stdout",
          "text": [
            "Requirement already satisfied: scikit-learn in /usr/local/lib/python3.7/dist-packages (1.0.2)\n",
            "Requirement already satisfied: numpy>=1.14.6 in /usr/local/lib/python3.7/dist-packages (from scikit-learn) (1.21.6)\n",
            "Requirement already satisfied: joblib>=0.11 in /usr/local/lib/python3.7/dist-packages (from scikit-learn) (1.1.0)\n",
            "Requirement already satisfied: threadpoolctl>=2.0.0 in /usr/local/lib/python3.7/dist-packages (from scikit-learn) (3.1.0)\n",
            "Requirement already satisfied: scipy>=1.1.0 in /usr/local/lib/python3.7/dist-packages (from scikit-learn) (1.4.1)\n"
          ]
        }
      ],
      "source": [
        "!pip install scikit-learn"
      ]
    },
    {
      "cell_type": "code",
      "execution_count": 4,
      "metadata": {
        "colab": {
          "base_uri": "https://localhost:8080/"
        },
        "id": "u_jh6wnk5a4d",
        "outputId": "18b71dd2-1aa0-4ca0-f4f9-5e010b014c90"
      },
      "outputs": [
        {
          "output_type": "stream",
          "name": "stdout",
          "text": [
            "Requirement already satisfied: xgboost in /usr/local/lib/python3.7/dist-packages (0.90)\n",
            "Requirement already satisfied: numpy in /usr/local/lib/python3.7/dist-packages (from xgboost) (1.21.6)\n",
            "Requirement already satisfied: scipy in /usr/local/lib/python3.7/dist-packages (from xgboost) (1.4.1)\n"
          ]
        }
      ],
      "source": [
        "!pip install xgboost"
      ]
    },
    {
      "cell_type": "code",
      "execution_count": 5,
      "metadata": {
        "id": "wdDQKK1yzihp"
      },
      "outputs": [],
      "source": [
        "# import basic libraries\n",
        "\n",
        "import pandas as pd\n",
        "import numpy as np\n",
        "from pandas_profiling import ProfileReport\n",
        "\n",
        "# import the required libraries from sklearn\n",
        "\n",
        "from sklearn.preprocessing import LabelEncoder, StandardScaler\n",
        "from sklearn.metrics import classification_report, accuracy_score, confusion_matrix\n",
        "from sklearn.model_selection import cross_val_score, GridSearchCV, train_test_split\n",
        "from sklearn.linear_model import LogisticRegression\n",
        "from sklearn.tree import DecisionTreeClassifier\n",
        "from sklearn.ensemble import RandomForestClassifier, GradientBoostingClassifier, AdaBoostClassifier\n",
        "from sklearn.neighbors import KNeighborsClassifier\n",
        "from sklearn.naive_bayes import GaussianNB\n",
        "from xgboost import XGBClassifier\n",
        "\n",
        "# import plotting libraries\n",
        "\n",
        "import seaborn as sns\n",
        "import matplotlib.pyplot as plt\n",
        "%matplotlib inline\n",
        "\n",
        "import warnings \n",
        "warnings.filterwarnings('ignore')"
      ]
    },
    {
      "cell_type": "code",
      "execution_count": 6,
      "metadata": {
        "colab": {
          "base_uri": "https://localhost:8080/"
        },
        "id": "i0AYHj9nokb3",
        "outputId": "90590a68-7111-4fb9-a32a-f1dfb10cbb3e"
      },
      "outputs": [
        {
          "output_type": "stream",
          "name": "stdout",
          "text": [
            "Connected to MySQL database... MySQL Server version on  8.0.29\n",
            "Your connected to -  ('Capstone2',)\n",
            "MySQL connection is closed\n"
          ]
        }
      ],
      "source": [
        "try:\n",
        "    mySQLconnection = mysql.connector.connect(host='cpanel.insaid.co',\n",
        "                             database='Capstone2',\n",
        "                             user='student',\n",
        "                             password='student')\n",
        "    \n",
        "    if mySQLconnection.is_connected():\n",
        "        db_Info = mySQLconnection.get_server_info()\n",
        "        print(\"Connected to MySQL database... MySQL Server version on \",db_Info)\n",
        "        cursor = mySQLconnection.cursor()\n",
        "        cursor.execute(\"select database();\")\n",
        "        database = cursor.fetchone()\n",
        "        print (\"Your connected to - \", database)\n",
        "        \n",
        "        sql_select_Query = \"select * from department_data\"\n",
        "        SQL_Query = pd.read_sql_query(sql_select_Query, mySQLconnection)\n",
        "        df_departmentData = pd.DataFrame(SQL_Query)\n",
        "        \n",
        "        sql_select_Query = \"select * from employee_details_data\"\n",
        "        SQL_Query = pd.read_sql_query(sql_select_Query, mySQLconnection)\n",
        "        df_employeeDetailsData = pd.DataFrame(SQL_Query)\n",
        "\n",
        "        sql_select_Query = \"select * from employee_data\"\n",
        "        SQL_Query = pd.read_sql_query(sql_select_Query, mySQLconnection)\n",
        "        df_employeeData = pd.DataFrame(SQL_Query)\n",
        "\n",
        "except Error as e :\n",
        "    print (\"Error while connecting to MySQL\", e)\n",
        "    \n",
        "finally:\n",
        "    #closing database connection.\n",
        "    if(mySQLconnection .is_connected()):\n",
        "        mySQLconnection.close()\n",
        "        print(\"MySQL connection is closed\")"
      ]
    },
    {
      "cell_type": "markdown",
      "metadata": {
        "id": "crxztrI32zFu"
      },
      "source": [
        "---\n",
        "<a name = Section4></a>\n",
        "# **4. Data Acquisition & Description**\n",
        "---"
      ]
    },
    {
      "cell_type": "code",
      "execution_count": 7,
      "metadata": {
        "colab": {
          "base_uri": "https://localhost:8080/"
        },
        "id": "n02cyf1k2wWt",
        "outputId": "90fc1d83-98c7-46ae-90c3-f6e687733af9"
      },
      "outputs": [
        {
          "output_type": "stream",
          "name": "stdout",
          "text": [
            "(11, 3)\n",
            "(14245, 4)\n",
            "(14150, 11)\n"
          ]
        }
      ],
      "source": [
        "df_departmentData.to_csv('department_data_sql.csv')\n",
        "print (df_departmentData.shape)\n",
        "df_employeeDetailsData.to_csv('employee_details_data_sql.csv')\n",
        "print (df_employeeDetailsData.shape)\n",
        "df_employeeData.to_csv('employee_data_sql.csv')\n",
        "print (df_employeeData.shape)"
      ]
    },
    {
      "cell_type": "code",
      "execution_count": 8,
      "metadata": {
        "colab": {
          "base_uri": "https://localhost:8080/",
          "height": 206
        },
        "id": "fO3c95Yu_d0P",
        "outputId": "34a9eb68-2c1c-4adc-a7fd-e19c9d6a32c4"
      },
      "outputs": [
        {
          "output_type": "execute_result",
          "data": {
            "text/plain": [
              "   dept_id    dept_name              dept_head\n",
              "0   D00-IT           IT             Henry Adey\n",
              "1   D00-SS        Sales        Edward J Bayley\n",
              "2   D00-TP         Temp        Micheal Zachrey\n",
              "3  D00-ENG  Engineering  Sushant Raghunathan K\n",
              "4   D00-SP      Support         Amelia Westray"
            ],
            "text/html": [
              "\n",
              "  <div id=\"df-036f98cd-0ef1-4a70-87cb-45e64dc6c437\">\n",
              "    <div class=\"colab-df-container\">\n",
              "      <div>\n",
              "<style scoped>\n",
              "    .dataframe tbody tr th:only-of-type {\n",
              "        vertical-align: middle;\n",
              "    }\n",
              "\n",
              "    .dataframe tbody tr th {\n",
              "        vertical-align: top;\n",
              "    }\n",
              "\n",
              "    .dataframe thead th {\n",
              "        text-align: right;\n",
              "    }\n",
              "</style>\n",
              "<table border=\"1\" class=\"dataframe\">\n",
              "  <thead>\n",
              "    <tr style=\"text-align: right;\">\n",
              "      <th></th>\n",
              "      <th>dept_id</th>\n",
              "      <th>dept_name</th>\n",
              "      <th>dept_head</th>\n",
              "    </tr>\n",
              "  </thead>\n",
              "  <tbody>\n",
              "    <tr>\n",
              "      <th>0</th>\n",
              "      <td>D00-IT</td>\n",
              "      <td>IT</td>\n",
              "      <td>Henry Adey</td>\n",
              "    </tr>\n",
              "    <tr>\n",
              "      <th>1</th>\n",
              "      <td>D00-SS</td>\n",
              "      <td>Sales</td>\n",
              "      <td>Edward J Bayley</td>\n",
              "    </tr>\n",
              "    <tr>\n",
              "      <th>2</th>\n",
              "      <td>D00-TP</td>\n",
              "      <td>Temp</td>\n",
              "      <td>Micheal Zachrey</td>\n",
              "    </tr>\n",
              "    <tr>\n",
              "      <th>3</th>\n",
              "      <td>D00-ENG</td>\n",
              "      <td>Engineering</td>\n",
              "      <td>Sushant Raghunathan K</td>\n",
              "    </tr>\n",
              "    <tr>\n",
              "      <th>4</th>\n",
              "      <td>D00-SP</td>\n",
              "      <td>Support</td>\n",
              "      <td>Amelia Westray</td>\n",
              "    </tr>\n",
              "  </tbody>\n",
              "</table>\n",
              "</div>\n",
              "      <button class=\"colab-df-convert\" onclick=\"convertToInteractive('df-036f98cd-0ef1-4a70-87cb-45e64dc6c437')\"\n",
              "              title=\"Convert this dataframe to an interactive table.\"\n",
              "              style=\"display:none;\">\n",
              "        \n",
              "  <svg xmlns=\"http://www.w3.org/2000/svg\" height=\"24px\"viewBox=\"0 0 24 24\"\n",
              "       width=\"24px\">\n",
              "    <path d=\"M0 0h24v24H0V0z\" fill=\"none\"/>\n",
              "    <path d=\"M18.56 5.44l.94 2.06.94-2.06 2.06-.94-2.06-.94-.94-2.06-.94 2.06-2.06.94zm-11 1L8.5 8.5l.94-2.06 2.06-.94-2.06-.94L8.5 2.5l-.94 2.06-2.06.94zm10 10l.94 2.06.94-2.06 2.06-.94-2.06-.94-.94-2.06-.94 2.06-2.06.94z\"/><path d=\"M17.41 7.96l-1.37-1.37c-.4-.4-.92-.59-1.43-.59-.52 0-1.04.2-1.43.59L10.3 9.45l-7.72 7.72c-.78.78-.78 2.05 0 2.83L4 21.41c.39.39.9.59 1.41.59.51 0 1.02-.2 1.41-.59l7.78-7.78 2.81-2.81c.8-.78.8-2.07 0-2.86zM5.41 20L4 18.59l7.72-7.72 1.47 1.35L5.41 20z\"/>\n",
              "  </svg>\n",
              "      </button>\n",
              "      \n",
              "  <style>\n",
              "    .colab-df-container {\n",
              "      display:flex;\n",
              "      flex-wrap:wrap;\n",
              "      gap: 12px;\n",
              "    }\n",
              "\n",
              "    .colab-df-convert {\n",
              "      background-color: #E8F0FE;\n",
              "      border: none;\n",
              "      border-radius: 50%;\n",
              "      cursor: pointer;\n",
              "      display: none;\n",
              "      fill: #1967D2;\n",
              "      height: 32px;\n",
              "      padding: 0 0 0 0;\n",
              "      width: 32px;\n",
              "    }\n",
              "\n",
              "    .colab-df-convert:hover {\n",
              "      background-color: #E2EBFA;\n",
              "      box-shadow: 0px 1px 2px rgba(60, 64, 67, 0.3), 0px 1px 3px 1px rgba(60, 64, 67, 0.15);\n",
              "      fill: #174EA6;\n",
              "    }\n",
              "\n",
              "    [theme=dark] .colab-df-convert {\n",
              "      background-color: #3B4455;\n",
              "      fill: #D2E3FC;\n",
              "    }\n",
              "\n",
              "    [theme=dark] .colab-df-convert:hover {\n",
              "      background-color: #434B5C;\n",
              "      box-shadow: 0px 1px 3px 1px rgba(0, 0, 0, 0.15);\n",
              "      filter: drop-shadow(0px 1px 2px rgba(0, 0, 0, 0.3));\n",
              "      fill: #FFFFFF;\n",
              "    }\n",
              "  </style>\n",
              "\n",
              "      <script>\n",
              "        const buttonEl =\n",
              "          document.querySelector('#df-036f98cd-0ef1-4a70-87cb-45e64dc6c437 button.colab-df-convert');\n",
              "        buttonEl.style.display =\n",
              "          google.colab.kernel.accessAllowed ? 'block' : 'none';\n",
              "\n",
              "        async function convertToInteractive(key) {\n",
              "          const element = document.querySelector('#df-036f98cd-0ef1-4a70-87cb-45e64dc6c437');\n",
              "          const dataTable =\n",
              "            await google.colab.kernel.invokeFunction('convertToInteractive',\n",
              "                                                     [key], {});\n",
              "          if (!dataTable) return;\n",
              "\n",
              "          const docLinkHtml = 'Like what you see? Visit the ' +\n",
              "            '<a target=\"_blank\" href=https://colab.research.google.com/notebooks/data_table.ipynb>data table notebook</a>'\n",
              "            + ' to learn more about interactive tables.';\n",
              "          element.innerHTML = '';\n",
              "          dataTable['output_type'] = 'display_data';\n",
              "          await google.colab.output.renderOutput(dataTable, element);\n",
              "          const docLink = document.createElement('div');\n",
              "          docLink.innerHTML = docLinkHtml;\n",
              "          element.appendChild(docLink);\n",
              "        }\n",
              "      </script>\n",
              "    </div>\n",
              "  </div>\n",
              "  "
            ]
          },
          "metadata": {},
          "execution_count": 8
        }
      ],
      "source": [
        "df_departmentData.head()"
      ]
    },
    {
      "cell_type": "code",
      "execution_count": 9,
      "metadata": {
        "colab": {
          "base_uri": "https://localhost:8080/",
          "height": 206
        },
        "id": "gGegij7BkfT1",
        "outputId": "5e069fbf-c0ec-4ada-b9fb-97457a75ab4e"
      },
      "outputs": [
        {
          "output_type": "execute_result",
          "data": {
            "text/plain": [
              "   employee_id  age  gender marital_status\n",
              "0       113558   43    Male        Married\n",
              "1       112256   24  Female      Unmarried\n",
              "2       112586   22  Female      Unmarried\n",
              "3       108071   36    Male        Married\n",
              "4       116915   38    Male        Married"
            ],
            "text/html": [
              "\n",
              "  <div id=\"df-c476dc44-08cd-4a77-b5aa-ae5c440796e1\">\n",
              "    <div class=\"colab-df-container\">\n",
              "      <div>\n",
              "<style scoped>\n",
              "    .dataframe tbody tr th:only-of-type {\n",
              "        vertical-align: middle;\n",
              "    }\n",
              "\n",
              "    .dataframe tbody tr th {\n",
              "        vertical-align: top;\n",
              "    }\n",
              "\n",
              "    .dataframe thead th {\n",
              "        text-align: right;\n",
              "    }\n",
              "</style>\n",
              "<table border=\"1\" class=\"dataframe\">\n",
              "  <thead>\n",
              "    <tr style=\"text-align: right;\">\n",
              "      <th></th>\n",
              "      <th>employee_id</th>\n",
              "      <th>age</th>\n",
              "      <th>gender</th>\n",
              "      <th>marital_status</th>\n",
              "    </tr>\n",
              "  </thead>\n",
              "  <tbody>\n",
              "    <tr>\n",
              "      <th>0</th>\n",
              "      <td>113558</td>\n",
              "      <td>43</td>\n",
              "      <td>Male</td>\n",
              "      <td>Married</td>\n",
              "    </tr>\n",
              "    <tr>\n",
              "      <th>1</th>\n",
              "      <td>112256</td>\n",
              "      <td>24</td>\n",
              "      <td>Female</td>\n",
              "      <td>Unmarried</td>\n",
              "    </tr>\n",
              "    <tr>\n",
              "      <th>2</th>\n",
              "      <td>112586</td>\n",
              "      <td>22</td>\n",
              "      <td>Female</td>\n",
              "      <td>Unmarried</td>\n",
              "    </tr>\n",
              "    <tr>\n",
              "      <th>3</th>\n",
              "      <td>108071</td>\n",
              "      <td>36</td>\n",
              "      <td>Male</td>\n",
              "      <td>Married</td>\n",
              "    </tr>\n",
              "    <tr>\n",
              "      <th>4</th>\n",
              "      <td>116915</td>\n",
              "      <td>38</td>\n",
              "      <td>Male</td>\n",
              "      <td>Married</td>\n",
              "    </tr>\n",
              "  </tbody>\n",
              "</table>\n",
              "</div>\n",
              "      <button class=\"colab-df-convert\" onclick=\"convertToInteractive('df-c476dc44-08cd-4a77-b5aa-ae5c440796e1')\"\n",
              "              title=\"Convert this dataframe to an interactive table.\"\n",
              "              style=\"display:none;\">\n",
              "        \n",
              "  <svg xmlns=\"http://www.w3.org/2000/svg\" height=\"24px\"viewBox=\"0 0 24 24\"\n",
              "       width=\"24px\">\n",
              "    <path d=\"M0 0h24v24H0V0z\" fill=\"none\"/>\n",
              "    <path d=\"M18.56 5.44l.94 2.06.94-2.06 2.06-.94-2.06-.94-.94-2.06-.94 2.06-2.06.94zm-11 1L8.5 8.5l.94-2.06 2.06-.94-2.06-.94L8.5 2.5l-.94 2.06-2.06.94zm10 10l.94 2.06.94-2.06 2.06-.94-2.06-.94-.94-2.06-.94 2.06-2.06.94z\"/><path d=\"M17.41 7.96l-1.37-1.37c-.4-.4-.92-.59-1.43-.59-.52 0-1.04.2-1.43.59L10.3 9.45l-7.72 7.72c-.78.78-.78 2.05 0 2.83L4 21.41c.39.39.9.59 1.41.59.51 0 1.02-.2 1.41-.59l7.78-7.78 2.81-2.81c.8-.78.8-2.07 0-2.86zM5.41 20L4 18.59l7.72-7.72 1.47 1.35L5.41 20z\"/>\n",
              "  </svg>\n",
              "      </button>\n",
              "      \n",
              "  <style>\n",
              "    .colab-df-container {\n",
              "      display:flex;\n",
              "      flex-wrap:wrap;\n",
              "      gap: 12px;\n",
              "    }\n",
              "\n",
              "    .colab-df-convert {\n",
              "      background-color: #E8F0FE;\n",
              "      border: none;\n",
              "      border-radius: 50%;\n",
              "      cursor: pointer;\n",
              "      display: none;\n",
              "      fill: #1967D2;\n",
              "      height: 32px;\n",
              "      padding: 0 0 0 0;\n",
              "      width: 32px;\n",
              "    }\n",
              "\n",
              "    .colab-df-convert:hover {\n",
              "      background-color: #E2EBFA;\n",
              "      box-shadow: 0px 1px 2px rgba(60, 64, 67, 0.3), 0px 1px 3px 1px rgba(60, 64, 67, 0.15);\n",
              "      fill: #174EA6;\n",
              "    }\n",
              "\n",
              "    [theme=dark] .colab-df-convert {\n",
              "      background-color: #3B4455;\n",
              "      fill: #D2E3FC;\n",
              "    }\n",
              "\n",
              "    [theme=dark] .colab-df-convert:hover {\n",
              "      background-color: #434B5C;\n",
              "      box-shadow: 0px 1px 3px 1px rgba(0, 0, 0, 0.15);\n",
              "      filter: drop-shadow(0px 1px 2px rgba(0, 0, 0, 0.3));\n",
              "      fill: #FFFFFF;\n",
              "    }\n",
              "  </style>\n",
              "\n",
              "      <script>\n",
              "        const buttonEl =\n",
              "          document.querySelector('#df-c476dc44-08cd-4a77-b5aa-ae5c440796e1 button.colab-df-convert');\n",
              "        buttonEl.style.display =\n",
              "          google.colab.kernel.accessAllowed ? 'block' : 'none';\n",
              "\n",
              "        async function convertToInteractive(key) {\n",
              "          const element = document.querySelector('#df-c476dc44-08cd-4a77-b5aa-ae5c440796e1');\n",
              "          const dataTable =\n",
              "            await google.colab.kernel.invokeFunction('convertToInteractive',\n",
              "                                                     [key], {});\n",
              "          if (!dataTable) return;\n",
              "\n",
              "          const docLinkHtml = 'Like what you see? Visit the ' +\n",
              "            '<a target=\"_blank\" href=https://colab.research.google.com/notebooks/data_table.ipynb>data table notebook</a>'\n",
              "            + ' to learn more about interactive tables.';\n",
              "          element.innerHTML = '';\n",
              "          dataTable['output_type'] = 'display_data';\n",
              "          await google.colab.output.renderOutput(dataTable, element);\n",
              "          const docLink = document.createElement('div');\n",
              "          docLink.innerHTML = docLinkHtml;\n",
              "          element.appendChild(docLink);\n",
              "        }\n",
              "      </script>\n",
              "    </div>\n",
              "  </div>\n",
              "  "
            ]
          },
          "metadata": {},
          "execution_count": 9
        }
      ],
      "source": [
        "df_employeeDetailsData.head()"
      ]
    },
    {
      "cell_type": "code",
      "execution_count": 10,
      "metadata": {
        "colab": {
          "base_uri": "https://localhost:8080/",
          "height": 206
        },
        "id": "xh65rRg9kzKU",
        "outputId": "97279163-d472-4006-c125-6ea08f475456"
      },
      "outputs": [
        {
          "output_type": "execute_result",
          "data": {
            "text/plain": [
              "   avg_monthly_hrs department  filed_complaint  last_evaluation  n_projects  \\\n",
              "0            246.0       None              NaN         0.866838           6   \n",
              "1            134.0       None              NaN         0.555718           2   \n",
              "2            156.0     D00-SS              1.0         0.474082           2   \n",
              "3            256.0     D00-SP              NaN         0.961360           6   \n",
              "4            146.0     D00-SS              NaN         0.507349           2   \n",
              "\n",
              "   recently_promoted  salary  satisfaction status  tenure  employee_id  \n",
              "0                NaN  medium      0.134415   Left     4.0       124467  \n",
              "1                NaN     low      0.511041   Left     3.0       112210  \n",
              "2                NaN  medium      0.405101   Left     3.0       126150  \n",
              "3                NaN     low      0.152974   Left     4.0       125346  \n",
              "4                NaN  medium      0.434845   Left     3.0       113707  "
            ],
            "text/html": [
              "\n",
              "  <div id=\"df-088ec7a7-b1c4-4265-9343-81ed82a32d0c\">\n",
              "    <div class=\"colab-df-container\">\n",
              "      <div>\n",
              "<style scoped>\n",
              "    .dataframe tbody tr th:only-of-type {\n",
              "        vertical-align: middle;\n",
              "    }\n",
              "\n",
              "    .dataframe tbody tr th {\n",
              "        vertical-align: top;\n",
              "    }\n",
              "\n",
              "    .dataframe thead th {\n",
              "        text-align: right;\n",
              "    }\n",
              "</style>\n",
              "<table border=\"1\" class=\"dataframe\">\n",
              "  <thead>\n",
              "    <tr style=\"text-align: right;\">\n",
              "      <th></th>\n",
              "      <th>avg_monthly_hrs</th>\n",
              "      <th>department</th>\n",
              "      <th>filed_complaint</th>\n",
              "      <th>last_evaluation</th>\n",
              "      <th>n_projects</th>\n",
              "      <th>recently_promoted</th>\n",
              "      <th>salary</th>\n",
              "      <th>satisfaction</th>\n",
              "      <th>status</th>\n",
              "      <th>tenure</th>\n",
              "      <th>employee_id</th>\n",
              "    </tr>\n",
              "  </thead>\n",
              "  <tbody>\n",
              "    <tr>\n",
              "      <th>0</th>\n",
              "      <td>246.0</td>\n",
              "      <td>None</td>\n",
              "      <td>NaN</td>\n",
              "      <td>0.866838</td>\n",
              "      <td>6</td>\n",
              "      <td>NaN</td>\n",
              "      <td>medium</td>\n",
              "      <td>0.134415</td>\n",
              "      <td>Left</td>\n",
              "      <td>4.0</td>\n",
              "      <td>124467</td>\n",
              "    </tr>\n",
              "    <tr>\n",
              "      <th>1</th>\n",
              "      <td>134.0</td>\n",
              "      <td>None</td>\n",
              "      <td>NaN</td>\n",
              "      <td>0.555718</td>\n",
              "      <td>2</td>\n",
              "      <td>NaN</td>\n",
              "      <td>low</td>\n",
              "      <td>0.511041</td>\n",
              "      <td>Left</td>\n",
              "      <td>3.0</td>\n",
              "      <td>112210</td>\n",
              "    </tr>\n",
              "    <tr>\n",
              "      <th>2</th>\n",
              "      <td>156.0</td>\n",
              "      <td>D00-SS</td>\n",
              "      <td>1.0</td>\n",
              "      <td>0.474082</td>\n",
              "      <td>2</td>\n",
              "      <td>NaN</td>\n",
              "      <td>medium</td>\n",
              "      <td>0.405101</td>\n",
              "      <td>Left</td>\n",
              "      <td>3.0</td>\n",
              "      <td>126150</td>\n",
              "    </tr>\n",
              "    <tr>\n",
              "      <th>3</th>\n",
              "      <td>256.0</td>\n",
              "      <td>D00-SP</td>\n",
              "      <td>NaN</td>\n",
              "      <td>0.961360</td>\n",
              "      <td>6</td>\n",
              "      <td>NaN</td>\n",
              "      <td>low</td>\n",
              "      <td>0.152974</td>\n",
              "      <td>Left</td>\n",
              "      <td>4.0</td>\n",
              "      <td>125346</td>\n",
              "    </tr>\n",
              "    <tr>\n",
              "      <th>4</th>\n",
              "      <td>146.0</td>\n",
              "      <td>D00-SS</td>\n",
              "      <td>NaN</td>\n",
              "      <td>0.507349</td>\n",
              "      <td>2</td>\n",
              "      <td>NaN</td>\n",
              "      <td>medium</td>\n",
              "      <td>0.434845</td>\n",
              "      <td>Left</td>\n",
              "      <td>3.0</td>\n",
              "      <td>113707</td>\n",
              "    </tr>\n",
              "  </tbody>\n",
              "</table>\n",
              "</div>\n",
              "      <button class=\"colab-df-convert\" onclick=\"convertToInteractive('df-088ec7a7-b1c4-4265-9343-81ed82a32d0c')\"\n",
              "              title=\"Convert this dataframe to an interactive table.\"\n",
              "              style=\"display:none;\">\n",
              "        \n",
              "  <svg xmlns=\"http://www.w3.org/2000/svg\" height=\"24px\"viewBox=\"0 0 24 24\"\n",
              "       width=\"24px\">\n",
              "    <path d=\"M0 0h24v24H0V0z\" fill=\"none\"/>\n",
              "    <path d=\"M18.56 5.44l.94 2.06.94-2.06 2.06-.94-2.06-.94-.94-2.06-.94 2.06-2.06.94zm-11 1L8.5 8.5l.94-2.06 2.06-.94-2.06-.94L8.5 2.5l-.94 2.06-2.06.94zm10 10l.94 2.06.94-2.06 2.06-.94-2.06-.94-.94-2.06-.94 2.06-2.06.94z\"/><path d=\"M17.41 7.96l-1.37-1.37c-.4-.4-.92-.59-1.43-.59-.52 0-1.04.2-1.43.59L10.3 9.45l-7.72 7.72c-.78.78-.78 2.05 0 2.83L4 21.41c.39.39.9.59 1.41.59.51 0 1.02-.2 1.41-.59l7.78-7.78 2.81-2.81c.8-.78.8-2.07 0-2.86zM5.41 20L4 18.59l7.72-7.72 1.47 1.35L5.41 20z\"/>\n",
              "  </svg>\n",
              "      </button>\n",
              "      \n",
              "  <style>\n",
              "    .colab-df-container {\n",
              "      display:flex;\n",
              "      flex-wrap:wrap;\n",
              "      gap: 12px;\n",
              "    }\n",
              "\n",
              "    .colab-df-convert {\n",
              "      background-color: #E8F0FE;\n",
              "      border: none;\n",
              "      border-radius: 50%;\n",
              "      cursor: pointer;\n",
              "      display: none;\n",
              "      fill: #1967D2;\n",
              "      height: 32px;\n",
              "      padding: 0 0 0 0;\n",
              "      width: 32px;\n",
              "    }\n",
              "\n",
              "    .colab-df-convert:hover {\n",
              "      background-color: #E2EBFA;\n",
              "      box-shadow: 0px 1px 2px rgba(60, 64, 67, 0.3), 0px 1px 3px 1px rgba(60, 64, 67, 0.15);\n",
              "      fill: #174EA6;\n",
              "    }\n",
              "\n",
              "    [theme=dark] .colab-df-convert {\n",
              "      background-color: #3B4455;\n",
              "      fill: #D2E3FC;\n",
              "    }\n",
              "\n",
              "    [theme=dark] .colab-df-convert:hover {\n",
              "      background-color: #434B5C;\n",
              "      box-shadow: 0px 1px 3px 1px rgba(0, 0, 0, 0.15);\n",
              "      filter: drop-shadow(0px 1px 2px rgba(0, 0, 0, 0.3));\n",
              "      fill: #FFFFFF;\n",
              "    }\n",
              "  </style>\n",
              "\n",
              "      <script>\n",
              "        const buttonEl =\n",
              "          document.querySelector('#df-088ec7a7-b1c4-4265-9343-81ed82a32d0c button.colab-df-convert');\n",
              "        buttonEl.style.display =\n",
              "          google.colab.kernel.accessAllowed ? 'block' : 'none';\n",
              "\n",
              "        async function convertToInteractive(key) {\n",
              "          const element = document.querySelector('#df-088ec7a7-b1c4-4265-9343-81ed82a32d0c');\n",
              "          const dataTable =\n",
              "            await google.colab.kernel.invokeFunction('convertToInteractive',\n",
              "                                                     [key], {});\n",
              "          if (!dataTable) return;\n",
              "\n",
              "          const docLinkHtml = 'Like what you see? Visit the ' +\n",
              "            '<a target=\"_blank\" href=https://colab.research.google.com/notebooks/data_table.ipynb>data table notebook</a>'\n",
              "            + ' to learn more about interactive tables.';\n",
              "          element.innerHTML = '';\n",
              "          dataTable['output_type'] = 'display_data';\n",
              "          await google.colab.output.renderOutput(dataTable, element);\n",
              "          const docLink = document.createElement('div');\n",
              "          docLink.innerHTML = docLinkHtml;\n",
              "          element.appendChild(docLink);\n",
              "        }\n",
              "      </script>\n",
              "    </div>\n",
              "  </div>\n",
              "  "
            ]
          },
          "metadata": {},
          "execution_count": 10
        }
      ],
      "source": [
        "df_employeeData.head()"
      ]
    },
    {
      "cell_type": "markdown",
      "metadata": {
        "id": "qA_J8jWqk2gZ"
      },
      "source": [
        "<a name = Section41></a>\n",
        "### **4.1 Data Description**"
      ]
    },
    {
      "cell_type": "code",
      "execution_count": 11,
      "metadata": {
        "colab": {
          "base_uri": "https://localhost:8080/",
          "height": 175
        },
        "id": "tHlePeWOHOVl",
        "outputId": "5fe13c82-7887-4cb1-ba8e-c4354a89fb11"
      },
      "outputs": [
        {
          "output_type": "execute_result",
          "data": {
            "text/plain": [
              "       dept_id dept_name   dept_head\n",
              "count       11        11          11\n",
              "unique      11        11          11\n",
              "top     D00-IT        IT  Henry Adey\n",
              "freq         1         1           1"
            ],
            "text/html": [
              "\n",
              "  <div id=\"df-02b2ef47-487e-4455-8ff0-892e1ef4a762\">\n",
              "    <div class=\"colab-df-container\">\n",
              "      <div>\n",
              "<style scoped>\n",
              "    .dataframe tbody tr th:only-of-type {\n",
              "        vertical-align: middle;\n",
              "    }\n",
              "\n",
              "    .dataframe tbody tr th {\n",
              "        vertical-align: top;\n",
              "    }\n",
              "\n",
              "    .dataframe thead th {\n",
              "        text-align: right;\n",
              "    }\n",
              "</style>\n",
              "<table border=\"1\" class=\"dataframe\">\n",
              "  <thead>\n",
              "    <tr style=\"text-align: right;\">\n",
              "      <th></th>\n",
              "      <th>dept_id</th>\n",
              "      <th>dept_name</th>\n",
              "      <th>dept_head</th>\n",
              "    </tr>\n",
              "  </thead>\n",
              "  <tbody>\n",
              "    <tr>\n",
              "      <th>count</th>\n",
              "      <td>11</td>\n",
              "      <td>11</td>\n",
              "      <td>11</td>\n",
              "    </tr>\n",
              "    <tr>\n",
              "      <th>unique</th>\n",
              "      <td>11</td>\n",
              "      <td>11</td>\n",
              "      <td>11</td>\n",
              "    </tr>\n",
              "    <tr>\n",
              "      <th>top</th>\n",
              "      <td>D00-IT</td>\n",
              "      <td>IT</td>\n",
              "      <td>Henry Adey</td>\n",
              "    </tr>\n",
              "    <tr>\n",
              "      <th>freq</th>\n",
              "      <td>1</td>\n",
              "      <td>1</td>\n",
              "      <td>1</td>\n",
              "    </tr>\n",
              "  </tbody>\n",
              "</table>\n",
              "</div>\n",
              "      <button class=\"colab-df-convert\" onclick=\"convertToInteractive('df-02b2ef47-487e-4455-8ff0-892e1ef4a762')\"\n",
              "              title=\"Convert this dataframe to an interactive table.\"\n",
              "              style=\"display:none;\">\n",
              "        \n",
              "  <svg xmlns=\"http://www.w3.org/2000/svg\" height=\"24px\"viewBox=\"0 0 24 24\"\n",
              "       width=\"24px\">\n",
              "    <path d=\"M0 0h24v24H0V0z\" fill=\"none\"/>\n",
              "    <path d=\"M18.56 5.44l.94 2.06.94-2.06 2.06-.94-2.06-.94-.94-2.06-.94 2.06-2.06.94zm-11 1L8.5 8.5l.94-2.06 2.06-.94-2.06-.94L8.5 2.5l-.94 2.06-2.06.94zm10 10l.94 2.06.94-2.06 2.06-.94-2.06-.94-.94-2.06-.94 2.06-2.06.94z\"/><path d=\"M17.41 7.96l-1.37-1.37c-.4-.4-.92-.59-1.43-.59-.52 0-1.04.2-1.43.59L10.3 9.45l-7.72 7.72c-.78.78-.78 2.05 0 2.83L4 21.41c.39.39.9.59 1.41.59.51 0 1.02-.2 1.41-.59l7.78-7.78 2.81-2.81c.8-.78.8-2.07 0-2.86zM5.41 20L4 18.59l7.72-7.72 1.47 1.35L5.41 20z\"/>\n",
              "  </svg>\n",
              "      </button>\n",
              "      \n",
              "  <style>\n",
              "    .colab-df-container {\n",
              "      display:flex;\n",
              "      flex-wrap:wrap;\n",
              "      gap: 12px;\n",
              "    }\n",
              "\n",
              "    .colab-df-convert {\n",
              "      background-color: #E8F0FE;\n",
              "      border: none;\n",
              "      border-radius: 50%;\n",
              "      cursor: pointer;\n",
              "      display: none;\n",
              "      fill: #1967D2;\n",
              "      height: 32px;\n",
              "      padding: 0 0 0 0;\n",
              "      width: 32px;\n",
              "    }\n",
              "\n",
              "    .colab-df-convert:hover {\n",
              "      background-color: #E2EBFA;\n",
              "      box-shadow: 0px 1px 2px rgba(60, 64, 67, 0.3), 0px 1px 3px 1px rgba(60, 64, 67, 0.15);\n",
              "      fill: #174EA6;\n",
              "    }\n",
              "\n",
              "    [theme=dark] .colab-df-convert {\n",
              "      background-color: #3B4455;\n",
              "      fill: #D2E3FC;\n",
              "    }\n",
              "\n",
              "    [theme=dark] .colab-df-convert:hover {\n",
              "      background-color: #434B5C;\n",
              "      box-shadow: 0px 1px 3px 1px rgba(0, 0, 0, 0.15);\n",
              "      filter: drop-shadow(0px 1px 2px rgba(0, 0, 0, 0.3));\n",
              "      fill: #FFFFFF;\n",
              "    }\n",
              "  </style>\n",
              "\n",
              "      <script>\n",
              "        const buttonEl =\n",
              "          document.querySelector('#df-02b2ef47-487e-4455-8ff0-892e1ef4a762 button.colab-df-convert');\n",
              "        buttonEl.style.display =\n",
              "          google.colab.kernel.accessAllowed ? 'block' : 'none';\n",
              "\n",
              "        async function convertToInteractive(key) {\n",
              "          const element = document.querySelector('#df-02b2ef47-487e-4455-8ff0-892e1ef4a762');\n",
              "          const dataTable =\n",
              "            await google.colab.kernel.invokeFunction('convertToInteractive',\n",
              "                                                     [key], {});\n",
              "          if (!dataTable) return;\n",
              "\n",
              "          const docLinkHtml = 'Like what you see? Visit the ' +\n",
              "            '<a target=\"_blank\" href=https://colab.research.google.com/notebooks/data_table.ipynb>data table notebook</a>'\n",
              "            + ' to learn more about interactive tables.';\n",
              "          element.innerHTML = '';\n",
              "          dataTable['output_type'] = 'display_data';\n",
              "          await google.colab.output.renderOutput(dataTable, element);\n",
              "          const docLink = document.createElement('div');\n",
              "          docLink.innerHTML = docLinkHtml;\n",
              "          element.appendChild(docLink);\n",
              "        }\n",
              "      </script>\n",
              "    </div>\n",
              "  </div>\n",
              "  "
            ]
          },
          "metadata": {},
          "execution_count": 11
        }
      ],
      "source": [
        "df_departmentData.describe()"
      ]
    },
    {
      "cell_type": "code",
      "execution_count": 12,
      "metadata": {
        "colab": {
          "base_uri": "https://localhost:8080/",
          "height": 300
        },
        "id": "hbn8oONd_Wlw",
        "outputId": "70b5c51d-6a70-435e-92cf-ae45b8ac6442"
      },
      "outputs": [
        {
          "output_type": "execute_result",
          "data": {
            "text/plain": [
              "         employee_id           age\n",
              "count   14245.000000  14245.000000\n",
              "mean   112123.050544     32.889926\n",
              "std      8500.457343      9.970834\n",
              "min    100101.000000     22.000000\n",
              "25%    105775.000000     24.000000\n",
              "50%    111298.000000     29.000000\n",
              "75%    116658.000000     41.000000\n",
              "max    148988.000000     57.000000"
            ],
            "text/html": [
              "\n",
              "  <div id=\"df-7ab02e99-2a7b-400b-95af-5a8e8eec5bbf\">\n",
              "    <div class=\"colab-df-container\">\n",
              "      <div>\n",
              "<style scoped>\n",
              "    .dataframe tbody tr th:only-of-type {\n",
              "        vertical-align: middle;\n",
              "    }\n",
              "\n",
              "    .dataframe tbody tr th {\n",
              "        vertical-align: top;\n",
              "    }\n",
              "\n",
              "    .dataframe thead th {\n",
              "        text-align: right;\n",
              "    }\n",
              "</style>\n",
              "<table border=\"1\" class=\"dataframe\">\n",
              "  <thead>\n",
              "    <tr style=\"text-align: right;\">\n",
              "      <th></th>\n",
              "      <th>employee_id</th>\n",
              "      <th>age</th>\n",
              "    </tr>\n",
              "  </thead>\n",
              "  <tbody>\n",
              "    <tr>\n",
              "      <th>count</th>\n",
              "      <td>14245.000000</td>\n",
              "      <td>14245.000000</td>\n",
              "    </tr>\n",
              "    <tr>\n",
              "      <th>mean</th>\n",
              "      <td>112123.050544</td>\n",
              "      <td>32.889926</td>\n",
              "    </tr>\n",
              "    <tr>\n",
              "      <th>std</th>\n",
              "      <td>8500.457343</td>\n",
              "      <td>9.970834</td>\n",
              "    </tr>\n",
              "    <tr>\n",
              "      <th>min</th>\n",
              "      <td>100101.000000</td>\n",
              "      <td>22.000000</td>\n",
              "    </tr>\n",
              "    <tr>\n",
              "      <th>25%</th>\n",
              "      <td>105775.000000</td>\n",
              "      <td>24.000000</td>\n",
              "    </tr>\n",
              "    <tr>\n",
              "      <th>50%</th>\n",
              "      <td>111298.000000</td>\n",
              "      <td>29.000000</td>\n",
              "    </tr>\n",
              "    <tr>\n",
              "      <th>75%</th>\n",
              "      <td>116658.000000</td>\n",
              "      <td>41.000000</td>\n",
              "    </tr>\n",
              "    <tr>\n",
              "      <th>max</th>\n",
              "      <td>148988.000000</td>\n",
              "      <td>57.000000</td>\n",
              "    </tr>\n",
              "  </tbody>\n",
              "</table>\n",
              "</div>\n",
              "      <button class=\"colab-df-convert\" onclick=\"convertToInteractive('df-7ab02e99-2a7b-400b-95af-5a8e8eec5bbf')\"\n",
              "              title=\"Convert this dataframe to an interactive table.\"\n",
              "              style=\"display:none;\">\n",
              "        \n",
              "  <svg xmlns=\"http://www.w3.org/2000/svg\" height=\"24px\"viewBox=\"0 0 24 24\"\n",
              "       width=\"24px\">\n",
              "    <path d=\"M0 0h24v24H0V0z\" fill=\"none\"/>\n",
              "    <path d=\"M18.56 5.44l.94 2.06.94-2.06 2.06-.94-2.06-.94-.94-2.06-.94 2.06-2.06.94zm-11 1L8.5 8.5l.94-2.06 2.06-.94-2.06-.94L8.5 2.5l-.94 2.06-2.06.94zm10 10l.94 2.06.94-2.06 2.06-.94-2.06-.94-.94-2.06-.94 2.06-2.06.94z\"/><path d=\"M17.41 7.96l-1.37-1.37c-.4-.4-.92-.59-1.43-.59-.52 0-1.04.2-1.43.59L10.3 9.45l-7.72 7.72c-.78.78-.78 2.05 0 2.83L4 21.41c.39.39.9.59 1.41.59.51 0 1.02-.2 1.41-.59l7.78-7.78 2.81-2.81c.8-.78.8-2.07 0-2.86zM5.41 20L4 18.59l7.72-7.72 1.47 1.35L5.41 20z\"/>\n",
              "  </svg>\n",
              "      </button>\n",
              "      \n",
              "  <style>\n",
              "    .colab-df-container {\n",
              "      display:flex;\n",
              "      flex-wrap:wrap;\n",
              "      gap: 12px;\n",
              "    }\n",
              "\n",
              "    .colab-df-convert {\n",
              "      background-color: #E8F0FE;\n",
              "      border: none;\n",
              "      border-radius: 50%;\n",
              "      cursor: pointer;\n",
              "      display: none;\n",
              "      fill: #1967D2;\n",
              "      height: 32px;\n",
              "      padding: 0 0 0 0;\n",
              "      width: 32px;\n",
              "    }\n",
              "\n",
              "    .colab-df-convert:hover {\n",
              "      background-color: #E2EBFA;\n",
              "      box-shadow: 0px 1px 2px rgba(60, 64, 67, 0.3), 0px 1px 3px 1px rgba(60, 64, 67, 0.15);\n",
              "      fill: #174EA6;\n",
              "    }\n",
              "\n",
              "    [theme=dark] .colab-df-convert {\n",
              "      background-color: #3B4455;\n",
              "      fill: #D2E3FC;\n",
              "    }\n",
              "\n",
              "    [theme=dark] .colab-df-convert:hover {\n",
              "      background-color: #434B5C;\n",
              "      box-shadow: 0px 1px 3px 1px rgba(0, 0, 0, 0.15);\n",
              "      filter: drop-shadow(0px 1px 2px rgba(0, 0, 0, 0.3));\n",
              "      fill: #FFFFFF;\n",
              "    }\n",
              "  </style>\n",
              "\n",
              "      <script>\n",
              "        const buttonEl =\n",
              "          document.querySelector('#df-7ab02e99-2a7b-400b-95af-5a8e8eec5bbf button.colab-df-convert');\n",
              "        buttonEl.style.display =\n",
              "          google.colab.kernel.accessAllowed ? 'block' : 'none';\n",
              "\n",
              "        async function convertToInteractive(key) {\n",
              "          const element = document.querySelector('#df-7ab02e99-2a7b-400b-95af-5a8e8eec5bbf');\n",
              "          const dataTable =\n",
              "            await google.colab.kernel.invokeFunction('convertToInteractive',\n",
              "                                                     [key], {});\n",
              "          if (!dataTable) return;\n",
              "\n",
              "          const docLinkHtml = 'Like what you see? Visit the ' +\n",
              "            '<a target=\"_blank\" href=https://colab.research.google.com/notebooks/data_table.ipynb>data table notebook</a>'\n",
              "            + ' to learn more about interactive tables.';\n",
              "          element.innerHTML = '';\n",
              "          dataTable['output_type'] = 'display_data';\n",
              "          await google.colab.output.renderOutput(dataTable, element);\n",
              "          const docLink = document.createElement('div');\n",
              "          docLink.innerHTML = docLinkHtml;\n",
              "          element.appendChild(docLink);\n",
              "        }\n",
              "      </script>\n",
              "    </div>\n",
              "  </div>\n",
              "  "
            ]
          },
          "metadata": {},
          "execution_count": 12
        }
      ],
      "source": [
        "df_employeeDetailsData.describe()"
      ]
    },
    {
      "cell_type": "code",
      "execution_count": 13,
      "metadata": {
        "colab": {
          "base_uri": "https://localhost:8080/",
          "height": 300
        },
        "id": "EMnWOfN7lJ9G",
        "outputId": "43fda9f7-993b-4bb8-bc69-7040017a7952"
      },
      "outputs": [
        {
          "output_type": "execute_result",
          "data": {
            "text/plain": [
              "       avg_monthly_hrs  filed_complaint  last_evaluation    n_projects  \\\n",
              "count     14150.000000           2046.0     12663.000000  14150.000000   \n",
              "mean        199.994346              1.0         0.718399      3.778304   \n",
              "std          50.833697              0.0         0.173108      1.250162   \n",
              "min          49.000000              1.0         0.316175      1.000000   \n",
              "25%         155.000000              1.0         0.563711      3.000000   \n",
              "50%         199.000000              1.0         0.724731      4.000000   \n",
              "75%         245.000000              1.0         0.871409      5.000000   \n",
              "max         310.000000              1.0         1.000000      7.000000   \n",
              "\n",
              "       recently_promoted  satisfaction        tenure    employee_id  \n",
              "count              297.0  14000.000000  14000.000000   14150.000000  \n",
              "mean                 1.0      0.621212      3.499357  112080.750247  \n",
              "std                  0.0      0.250482      1.462584    8748.202856  \n",
              "min                  1.0      0.040058      2.000000       0.000000  \n",
              "25%                  1.0      0.450356      3.000000  105772.500000  \n",
              "50%                  1.0      0.652394      3.000000  111291.500000  \n",
              "75%                  1.0      0.824925      4.000000  116650.750000  \n",
              "max                  1.0      1.000000     10.000000  148988.000000  "
            ],
            "text/html": [
              "\n",
              "  <div id=\"df-5a3abe42-1909-46a7-94f3-dfc049b5be5c\">\n",
              "    <div class=\"colab-df-container\">\n",
              "      <div>\n",
              "<style scoped>\n",
              "    .dataframe tbody tr th:only-of-type {\n",
              "        vertical-align: middle;\n",
              "    }\n",
              "\n",
              "    .dataframe tbody tr th {\n",
              "        vertical-align: top;\n",
              "    }\n",
              "\n",
              "    .dataframe thead th {\n",
              "        text-align: right;\n",
              "    }\n",
              "</style>\n",
              "<table border=\"1\" class=\"dataframe\">\n",
              "  <thead>\n",
              "    <tr style=\"text-align: right;\">\n",
              "      <th></th>\n",
              "      <th>avg_monthly_hrs</th>\n",
              "      <th>filed_complaint</th>\n",
              "      <th>last_evaluation</th>\n",
              "      <th>n_projects</th>\n",
              "      <th>recently_promoted</th>\n",
              "      <th>satisfaction</th>\n",
              "      <th>tenure</th>\n",
              "      <th>employee_id</th>\n",
              "    </tr>\n",
              "  </thead>\n",
              "  <tbody>\n",
              "    <tr>\n",
              "      <th>count</th>\n",
              "      <td>14150.000000</td>\n",
              "      <td>2046.0</td>\n",
              "      <td>12663.000000</td>\n",
              "      <td>14150.000000</td>\n",
              "      <td>297.0</td>\n",
              "      <td>14000.000000</td>\n",
              "      <td>14000.000000</td>\n",
              "      <td>14150.000000</td>\n",
              "    </tr>\n",
              "    <tr>\n",
              "      <th>mean</th>\n",
              "      <td>199.994346</td>\n",
              "      <td>1.0</td>\n",
              "      <td>0.718399</td>\n",
              "      <td>3.778304</td>\n",
              "      <td>1.0</td>\n",
              "      <td>0.621212</td>\n",
              "      <td>3.499357</td>\n",
              "      <td>112080.750247</td>\n",
              "    </tr>\n",
              "    <tr>\n",
              "      <th>std</th>\n",
              "      <td>50.833697</td>\n",
              "      <td>0.0</td>\n",
              "      <td>0.173108</td>\n",
              "      <td>1.250162</td>\n",
              "      <td>0.0</td>\n",
              "      <td>0.250482</td>\n",
              "      <td>1.462584</td>\n",
              "      <td>8748.202856</td>\n",
              "    </tr>\n",
              "    <tr>\n",
              "      <th>min</th>\n",
              "      <td>49.000000</td>\n",
              "      <td>1.0</td>\n",
              "      <td>0.316175</td>\n",
              "      <td>1.000000</td>\n",
              "      <td>1.0</td>\n",
              "      <td>0.040058</td>\n",
              "      <td>2.000000</td>\n",
              "      <td>0.000000</td>\n",
              "    </tr>\n",
              "    <tr>\n",
              "      <th>25%</th>\n",
              "      <td>155.000000</td>\n",
              "      <td>1.0</td>\n",
              "      <td>0.563711</td>\n",
              "      <td>3.000000</td>\n",
              "      <td>1.0</td>\n",
              "      <td>0.450356</td>\n",
              "      <td>3.000000</td>\n",
              "      <td>105772.500000</td>\n",
              "    </tr>\n",
              "    <tr>\n",
              "      <th>50%</th>\n",
              "      <td>199.000000</td>\n",
              "      <td>1.0</td>\n",
              "      <td>0.724731</td>\n",
              "      <td>4.000000</td>\n",
              "      <td>1.0</td>\n",
              "      <td>0.652394</td>\n",
              "      <td>3.000000</td>\n",
              "      <td>111291.500000</td>\n",
              "    </tr>\n",
              "    <tr>\n",
              "      <th>75%</th>\n",
              "      <td>245.000000</td>\n",
              "      <td>1.0</td>\n",
              "      <td>0.871409</td>\n",
              "      <td>5.000000</td>\n",
              "      <td>1.0</td>\n",
              "      <td>0.824925</td>\n",
              "      <td>4.000000</td>\n",
              "      <td>116650.750000</td>\n",
              "    </tr>\n",
              "    <tr>\n",
              "      <th>max</th>\n",
              "      <td>310.000000</td>\n",
              "      <td>1.0</td>\n",
              "      <td>1.000000</td>\n",
              "      <td>7.000000</td>\n",
              "      <td>1.0</td>\n",
              "      <td>1.000000</td>\n",
              "      <td>10.000000</td>\n",
              "      <td>148988.000000</td>\n",
              "    </tr>\n",
              "  </tbody>\n",
              "</table>\n",
              "</div>\n",
              "      <button class=\"colab-df-convert\" onclick=\"convertToInteractive('df-5a3abe42-1909-46a7-94f3-dfc049b5be5c')\"\n",
              "              title=\"Convert this dataframe to an interactive table.\"\n",
              "              style=\"display:none;\">\n",
              "        \n",
              "  <svg xmlns=\"http://www.w3.org/2000/svg\" height=\"24px\"viewBox=\"0 0 24 24\"\n",
              "       width=\"24px\">\n",
              "    <path d=\"M0 0h24v24H0V0z\" fill=\"none\"/>\n",
              "    <path d=\"M18.56 5.44l.94 2.06.94-2.06 2.06-.94-2.06-.94-.94-2.06-.94 2.06-2.06.94zm-11 1L8.5 8.5l.94-2.06 2.06-.94-2.06-.94L8.5 2.5l-.94 2.06-2.06.94zm10 10l.94 2.06.94-2.06 2.06-.94-2.06-.94-.94-2.06-.94 2.06-2.06.94z\"/><path d=\"M17.41 7.96l-1.37-1.37c-.4-.4-.92-.59-1.43-.59-.52 0-1.04.2-1.43.59L10.3 9.45l-7.72 7.72c-.78.78-.78 2.05 0 2.83L4 21.41c.39.39.9.59 1.41.59.51 0 1.02-.2 1.41-.59l7.78-7.78 2.81-2.81c.8-.78.8-2.07 0-2.86zM5.41 20L4 18.59l7.72-7.72 1.47 1.35L5.41 20z\"/>\n",
              "  </svg>\n",
              "      </button>\n",
              "      \n",
              "  <style>\n",
              "    .colab-df-container {\n",
              "      display:flex;\n",
              "      flex-wrap:wrap;\n",
              "      gap: 12px;\n",
              "    }\n",
              "\n",
              "    .colab-df-convert {\n",
              "      background-color: #E8F0FE;\n",
              "      border: none;\n",
              "      border-radius: 50%;\n",
              "      cursor: pointer;\n",
              "      display: none;\n",
              "      fill: #1967D2;\n",
              "      height: 32px;\n",
              "      padding: 0 0 0 0;\n",
              "      width: 32px;\n",
              "    }\n",
              "\n",
              "    .colab-df-convert:hover {\n",
              "      background-color: #E2EBFA;\n",
              "      box-shadow: 0px 1px 2px rgba(60, 64, 67, 0.3), 0px 1px 3px 1px rgba(60, 64, 67, 0.15);\n",
              "      fill: #174EA6;\n",
              "    }\n",
              "\n",
              "    [theme=dark] .colab-df-convert {\n",
              "      background-color: #3B4455;\n",
              "      fill: #D2E3FC;\n",
              "    }\n",
              "\n",
              "    [theme=dark] .colab-df-convert:hover {\n",
              "      background-color: #434B5C;\n",
              "      box-shadow: 0px 1px 3px 1px rgba(0, 0, 0, 0.15);\n",
              "      filter: drop-shadow(0px 1px 2px rgba(0, 0, 0, 0.3));\n",
              "      fill: #FFFFFF;\n",
              "    }\n",
              "  </style>\n",
              "\n",
              "      <script>\n",
              "        const buttonEl =\n",
              "          document.querySelector('#df-5a3abe42-1909-46a7-94f3-dfc049b5be5c button.colab-df-convert');\n",
              "        buttonEl.style.display =\n",
              "          google.colab.kernel.accessAllowed ? 'block' : 'none';\n",
              "\n",
              "        async function convertToInteractive(key) {\n",
              "          const element = document.querySelector('#df-5a3abe42-1909-46a7-94f3-dfc049b5be5c');\n",
              "          const dataTable =\n",
              "            await google.colab.kernel.invokeFunction('convertToInteractive',\n",
              "                                                     [key], {});\n",
              "          if (!dataTable) return;\n",
              "\n",
              "          const docLinkHtml = 'Like what you see? Visit the ' +\n",
              "            '<a target=\"_blank\" href=https://colab.research.google.com/notebooks/data_table.ipynb>data table notebook</a>'\n",
              "            + ' to learn more about interactive tables.';\n",
              "          element.innerHTML = '';\n",
              "          dataTable['output_type'] = 'display_data';\n",
              "          await google.colab.output.renderOutput(dataTable, element);\n",
              "          const docLink = document.createElement('div');\n",
              "          docLink.innerHTML = docLinkHtml;\n",
              "          element.appendChild(docLink);\n",
              "        }\n",
              "      </script>\n",
              "    </div>\n",
              "  </div>\n",
              "  "
            ]
          },
          "metadata": {},
          "execution_count": 13
        }
      ],
      "source": [
        "df_employeeData.describe()"
      ]
    },
    {
      "cell_type": "markdown",
      "metadata": {
        "id": "IVYwSbrBlMxK"
      },
      "source": [
        "<a name = Section42></a>\n",
        "### **4.2 Data Information**\n",
        "\n",
        "- In this section we will see the **information about the types of the features**."
      ]
    },
    {
      "cell_type": "code",
      "execution_count": 14,
      "metadata": {
        "colab": {
          "base_uri": "https://localhost:8080/"
        },
        "id": "NBbwafQllW6w",
        "outputId": "ba216d6b-f66b-45ae-9532-dd98b18c5f46"
      },
      "outputs": [
        {
          "output_type": "stream",
          "name": "stdout",
          "text": [
            "<class 'pandas.core.frame.DataFrame'>\n",
            "RangeIndex: 11 entries, 0 to 10\n",
            "Data columns (total 3 columns):\n",
            " #   Column     Non-Null Count  Dtype \n",
            "---  ------     --------------  ----- \n",
            " 0   dept_id    11 non-null     object\n",
            " 1   dept_name  11 non-null     object\n",
            " 2   dept_head  11 non-null     object\n",
            "dtypes: object(3)\n",
            "memory usage: 392.0+ bytes\n"
          ]
        }
      ],
      "source": [
        "df_departmentData.info()"
      ]
    },
    {
      "cell_type": "code",
      "execution_count": 15,
      "metadata": {
        "colab": {
          "base_uri": "https://localhost:8080/"
        },
        "id": "2Rsh_Q1ZHTuV",
        "outputId": "915b06c5-1548-46be-b878-c2e858f128b4"
      },
      "outputs": [
        {
          "output_type": "stream",
          "name": "stdout",
          "text": [
            "<class 'pandas.core.frame.DataFrame'>\n",
            "RangeIndex: 14245 entries, 0 to 14244\n",
            "Data columns (total 4 columns):\n",
            " #   Column          Non-Null Count  Dtype \n",
            "---  ------          --------------  ----- \n",
            " 0   employee_id     14245 non-null  int64 \n",
            " 1   age             14245 non-null  int64 \n",
            " 2   gender          14245 non-null  object\n",
            " 3   marital_status  14245 non-null  object\n",
            "dtypes: int64(2), object(2)\n",
            "memory usage: 445.3+ KB\n"
          ]
        }
      ],
      "source": [
        "df_employeeDetailsData.info()"
      ]
    },
    {
      "cell_type": "code",
      "execution_count": 16,
      "metadata": {
        "colab": {
          "base_uri": "https://localhost:8080/"
        },
        "id": "tGYQ5EyXHYLm",
        "outputId": "1dd4abe5-bd94-4655-ee3f-4dfc7c55f836"
      },
      "outputs": [
        {
          "output_type": "stream",
          "name": "stdout",
          "text": [
            "<class 'pandas.core.frame.DataFrame'>\n",
            "RangeIndex: 14150 entries, 0 to 14149\n",
            "Data columns (total 11 columns):\n",
            " #   Column             Non-Null Count  Dtype  \n",
            "---  ------             --------------  -----  \n",
            " 0   avg_monthly_hrs    14150 non-null  float64\n",
            " 1   department         13443 non-null  object \n",
            " 2   filed_complaint    2046 non-null   float64\n",
            " 3   last_evaluation    12663 non-null  float64\n",
            " 4   n_projects         14150 non-null  int64  \n",
            " 5   recently_promoted  297 non-null    float64\n",
            " 6   salary             14150 non-null  object \n",
            " 7   satisfaction       14000 non-null  float64\n",
            " 8   status             14150 non-null  object \n",
            " 9   tenure             14000 non-null  float64\n",
            " 10  employee_id        14150 non-null  int64  \n",
            "dtypes: float64(6), int64(2), object(3)\n",
            "memory usage: 1.2+ MB\n"
          ]
        }
      ],
      "source": [
        "df_employeeData.info()"
      ]
    },
    {
      "cell_type": "markdown",
      "metadata": {
        "id": "sIG3ZyiVl2Qg"
      },
      "source": [
        "---\n",
        "<a name = Section5></a>\n",
        "# **5. Data Pre-Profiling**\n",
        "---"
      ]
    },
    {
      "cell_type": "code",
      "execution_count": 17,
      "metadata": {
        "id": "C3vQLVaDmfqA"
      },
      "outputs": [],
      "source": [
        "# profile_deptData = ProfileReport(df_departmentData)\n",
        "# profile_deptData.to_file(output_file = \"Department Profiling Report.html\")\n",
        "# print(\"Accomplished\")"
      ]
    },
    {
      "cell_type": "code",
      "execution_count": 18,
      "metadata": {
        "scrolled": true,
        "id": "ZUv1zui05a4q"
      },
      "outputs": [],
      "source": [
        "# profile_emp_DetailsData = ProfileReport(df_employeeDetailsData)\n",
        "# profile_emp_DetailsData.to_file(output_file = \"Employee Details Data Profiling Report.html\")\n",
        "# print(\"Accomplished\")"
      ]
    },
    {
      "cell_type": "code",
      "execution_count": 19,
      "metadata": {
        "scrolled": false,
        "id": "V5BnD2dA5a4q"
      },
      "outputs": [],
      "source": [
        "# profile_emp_Data = ProfileReport(df_employeeData)\n",
        "# profile_emp_Data.to_file(output_file = \"Employee Data Profiling Report.html\")\n",
        "# print(\"Accomplished\")"
      ]
    },
    {
      "cell_type": "markdown",
      "metadata": {
        "id": "_Bd5E90yOqGa"
      },
      "source": [
        "---\n",
        "<a name = Section6></a>\n",
        "# **6. Data Pre-processing**\n",
        "---"
      ]
    },
    {
      "cell_type": "code",
      "execution_count": 20,
      "metadata": {
        "id": "xCbJALZvQlGu",
        "colab": {
          "base_uri": "https://localhost:8080/"
        },
        "outputId": "ef68c863-a384-49a8-8a7c-76c0948d8732"
      },
      "outputs": [
        {
          "output_type": "execute_result",
          "data": {
            "text/plain": [
              "dept_id      0\n",
              "dept_name    0\n",
              "dept_head    0\n",
              "dtype: int64"
            ]
          },
          "metadata": {},
          "execution_count": 20
        }
      ],
      "source": [
        "# for department dataset\n",
        "\n",
        "df_departmentData.isnull().sum()"
      ]
    },
    {
      "cell_type": "code",
      "execution_count": 21,
      "metadata": {
        "id": "1rCH0iWCQtat",
        "colab": {
          "base_uri": "https://localhost:8080/"
        },
        "outputId": "2d4e69b5-a3c7-4666-ec30-59aab4bc7739"
      },
      "outputs": [
        {
          "output_type": "execute_result",
          "data": {
            "text/plain": [
              "employee_id       0\n",
              "age               0\n",
              "gender            0\n",
              "marital_status    0\n",
              "dtype: int64"
            ]
          },
          "metadata": {},
          "execution_count": 21
        }
      ],
      "source": [
        "# for employeesDetailsData dataset\n",
        "\n",
        "df_employeeDetailsData.isnull().sum()"
      ]
    },
    {
      "cell_type": "code",
      "execution_count": 22,
      "metadata": {
        "id": "nAA2WE8TQ2G2",
        "colab": {
          "base_uri": "https://localhost:8080/",
          "height": 206
        },
        "outputId": "0d3244f4-0e26-4e64-9e27-14e974d4d035"
      },
      "outputs": [
        {
          "output_type": "execute_result",
          "data": {
            "text/plain": [
              "       avg_monthly_hrs department  filed_complaint  last_evaluation  \\\n",
              "34               284.0     D00-SS              NaN         0.852702   \n",
              "304              264.0    D00-ENG              NaN         0.774554   \n",
              "1234             129.0     D00-SP              NaN         0.402660   \n",
              "11304            167.0       None              NaN         0.880053   \n",
              "12304            259.0    D00-ENG              NaN         0.505883   \n",
              "\n",
              "       n_projects  recently_promoted  salary  satisfaction    status  tenure  \\\n",
              "34              6                NaN     low      0.069168      Left     4.0   \n",
              "304             6                NaN     low      0.110974      Left     4.0   \n",
              "1234            2                NaN  medium      0.437359      Left     3.0   \n",
              "11304           5                NaN     low      0.682140  Employed     3.0   \n",
              "12304           5                NaN     low      0.631046  Employed     4.0   \n",
              "\n",
              "       employee_id  \n",
              "34               0  \n",
              "304              0  \n",
              "1234             0  \n",
              "11304            0  \n",
              "12304            0  "
            ],
            "text/html": [
              "\n",
              "  <div id=\"df-09e70c10-32bb-40b0-a2d6-68f10b45d770\">\n",
              "    <div class=\"colab-df-container\">\n",
              "      <div>\n",
              "<style scoped>\n",
              "    .dataframe tbody tr th:only-of-type {\n",
              "        vertical-align: middle;\n",
              "    }\n",
              "\n",
              "    .dataframe tbody tr th {\n",
              "        vertical-align: top;\n",
              "    }\n",
              "\n",
              "    .dataframe thead th {\n",
              "        text-align: right;\n",
              "    }\n",
              "</style>\n",
              "<table border=\"1\" class=\"dataframe\">\n",
              "  <thead>\n",
              "    <tr style=\"text-align: right;\">\n",
              "      <th></th>\n",
              "      <th>avg_monthly_hrs</th>\n",
              "      <th>department</th>\n",
              "      <th>filed_complaint</th>\n",
              "      <th>last_evaluation</th>\n",
              "      <th>n_projects</th>\n",
              "      <th>recently_promoted</th>\n",
              "      <th>salary</th>\n",
              "      <th>satisfaction</th>\n",
              "      <th>status</th>\n",
              "      <th>tenure</th>\n",
              "      <th>employee_id</th>\n",
              "    </tr>\n",
              "  </thead>\n",
              "  <tbody>\n",
              "    <tr>\n",
              "      <th>34</th>\n",
              "      <td>284.0</td>\n",
              "      <td>D00-SS</td>\n",
              "      <td>NaN</td>\n",
              "      <td>0.852702</td>\n",
              "      <td>6</td>\n",
              "      <td>NaN</td>\n",
              "      <td>low</td>\n",
              "      <td>0.069168</td>\n",
              "      <td>Left</td>\n",
              "      <td>4.0</td>\n",
              "      <td>0</td>\n",
              "    </tr>\n",
              "    <tr>\n",
              "      <th>304</th>\n",
              "      <td>264.0</td>\n",
              "      <td>D00-ENG</td>\n",
              "      <td>NaN</td>\n",
              "      <td>0.774554</td>\n",
              "      <td>6</td>\n",
              "      <td>NaN</td>\n",
              "      <td>low</td>\n",
              "      <td>0.110974</td>\n",
              "      <td>Left</td>\n",
              "      <td>4.0</td>\n",
              "      <td>0</td>\n",
              "    </tr>\n",
              "    <tr>\n",
              "      <th>1234</th>\n",
              "      <td>129.0</td>\n",
              "      <td>D00-SP</td>\n",
              "      <td>NaN</td>\n",
              "      <td>0.402660</td>\n",
              "      <td>2</td>\n",
              "      <td>NaN</td>\n",
              "      <td>medium</td>\n",
              "      <td>0.437359</td>\n",
              "      <td>Left</td>\n",
              "      <td>3.0</td>\n",
              "      <td>0</td>\n",
              "    </tr>\n",
              "    <tr>\n",
              "      <th>11304</th>\n",
              "      <td>167.0</td>\n",
              "      <td>None</td>\n",
              "      <td>NaN</td>\n",
              "      <td>0.880053</td>\n",
              "      <td>5</td>\n",
              "      <td>NaN</td>\n",
              "      <td>low</td>\n",
              "      <td>0.682140</td>\n",
              "      <td>Employed</td>\n",
              "      <td>3.0</td>\n",
              "      <td>0</td>\n",
              "    </tr>\n",
              "    <tr>\n",
              "      <th>12304</th>\n",
              "      <td>259.0</td>\n",
              "      <td>D00-ENG</td>\n",
              "      <td>NaN</td>\n",
              "      <td>0.505883</td>\n",
              "      <td>5</td>\n",
              "      <td>NaN</td>\n",
              "      <td>low</td>\n",
              "      <td>0.631046</td>\n",
              "      <td>Employed</td>\n",
              "      <td>4.0</td>\n",
              "      <td>0</td>\n",
              "    </tr>\n",
              "  </tbody>\n",
              "</table>\n",
              "</div>\n",
              "      <button class=\"colab-df-convert\" onclick=\"convertToInteractive('df-09e70c10-32bb-40b0-a2d6-68f10b45d770')\"\n",
              "              title=\"Convert this dataframe to an interactive table.\"\n",
              "              style=\"display:none;\">\n",
              "        \n",
              "  <svg xmlns=\"http://www.w3.org/2000/svg\" height=\"24px\"viewBox=\"0 0 24 24\"\n",
              "       width=\"24px\">\n",
              "    <path d=\"M0 0h24v24H0V0z\" fill=\"none\"/>\n",
              "    <path d=\"M18.56 5.44l.94 2.06.94-2.06 2.06-.94-2.06-.94-.94-2.06-.94 2.06-2.06.94zm-11 1L8.5 8.5l.94-2.06 2.06-.94-2.06-.94L8.5 2.5l-.94 2.06-2.06.94zm10 10l.94 2.06.94-2.06 2.06-.94-2.06-.94-.94-2.06-.94 2.06-2.06.94z\"/><path d=\"M17.41 7.96l-1.37-1.37c-.4-.4-.92-.59-1.43-.59-.52 0-1.04.2-1.43.59L10.3 9.45l-7.72 7.72c-.78.78-.78 2.05 0 2.83L4 21.41c.39.39.9.59 1.41.59.51 0 1.02-.2 1.41-.59l7.78-7.78 2.81-2.81c.8-.78.8-2.07 0-2.86zM5.41 20L4 18.59l7.72-7.72 1.47 1.35L5.41 20z\"/>\n",
              "  </svg>\n",
              "      </button>\n",
              "      \n",
              "  <style>\n",
              "    .colab-df-container {\n",
              "      display:flex;\n",
              "      flex-wrap:wrap;\n",
              "      gap: 12px;\n",
              "    }\n",
              "\n",
              "    .colab-df-convert {\n",
              "      background-color: #E8F0FE;\n",
              "      border: none;\n",
              "      border-radius: 50%;\n",
              "      cursor: pointer;\n",
              "      display: none;\n",
              "      fill: #1967D2;\n",
              "      height: 32px;\n",
              "      padding: 0 0 0 0;\n",
              "      width: 32px;\n",
              "    }\n",
              "\n",
              "    .colab-df-convert:hover {\n",
              "      background-color: #E2EBFA;\n",
              "      box-shadow: 0px 1px 2px rgba(60, 64, 67, 0.3), 0px 1px 3px 1px rgba(60, 64, 67, 0.15);\n",
              "      fill: #174EA6;\n",
              "    }\n",
              "\n",
              "    [theme=dark] .colab-df-convert {\n",
              "      background-color: #3B4455;\n",
              "      fill: #D2E3FC;\n",
              "    }\n",
              "\n",
              "    [theme=dark] .colab-df-convert:hover {\n",
              "      background-color: #434B5C;\n",
              "      box-shadow: 0px 1px 3px 1px rgba(0, 0, 0, 0.15);\n",
              "      filter: drop-shadow(0px 1px 2px rgba(0, 0, 0, 0.3));\n",
              "      fill: #FFFFFF;\n",
              "    }\n",
              "  </style>\n",
              "\n",
              "      <script>\n",
              "        const buttonEl =\n",
              "          document.querySelector('#df-09e70c10-32bb-40b0-a2d6-68f10b45d770 button.colab-df-convert');\n",
              "        buttonEl.style.display =\n",
              "          google.colab.kernel.accessAllowed ? 'block' : 'none';\n",
              "\n",
              "        async function convertToInteractive(key) {\n",
              "          const element = document.querySelector('#df-09e70c10-32bb-40b0-a2d6-68f10b45d770');\n",
              "          const dataTable =\n",
              "            await google.colab.kernel.invokeFunction('convertToInteractive',\n",
              "                                                     [key], {});\n",
              "          if (!dataTable) return;\n",
              "\n",
              "          const docLinkHtml = 'Like what you see? Visit the ' +\n",
              "            '<a target=\"_blank\" href=https://colab.research.google.com/notebooks/data_table.ipynb>data table notebook</a>'\n",
              "            + ' to learn more about interactive tables.';\n",
              "          element.innerHTML = '';\n",
              "          dataTable['output_type'] = 'display_data';\n",
              "          await google.colab.output.renderOutput(dataTable, element);\n",
              "          const docLink = document.createElement('div');\n",
              "          docLink.innerHTML = docLinkHtml;\n",
              "          element.appendChild(docLink);\n",
              "        }\n",
              "      </script>\n",
              "    </div>\n",
              "  </div>\n",
              "  "
            ]
          },
          "metadata": {},
          "execution_count": 22
        }
      ],
      "source": [
        "# for employeeData dataset\n",
        "\n",
        "df_employeeData[df_employeeData['employee_id']<=0]"
      ]
    },
    {
      "cell_type": "code",
      "execution_count": 23,
      "metadata": {
        "id": "ODtqZ0R-OpCt",
        "colab": {
          "base_uri": "https://localhost:8080/"
        },
        "outputId": "770c05bf-832c-4a8d-94dc-e100335d2280"
      },
      "outputs": [
        {
          "output_type": "execute_result",
          "data": {
            "text/plain": [
              "(14145, 11)"
            ]
          },
          "metadata": {},
          "execution_count": 23
        }
      ],
      "source": [
        "# from df_employeeData.describe() we can see that minimum employee Id is 0 that means there are such records with an invalid employee id.\n",
        "# remove the records with employee Id=0, since there are only 5 records\n",
        "\n",
        "df_employeeData.drop(df_employeeData[df_employeeData['employee_id']<=0].index, inplace=True)\n",
        "df_employeeData.shape"
      ]
    },
    {
      "cell_type": "code",
      "execution_count": 24,
      "metadata": {
        "id": "4C6bUhmESv9f",
        "colab": {
          "base_uri": "https://localhost:8080/"
        },
        "outputId": "d27773e8-fde4-40ae-de2e-0f7e0fa92876"
      },
      "outputs": [
        {
          "output_type": "execute_result",
          "data": {
            "text/plain": [
              "recently_promoted    13848\n",
              "filed_complaint      12099\n",
              "last_evaluation       1487\n",
              "department             706\n",
              "satisfaction           150\n",
              "tenure                 150\n",
              "avg_monthly_hrs          0\n",
              "n_projects               0\n",
              "salary                   0\n",
              "status                   0\n",
              "employee_id              0\n",
              "dtype: int64"
            ]
          },
          "metadata": {},
          "execution_count": 24
        }
      ],
      "source": [
        "# check for null values in employeeData dataset\n",
        "\n",
        "df_employeeData.isnull().sum().sort_values(ascending=False)"
      ]
    },
    {
      "cell_type": "markdown",
      "metadata": {
        "id": "-tsvE6eOTtBv"
      },
      "source": [
        "__Here we can see that features like \"recently_promoted\" and \"filed_complaint\" are having a lot of missing values, so we'll drop both the columns__"
      ]
    },
    {
      "cell_type": "code",
      "execution_count": 25,
      "metadata": {
        "id": "G-CrhzTpTsUt",
        "colab": {
          "base_uri": "https://localhost:8080/"
        },
        "outputId": "e0499ad7-7aa9-4667-c241-21a30faf8d3b"
      },
      "outputs": [
        {
          "output_type": "execute_result",
          "data": {
            "text/plain": [
              "last_evaluation    1487\n",
              "department          706\n",
              "satisfaction        150\n",
              "tenure              150\n",
              "avg_monthly_hrs       0\n",
              "n_projects            0\n",
              "salary                0\n",
              "status                0\n",
              "employee_id           0\n",
              "dtype: int64"
            ]
          },
          "metadata": {},
          "execution_count": 25
        }
      ],
      "source": [
        "df_employeeData.drop(['filed_complaint', 'recently_promoted'], axis=1, inplace = True)\n",
        "df_employeeData.isnull().sum().sort_values(ascending=False)"
      ]
    },
    {
      "cell_type": "code",
      "execution_count": 26,
      "metadata": {
        "id": "V4CGr0qgWn-v",
        "colab": {
          "base_uri": "https://localhost:8080/"
        },
        "outputId": "d5c0f2a2-c175-4f4f-8e92-18b12e12109a"
      },
      "outputs": [
        {
          "output_type": "execute_result",
          "data": {
            "text/plain": [
              "array([None, 'D00-SS', 'D00-SP', 'D00-MT', 'D00-PD', 'D00-IT', 'D00-AD',\n",
              "       'D00-MN', 'D00-ENG', 'D00-PR', 'D00-TP', 'D00-FN', '-IT'],\n",
              "      dtype=object)"
            ]
          },
          "metadata": {},
          "execution_count": 26
        }
      ],
      "source": [
        "# we have an invalid value as \"-IT\" in department column\n",
        "\n",
        "df_employeeData['department'].unique()"
      ]
    },
    {
      "cell_type": "code",
      "execution_count": 27,
      "metadata": {
        "id": "1FzrnXdgXF_T",
        "colab": {
          "base_uri": "https://localhost:8080/"
        },
        "outputId": "bff5582d-7e99-41de-8aa1-7934a3e11e34"
      },
      "outputs": [
        {
          "output_type": "execute_result",
          "data": {
            "text/plain": [
              "array([None, 'D00-SS', 'D00-SP', 'D00-MT', 'D00-PD', 'D00-IT', 'D00-AD',\n",
              "       'D00-MN', 'D00-ENG', 'D00-PR', 'D00-TP', 'D00-FN'], dtype=object)"
            ]
          },
          "metadata": {},
          "execution_count": 27
        }
      ],
      "source": [
        "# replace the incorrect Data \"-IT\" with \"D00-IT\". This is very important to avoid invalid elements during the merge.\n",
        "\n",
        "df_employeeData['department'].replace({'-IT': 'D00-IT'}, inplace=True)\n",
        "df_employeeData['department'].unique()"
      ]
    },
    {
      "cell_type": "code",
      "execution_count": 28,
      "metadata": {
        "id": "iMvVh5S5Xfiq",
        "colab": {
          "base_uri": "https://localhost:8080/"
        },
        "outputId": "75e0b7a3-364d-49b8-f224-471b1c3c4473"
      },
      "outputs": [
        {
          "output_type": "execute_result",
          "data": {
            "text/plain": [
              "last_evaluation    1487\n",
              "department          706\n",
              "satisfaction        150\n",
              "tenure              150\n",
              "avg_monthly_hrs       0\n",
              "n_projects            0\n",
              "salary                0\n",
              "status                0\n",
              "employee_id           0\n",
              "dtype: int64"
            ]
          },
          "metadata": {},
          "execution_count": 28
        }
      ],
      "source": [
        "df_employeeData.isnull().sum().sort_values(ascending=False)"
      ]
    },
    {
      "cell_type": "markdown",
      "metadata": {
        "id": "JmlFKpnxPj7s"
      },
      "source": [
        "### __Now we'll merge the data of all three datasets into one final dataset__"
      ]
    },
    {
      "cell_type": "code",
      "execution_count": 29,
      "metadata": {
        "id": "oNSELdL_A-dm",
        "colab": {
          "base_uri": "https://localhost:8080/",
          "height": 206
        },
        "outputId": "a1c407fd-9a70-44f1-8af5-e477b218fec8"
      },
      "outputs": [
        {
          "output_type": "execute_result",
          "data": {
            "text/plain": [
              "   employee_id  age  gender marital_status  avg_monthly_hrs department  \\\n",
              "0       113558   43    Male        Married            111.0     D00-PR   \n",
              "1       112256   24  Female      Unmarried            201.0     D00-MN   \n",
              "2       112586   22  Female      Unmarried            239.0     D00-SS   \n",
              "3       108071   36    Male        Married            151.0     D00-PR   \n",
              "4       116915   38    Male        Married            259.0     D00-IT   \n",
              "\n",
              "   last_evaluation  n_projects  salary  satisfaction    status  tenure  \n",
              "0         0.753977           5  medium      0.921208  Employed     4.0  \n",
              "1         0.964453           3  medium      0.568479  Employed     3.0  \n",
              "2         0.756458           3     low      0.144812  Employed     6.0  \n",
              "3         0.608282           5  medium      0.210300  Employed     6.0  \n",
              "4         0.749206           4  medium      0.888514  Employed     3.0  "
            ],
            "text/html": [
              "\n",
              "  <div id=\"df-ecce5358-2296-438f-afe5-a5676397a32e\">\n",
              "    <div class=\"colab-df-container\">\n",
              "      <div>\n",
              "<style scoped>\n",
              "    .dataframe tbody tr th:only-of-type {\n",
              "        vertical-align: middle;\n",
              "    }\n",
              "\n",
              "    .dataframe tbody tr th {\n",
              "        vertical-align: top;\n",
              "    }\n",
              "\n",
              "    .dataframe thead th {\n",
              "        text-align: right;\n",
              "    }\n",
              "</style>\n",
              "<table border=\"1\" class=\"dataframe\">\n",
              "  <thead>\n",
              "    <tr style=\"text-align: right;\">\n",
              "      <th></th>\n",
              "      <th>employee_id</th>\n",
              "      <th>age</th>\n",
              "      <th>gender</th>\n",
              "      <th>marital_status</th>\n",
              "      <th>avg_monthly_hrs</th>\n",
              "      <th>department</th>\n",
              "      <th>last_evaluation</th>\n",
              "      <th>n_projects</th>\n",
              "      <th>salary</th>\n",
              "      <th>satisfaction</th>\n",
              "      <th>status</th>\n",
              "      <th>tenure</th>\n",
              "    </tr>\n",
              "  </thead>\n",
              "  <tbody>\n",
              "    <tr>\n",
              "      <th>0</th>\n",
              "      <td>113558</td>\n",
              "      <td>43</td>\n",
              "      <td>Male</td>\n",
              "      <td>Married</td>\n",
              "      <td>111.0</td>\n",
              "      <td>D00-PR</td>\n",
              "      <td>0.753977</td>\n",
              "      <td>5</td>\n",
              "      <td>medium</td>\n",
              "      <td>0.921208</td>\n",
              "      <td>Employed</td>\n",
              "      <td>4.0</td>\n",
              "    </tr>\n",
              "    <tr>\n",
              "      <th>1</th>\n",
              "      <td>112256</td>\n",
              "      <td>24</td>\n",
              "      <td>Female</td>\n",
              "      <td>Unmarried</td>\n",
              "      <td>201.0</td>\n",
              "      <td>D00-MN</td>\n",
              "      <td>0.964453</td>\n",
              "      <td>3</td>\n",
              "      <td>medium</td>\n",
              "      <td>0.568479</td>\n",
              "      <td>Employed</td>\n",
              "      <td>3.0</td>\n",
              "    </tr>\n",
              "    <tr>\n",
              "      <th>2</th>\n",
              "      <td>112586</td>\n",
              "      <td>22</td>\n",
              "      <td>Female</td>\n",
              "      <td>Unmarried</td>\n",
              "      <td>239.0</td>\n",
              "      <td>D00-SS</td>\n",
              "      <td>0.756458</td>\n",
              "      <td>3</td>\n",
              "      <td>low</td>\n",
              "      <td>0.144812</td>\n",
              "      <td>Employed</td>\n",
              "      <td>6.0</td>\n",
              "    </tr>\n",
              "    <tr>\n",
              "      <th>3</th>\n",
              "      <td>108071</td>\n",
              "      <td>36</td>\n",
              "      <td>Male</td>\n",
              "      <td>Married</td>\n",
              "      <td>151.0</td>\n",
              "      <td>D00-PR</td>\n",
              "      <td>0.608282</td>\n",
              "      <td>5</td>\n",
              "      <td>medium</td>\n",
              "      <td>0.210300</td>\n",
              "      <td>Employed</td>\n",
              "      <td>6.0</td>\n",
              "    </tr>\n",
              "    <tr>\n",
              "      <th>4</th>\n",
              "      <td>116915</td>\n",
              "      <td>38</td>\n",
              "      <td>Male</td>\n",
              "      <td>Married</td>\n",
              "      <td>259.0</td>\n",
              "      <td>D00-IT</td>\n",
              "      <td>0.749206</td>\n",
              "      <td>4</td>\n",
              "      <td>medium</td>\n",
              "      <td>0.888514</td>\n",
              "      <td>Employed</td>\n",
              "      <td>3.0</td>\n",
              "    </tr>\n",
              "  </tbody>\n",
              "</table>\n",
              "</div>\n",
              "      <button class=\"colab-df-convert\" onclick=\"convertToInteractive('df-ecce5358-2296-438f-afe5-a5676397a32e')\"\n",
              "              title=\"Convert this dataframe to an interactive table.\"\n",
              "              style=\"display:none;\">\n",
              "        \n",
              "  <svg xmlns=\"http://www.w3.org/2000/svg\" height=\"24px\"viewBox=\"0 0 24 24\"\n",
              "       width=\"24px\">\n",
              "    <path d=\"M0 0h24v24H0V0z\" fill=\"none\"/>\n",
              "    <path d=\"M18.56 5.44l.94 2.06.94-2.06 2.06-.94-2.06-.94-.94-2.06-.94 2.06-2.06.94zm-11 1L8.5 8.5l.94-2.06 2.06-.94-2.06-.94L8.5 2.5l-.94 2.06-2.06.94zm10 10l.94 2.06.94-2.06 2.06-.94-2.06-.94-.94-2.06-.94 2.06-2.06.94z\"/><path d=\"M17.41 7.96l-1.37-1.37c-.4-.4-.92-.59-1.43-.59-.52 0-1.04.2-1.43.59L10.3 9.45l-7.72 7.72c-.78.78-.78 2.05 0 2.83L4 21.41c.39.39.9.59 1.41.59.51 0 1.02-.2 1.41-.59l7.78-7.78 2.81-2.81c.8-.78.8-2.07 0-2.86zM5.41 20L4 18.59l7.72-7.72 1.47 1.35L5.41 20z\"/>\n",
              "  </svg>\n",
              "      </button>\n",
              "      \n",
              "  <style>\n",
              "    .colab-df-container {\n",
              "      display:flex;\n",
              "      flex-wrap:wrap;\n",
              "      gap: 12px;\n",
              "    }\n",
              "\n",
              "    .colab-df-convert {\n",
              "      background-color: #E8F0FE;\n",
              "      border: none;\n",
              "      border-radius: 50%;\n",
              "      cursor: pointer;\n",
              "      display: none;\n",
              "      fill: #1967D2;\n",
              "      height: 32px;\n",
              "      padding: 0 0 0 0;\n",
              "      width: 32px;\n",
              "    }\n",
              "\n",
              "    .colab-df-convert:hover {\n",
              "      background-color: #E2EBFA;\n",
              "      box-shadow: 0px 1px 2px rgba(60, 64, 67, 0.3), 0px 1px 3px 1px rgba(60, 64, 67, 0.15);\n",
              "      fill: #174EA6;\n",
              "    }\n",
              "\n",
              "    [theme=dark] .colab-df-convert {\n",
              "      background-color: #3B4455;\n",
              "      fill: #D2E3FC;\n",
              "    }\n",
              "\n",
              "    [theme=dark] .colab-df-convert:hover {\n",
              "      background-color: #434B5C;\n",
              "      box-shadow: 0px 1px 3px 1px rgba(0, 0, 0, 0.15);\n",
              "      filter: drop-shadow(0px 1px 2px rgba(0, 0, 0, 0.3));\n",
              "      fill: #FFFFFF;\n",
              "    }\n",
              "  </style>\n",
              "\n",
              "      <script>\n",
              "        const buttonEl =\n",
              "          document.querySelector('#df-ecce5358-2296-438f-afe5-a5676397a32e button.colab-df-convert');\n",
              "        buttonEl.style.display =\n",
              "          google.colab.kernel.accessAllowed ? 'block' : 'none';\n",
              "\n",
              "        async function convertToInteractive(key) {\n",
              "          const element = document.querySelector('#df-ecce5358-2296-438f-afe5-a5676397a32e');\n",
              "          const dataTable =\n",
              "            await google.colab.kernel.invokeFunction('convertToInteractive',\n",
              "                                                     [key], {});\n",
              "          if (!dataTable) return;\n",
              "\n",
              "          const docLinkHtml = 'Like what you see? Visit the ' +\n",
              "            '<a target=\"_blank\" href=https://colab.research.google.com/notebooks/data_table.ipynb>data table notebook</a>'\n",
              "            + ' to learn more about interactive tables.';\n",
              "          element.innerHTML = '';\n",
              "          dataTable['output_type'] = 'display_data';\n",
              "          await google.colab.output.renderOutput(dataTable, element);\n",
              "          const docLink = document.createElement('div');\n",
              "          docLink.innerHTML = docLinkHtml;\n",
              "          element.appendChild(docLink);\n",
              "        }\n",
              "      </script>\n",
              "    </div>\n",
              "  </div>\n",
              "  "
            ]
          },
          "metadata": {},
          "execution_count": 29
        }
      ],
      "source": [
        "df_employeeDetails = pd.merge(df_employeeDetailsData, df_employeeData, on='employee_id', how='inner')\n",
        "df_employeeDetails.head()"
      ]
    },
    {
      "cell_type": "code",
      "execution_count": 30,
      "metadata": {
        "id": "5IE8xH4wMJ3c",
        "colab": {
          "base_uri": "https://localhost:8080/",
          "height": 270
        },
        "outputId": "c84692ec-0782-4659-e2f4-ffbc1d6da434"
      },
      "outputs": [
        {
          "output_type": "execute_result",
          "data": {
            "text/plain": [
              "   employee_id  age gender marital_status  avg_monthly_hrs department  \\\n",
              "0       113558   43   Male        Married            111.0     D00-PR   \n",
              "1       108071   36   Male        Married            151.0     D00-PR   \n",
              "2       110888   42   Male        Married            152.0     D00-PR   \n",
              "3       115694   26   Male      Unmarried            167.0     D00-PR   \n",
              "4       107767   43   Male        Married            174.0     D00-PR   \n",
              "\n",
              "   last_evaluation  n_projects  salary  satisfaction    status  tenure  \\\n",
              "0         0.753977           5  medium      0.921208  Employed     4.0   \n",
              "1         0.608282           5  medium      0.210300  Employed     6.0   \n",
              "2         0.673508           6  medium      0.720369  Employed     3.0   \n",
              "3         0.874656           3  medium      0.575996  Employed     4.0   \n",
              "4         0.634783           5  medium      0.208138  Employed     5.0   \n",
              "\n",
              "  dept_id    dept_name    dept_head  \n",
              "0  D00-PR  Procurement  Louie Viles  \n",
              "1  D00-PR  Procurement  Louie Viles  \n",
              "2  D00-PR  Procurement  Louie Viles  \n",
              "3  D00-PR  Procurement  Louie Viles  \n",
              "4  D00-PR  Procurement  Louie Viles  "
            ],
            "text/html": [
              "\n",
              "  <div id=\"df-f9811653-f9ad-4747-9fd5-e568f6d38282\">\n",
              "    <div class=\"colab-df-container\">\n",
              "      <div>\n",
              "<style scoped>\n",
              "    .dataframe tbody tr th:only-of-type {\n",
              "        vertical-align: middle;\n",
              "    }\n",
              "\n",
              "    .dataframe tbody tr th {\n",
              "        vertical-align: top;\n",
              "    }\n",
              "\n",
              "    .dataframe thead th {\n",
              "        text-align: right;\n",
              "    }\n",
              "</style>\n",
              "<table border=\"1\" class=\"dataframe\">\n",
              "  <thead>\n",
              "    <tr style=\"text-align: right;\">\n",
              "      <th></th>\n",
              "      <th>employee_id</th>\n",
              "      <th>age</th>\n",
              "      <th>gender</th>\n",
              "      <th>marital_status</th>\n",
              "      <th>avg_monthly_hrs</th>\n",
              "      <th>department</th>\n",
              "      <th>last_evaluation</th>\n",
              "      <th>n_projects</th>\n",
              "      <th>salary</th>\n",
              "      <th>satisfaction</th>\n",
              "      <th>status</th>\n",
              "      <th>tenure</th>\n",
              "      <th>dept_id</th>\n",
              "      <th>dept_name</th>\n",
              "      <th>dept_head</th>\n",
              "    </tr>\n",
              "  </thead>\n",
              "  <tbody>\n",
              "    <tr>\n",
              "      <th>0</th>\n",
              "      <td>113558</td>\n",
              "      <td>43</td>\n",
              "      <td>Male</td>\n",
              "      <td>Married</td>\n",
              "      <td>111.0</td>\n",
              "      <td>D00-PR</td>\n",
              "      <td>0.753977</td>\n",
              "      <td>5</td>\n",
              "      <td>medium</td>\n",
              "      <td>0.921208</td>\n",
              "      <td>Employed</td>\n",
              "      <td>4.0</td>\n",
              "      <td>D00-PR</td>\n",
              "      <td>Procurement</td>\n",
              "      <td>Louie Viles</td>\n",
              "    </tr>\n",
              "    <tr>\n",
              "      <th>1</th>\n",
              "      <td>108071</td>\n",
              "      <td>36</td>\n",
              "      <td>Male</td>\n",
              "      <td>Married</td>\n",
              "      <td>151.0</td>\n",
              "      <td>D00-PR</td>\n",
              "      <td>0.608282</td>\n",
              "      <td>5</td>\n",
              "      <td>medium</td>\n",
              "      <td>0.210300</td>\n",
              "      <td>Employed</td>\n",
              "      <td>6.0</td>\n",
              "      <td>D00-PR</td>\n",
              "      <td>Procurement</td>\n",
              "      <td>Louie Viles</td>\n",
              "    </tr>\n",
              "    <tr>\n",
              "      <th>2</th>\n",
              "      <td>110888</td>\n",
              "      <td>42</td>\n",
              "      <td>Male</td>\n",
              "      <td>Married</td>\n",
              "      <td>152.0</td>\n",
              "      <td>D00-PR</td>\n",
              "      <td>0.673508</td>\n",
              "      <td>6</td>\n",
              "      <td>medium</td>\n",
              "      <td>0.720369</td>\n",
              "      <td>Employed</td>\n",
              "      <td>3.0</td>\n",
              "      <td>D00-PR</td>\n",
              "      <td>Procurement</td>\n",
              "      <td>Louie Viles</td>\n",
              "    </tr>\n",
              "    <tr>\n",
              "      <th>3</th>\n",
              "      <td>115694</td>\n",
              "      <td>26</td>\n",
              "      <td>Male</td>\n",
              "      <td>Unmarried</td>\n",
              "      <td>167.0</td>\n",
              "      <td>D00-PR</td>\n",
              "      <td>0.874656</td>\n",
              "      <td>3</td>\n",
              "      <td>medium</td>\n",
              "      <td>0.575996</td>\n",
              "      <td>Employed</td>\n",
              "      <td>4.0</td>\n",
              "      <td>D00-PR</td>\n",
              "      <td>Procurement</td>\n",
              "      <td>Louie Viles</td>\n",
              "    </tr>\n",
              "    <tr>\n",
              "      <th>4</th>\n",
              "      <td>107767</td>\n",
              "      <td>43</td>\n",
              "      <td>Male</td>\n",
              "      <td>Married</td>\n",
              "      <td>174.0</td>\n",
              "      <td>D00-PR</td>\n",
              "      <td>0.634783</td>\n",
              "      <td>5</td>\n",
              "      <td>medium</td>\n",
              "      <td>0.208138</td>\n",
              "      <td>Employed</td>\n",
              "      <td>5.0</td>\n",
              "      <td>D00-PR</td>\n",
              "      <td>Procurement</td>\n",
              "      <td>Louie Viles</td>\n",
              "    </tr>\n",
              "  </tbody>\n",
              "</table>\n",
              "</div>\n",
              "      <button class=\"colab-df-convert\" onclick=\"convertToInteractive('df-f9811653-f9ad-4747-9fd5-e568f6d38282')\"\n",
              "              title=\"Convert this dataframe to an interactive table.\"\n",
              "              style=\"display:none;\">\n",
              "        \n",
              "  <svg xmlns=\"http://www.w3.org/2000/svg\" height=\"24px\"viewBox=\"0 0 24 24\"\n",
              "       width=\"24px\">\n",
              "    <path d=\"M0 0h24v24H0V0z\" fill=\"none\"/>\n",
              "    <path d=\"M18.56 5.44l.94 2.06.94-2.06 2.06-.94-2.06-.94-.94-2.06-.94 2.06-2.06.94zm-11 1L8.5 8.5l.94-2.06 2.06-.94-2.06-.94L8.5 2.5l-.94 2.06-2.06.94zm10 10l.94 2.06.94-2.06 2.06-.94-2.06-.94-.94-2.06-.94 2.06-2.06.94z\"/><path d=\"M17.41 7.96l-1.37-1.37c-.4-.4-.92-.59-1.43-.59-.52 0-1.04.2-1.43.59L10.3 9.45l-7.72 7.72c-.78.78-.78 2.05 0 2.83L4 21.41c.39.39.9.59 1.41.59.51 0 1.02-.2 1.41-.59l7.78-7.78 2.81-2.81c.8-.78.8-2.07 0-2.86zM5.41 20L4 18.59l7.72-7.72 1.47 1.35L5.41 20z\"/>\n",
              "  </svg>\n",
              "      </button>\n",
              "      \n",
              "  <style>\n",
              "    .colab-df-container {\n",
              "      display:flex;\n",
              "      flex-wrap:wrap;\n",
              "      gap: 12px;\n",
              "    }\n",
              "\n",
              "    .colab-df-convert {\n",
              "      background-color: #E8F0FE;\n",
              "      border: none;\n",
              "      border-radius: 50%;\n",
              "      cursor: pointer;\n",
              "      display: none;\n",
              "      fill: #1967D2;\n",
              "      height: 32px;\n",
              "      padding: 0 0 0 0;\n",
              "      width: 32px;\n",
              "    }\n",
              "\n",
              "    .colab-df-convert:hover {\n",
              "      background-color: #E2EBFA;\n",
              "      box-shadow: 0px 1px 2px rgba(60, 64, 67, 0.3), 0px 1px 3px 1px rgba(60, 64, 67, 0.15);\n",
              "      fill: #174EA6;\n",
              "    }\n",
              "\n",
              "    [theme=dark] .colab-df-convert {\n",
              "      background-color: #3B4455;\n",
              "      fill: #D2E3FC;\n",
              "    }\n",
              "\n",
              "    [theme=dark] .colab-df-convert:hover {\n",
              "      background-color: #434B5C;\n",
              "      box-shadow: 0px 1px 3px 1px rgba(0, 0, 0, 0.15);\n",
              "      filter: drop-shadow(0px 1px 2px rgba(0, 0, 0, 0.3));\n",
              "      fill: #FFFFFF;\n",
              "    }\n",
              "  </style>\n",
              "\n",
              "      <script>\n",
              "        const buttonEl =\n",
              "          document.querySelector('#df-f9811653-f9ad-4747-9fd5-e568f6d38282 button.colab-df-convert');\n",
              "        buttonEl.style.display =\n",
              "          google.colab.kernel.accessAllowed ? 'block' : 'none';\n",
              "\n",
              "        async function convertToInteractive(key) {\n",
              "          const element = document.querySelector('#df-f9811653-f9ad-4747-9fd5-e568f6d38282');\n",
              "          const dataTable =\n",
              "            await google.colab.kernel.invokeFunction('convertToInteractive',\n",
              "                                                     [key], {});\n",
              "          if (!dataTable) return;\n",
              "\n",
              "          const docLinkHtml = 'Like what you see? Visit the ' +\n",
              "            '<a target=\"_blank\" href=https://colab.research.google.com/notebooks/data_table.ipynb>data table notebook</a>'\n",
              "            + ' to learn more about interactive tables.';\n",
              "          element.innerHTML = '';\n",
              "          dataTable['output_type'] = 'display_data';\n",
              "          await google.colab.output.renderOutput(dataTable, element);\n",
              "          const docLink = document.createElement('div');\n",
              "          docLink.innerHTML = docLinkHtml;\n",
              "          element.appendChild(docLink);\n",
              "        }\n",
              "      </script>\n",
              "    </div>\n",
              "  </div>\n",
              "  "
            ]
          },
          "metadata": {},
          "execution_count": 30
        }
      ],
      "source": [
        "df_final = pd.merge(df_employeeDetails, df_departmentData, left_on='department', right_on='dept_id', how='inner')\n",
        "df_final.head()"
      ]
    },
    {
      "cell_type": "code",
      "execution_count": 31,
      "metadata": {
        "id": "uD-b169eBlvl",
        "colab": {
          "base_uri": "https://localhost:8080/"
        },
        "outputId": "0be2d732-5c72-4bfb-e3b3-2e9e15c97729"
      },
      "outputs": [
        {
          "output_type": "execute_result",
          "data": {
            "text/plain": [
              "(13439, 15)"
            ]
          },
          "metadata": {},
          "execution_count": 31
        }
      ],
      "source": [
        "df_final.shape"
      ]
    },
    {
      "cell_type": "code",
      "execution_count": 32,
      "metadata": {
        "id": "CRuyeLYZBNhC",
        "colab": {
          "base_uri": "https://localhost:8080/",
          "height": 300
        },
        "outputId": "606b0755-dc94-424f-f6b7-8a8d92df61d2"
      },
      "outputs": [
        {
          "output_type": "execute_result",
          "data": {
            "text/plain": [
              "         employee_id           age  avg_monthly_hrs  last_evaluation  \\\n",
              "count   13439.000000  13439.000000     13439.000000     12018.000000   \n",
              "mean   112115.324801     32.934593       200.039140         0.718452   \n",
              "std      8489.198037      9.980176        50.844631         0.173011   \n",
              "min    100101.000000     22.000000        49.000000         0.316175   \n",
              "25%    105787.500000     24.000000       155.000000         0.564244   \n",
              "50%    111299.000000     29.000000       199.000000         0.723793   \n",
              "75%    116649.000000     41.000000       245.000000         0.871643   \n",
              "max    148988.000000     57.000000       310.000000         1.000000   \n",
              "\n",
              "         n_projects  satisfaction        tenure  \n",
              "count  13439.000000  13289.000000  13289.000000  \n",
              "mean       3.783466      0.622181      3.506208  \n",
              "std        1.250447      0.250428      1.475868  \n",
              "min        1.000000      0.040058      2.000000  \n",
              "25%        3.000000      0.451732      3.000000  \n",
              "50%        4.000000      0.653898      3.000000  \n",
              "75%        5.000000      0.825661      4.000000  \n",
              "max        7.000000      1.000000     10.000000  "
            ],
            "text/html": [
              "\n",
              "  <div id=\"df-ce010e2c-d916-418d-a54d-d00b4a05c8f7\">\n",
              "    <div class=\"colab-df-container\">\n",
              "      <div>\n",
              "<style scoped>\n",
              "    .dataframe tbody tr th:only-of-type {\n",
              "        vertical-align: middle;\n",
              "    }\n",
              "\n",
              "    .dataframe tbody tr th {\n",
              "        vertical-align: top;\n",
              "    }\n",
              "\n",
              "    .dataframe thead th {\n",
              "        text-align: right;\n",
              "    }\n",
              "</style>\n",
              "<table border=\"1\" class=\"dataframe\">\n",
              "  <thead>\n",
              "    <tr style=\"text-align: right;\">\n",
              "      <th></th>\n",
              "      <th>employee_id</th>\n",
              "      <th>age</th>\n",
              "      <th>avg_monthly_hrs</th>\n",
              "      <th>last_evaluation</th>\n",
              "      <th>n_projects</th>\n",
              "      <th>satisfaction</th>\n",
              "      <th>tenure</th>\n",
              "    </tr>\n",
              "  </thead>\n",
              "  <tbody>\n",
              "    <tr>\n",
              "      <th>count</th>\n",
              "      <td>13439.000000</td>\n",
              "      <td>13439.000000</td>\n",
              "      <td>13439.000000</td>\n",
              "      <td>12018.000000</td>\n",
              "      <td>13439.000000</td>\n",
              "      <td>13289.000000</td>\n",
              "      <td>13289.000000</td>\n",
              "    </tr>\n",
              "    <tr>\n",
              "      <th>mean</th>\n",
              "      <td>112115.324801</td>\n",
              "      <td>32.934593</td>\n",
              "      <td>200.039140</td>\n",
              "      <td>0.718452</td>\n",
              "      <td>3.783466</td>\n",
              "      <td>0.622181</td>\n",
              "      <td>3.506208</td>\n",
              "    </tr>\n",
              "    <tr>\n",
              "      <th>std</th>\n",
              "      <td>8489.198037</td>\n",
              "      <td>9.980176</td>\n",
              "      <td>50.844631</td>\n",
              "      <td>0.173011</td>\n",
              "      <td>1.250447</td>\n",
              "      <td>0.250428</td>\n",
              "      <td>1.475868</td>\n",
              "    </tr>\n",
              "    <tr>\n",
              "      <th>min</th>\n",
              "      <td>100101.000000</td>\n",
              "      <td>22.000000</td>\n",
              "      <td>49.000000</td>\n",
              "      <td>0.316175</td>\n",
              "      <td>1.000000</td>\n",
              "      <td>0.040058</td>\n",
              "      <td>2.000000</td>\n",
              "    </tr>\n",
              "    <tr>\n",
              "      <th>25%</th>\n",
              "      <td>105787.500000</td>\n",
              "      <td>24.000000</td>\n",
              "      <td>155.000000</td>\n",
              "      <td>0.564244</td>\n",
              "      <td>3.000000</td>\n",
              "      <td>0.451732</td>\n",
              "      <td>3.000000</td>\n",
              "    </tr>\n",
              "    <tr>\n",
              "      <th>50%</th>\n",
              "      <td>111299.000000</td>\n",
              "      <td>29.000000</td>\n",
              "      <td>199.000000</td>\n",
              "      <td>0.723793</td>\n",
              "      <td>4.000000</td>\n",
              "      <td>0.653898</td>\n",
              "      <td>3.000000</td>\n",
              "    </tr>\n",
              "    <tr>\n",
              "      <th>75%</th>\n",
              "      <td>116649.000000</td>\n",
              "      <td>41.000000</td>\n",
              "      <td>245.000000</td>\n",
              "      <td>0.871643</td>\n",
              "      <td>5.000000</td>\n",
              "      <td>0.825661</td>\n",
              "      <td>4.000000</td>\n",
              "    </tr>\n",
              "    <tr>\n",
              "      <th>max</th>\n",
              "      <td>148988.000000</td>\n",
              "      <td>57.000000</td>\n",
              "      <td>310.000000</td>\n",
              "      <td>1.000000</td>\n",
              "      <td>7.000000</td>\n",
              "      <td>1.000000</td>\n",
              "      <td>10.000000</td>\n",
              "    </tr>\n",
              "  </tbody>\n",
              "</table>\n",
              "</div>\n",
              "      <button class=\"colab-df-convert\" onclick=\"convertToInteractive('df-ce010e2c-d916-418d-a54d-d00b4a05c8f7')\"\n",
              "              title=\"Convert this dataframe to an interactive table.\"\n",
              "              style=\"display:none;\">\n",
              "        \n",
              "  <svg xmlns=\"http://www.w3.org/2000/svg\" height=\"24px\"viewBox=\"0 0 24 24\"\n",
              "       width=\"24px\">\n",
              "    <path d=\"M0 0h24v24H0V0z\" fill=\"none\"/>\n",
              "    <path d=\"M18.56 5.44l.94 2.06.94-2.06 2.06-.94-2.06-.94-.94-2.06-.94 2.06-2.06.94zm-11 1L8.5 8.5l.94-2.06 2.06-.94-2.06-.94L8.5 2.5l-.94 2.06-2.06.94zm10 10l.94 2.06.94-2.06 2.06-.94-2.06-.94-.94-2.06-.94 2.06-2.06.94z\"/><path d=\"M17.41 7.96l-1.37-1.37c-.4-.4-.92-.59-1.43-.59-.52 0-1.04.2-1.43.59L10.3 9.45l-7.72 7.72c-.78.78-.78 2.05 0 2.83L4 21.41c.39.39.9.59 1.41.59.51 0 1.02-.2 1.41-.59l7.78-7.78 2.81-2.81c.8-.78.8-2.07 0-2.86zM5.41 20L4 18.59l7.72-7.72 1.47 1.35L5.41 20z\"/>\n",
              "  </svg>\n",
              "      </button>\n",
              "      \n",
              "  <style>\n",
              "    .colab-df-container {\n",
              "      display:flex;\n",
              "      flex-wrap:wrap;\n",
              "      gap: 12px;\n",
              "    }\n",
              "\n",
              "    .colab-df-convert {\n",
              "      background-color: #E8F0FE;\n",
              "      border: none;\n",
              "      border-radius: 50%;\n",
              "      cursor: pointer;\n",
              "      display: none;\n",
              "      fill: #1967D2;\n",
              "      height: 32px;\n",
              "      padding: 0 0 0 0;\n",
              "      width: 32px;\n",
              "    }\n",
              "\n",
              "    .colab-df-convert:hover {\n",
              "      background-color: #E2EBFA;\n",
              "      box-shadow: 0px 1px 2px rgba(60, 64, 67, 0.3), 0px 1px 3px 1px rgba(60, 64, 67, 0.15);\n",
              "      fill: #174EA6;\n",
              "    }\n",
              "\n",
              "    [theme=dark] .colab-df-convert {\n",
              "      background-color: #3B4455;\n",
              "      fill: #D2E3FC;\n",
              "    }\n",
              "\n",
              "    [theme=dark] .colab-df-convert:hover {\n",
              "      background-color: #434B5C;\n",
              "      box-shadow: 0px 1px 3px 1px rgba(0, 0, 0, 0.15);\n",
              "      filter: drop-shadow(0px 1px 2px rgba(0, 0, 0, 0.3));\n",
              "      fill: #FFFFFF;\n",
              "    }\n",
              "  </style>\n",
              "\n",
              "      <script>\n",
              "        const buttonEl =\n",
              "          document.querySelector('#df-ce010e2c-d916-418d-a54d-d00b4a05c8f7 button.colab-df-convert');\n",
              "        buttonEl.style.display =\n",
              "          google.colab.kernel.accessAllowed ? 'block' : 'none';\n",
              "\n",
              "        async function convertToInteractive(key) {\n",
              "          const element = document.querySelector('#df-ce010e2c-d916-418d-a54d-d00b4a05c8f7');\n",
              "          const dataTable =\n",
              "            await google.colab.kernel.invokeFunction('convertToInteractive',\n",
              "                                                     [key], {});\n",
              "          if (!dataTable) return;\n",
              "\n",
              "          const docLinkHtml = 'Like what you see? Visit the ' +\n",
              "            '<a target=\"_blank\" href=https://colab.research.google.com/notebooks/data_table.ipynb>data table notebook</a>'\n",
              "            + ' to learn more about interactive tables.';\n",
              "          element.innerHTML = '';\n",
              "          dataTable['output_type'] = 'display_data';\n",
              "          await google.colab.output.renderOutput(dataTable, element);\n",
              "          const docLink = document.createElement('div');\n",
              "          docLink.innerHTML = docLinkHtml;\n",
              "          element.appendChild(docLink);\n",
              "        }\n",
              "      </script>\n",
              "    </div>\n",
              "  </div>\n",
              "  "
            ]
          },
          "metadata": {},
          "execution_count": 32
        }
      ],
      "source": [
        "df_final.describe()"
      ]
    },
    {
      "cell_type": "code",
      "execution_count": 33,
      "metadata": {
        "id": "6TDr5p8PBh9U",
        "colab": {
          "base_uri": "https://localhost:8080/"
        },
        "outputId": "cdc59081-8d02-4039-fda9-3b884eb5135f"
      },
      "outputs": [
        {
          "output_type": "stream",
          "name": "stdout",
          "text": [
            "<class 'pandas.core.frame.DataFrame'>\n",
            "Int64Index: 13439 entries, 0 to 13438\n",
            "Data columns (total 15 columns):\n",
            " #   Column           Non-Null Count  Dtype  \n",
            "---  ------           --------------  -----  \n",
            " 0   employee_id      13439 non-null  int64  \n",
            " 1   age              13439 non-null  int64  \n",
            " 2   gender           13439 non-null  object \n",
            " 3   marital_status   13439 non-null  object \n",
            " 4   avg_monthly_hrs  13439 non-null  float64\n",
            " 5   department       13439 non-null  object \n",
            " 6   last_evaluation  12018 non-null  float64\n",
            " 7   n_projects       13439 non-null  int64  \n",
            " 8   salary           13439 non-null  object \n",
            " 9   satisfaction     13289 non-null  float64\n",
            " 10  status           13439 non-null  object \n",
            " 11  tenure           13289 non-null  float64\n",
            " 12  dept_id          13439 non-null  object \n",
            " 13  dept_name        13439 non-null  object \n",
            " 14  dept_head        13439 non-null  object \n",
            "dtypes: float64(4), int64(3), object(8)\n",
            "memory usage: 1.6+ MB\n"
          ]
        }
      ],
      "source": [
        "df_final.info()"
      ]
    },
    {
      "cell_type": "markdown",
      "metadata": {
        "id": "0vemcj6vZlIp"
      },
      "source": [
        "__We'll drop the column \"department\" because \"department\" and \"dept_id are having same values\"__"
      ]
    },
    {
      "cell_type": "code",
      "execution_count": 34,
      "metadata": {
        "id": "jrLdtKH0ZkXi"
      },
      "outputs": [],
      "source": [
        "df_final.drop(['department'], axis=1, inplace = True)"
      ]
    },
    {
      "cell_type": "code",
      "execution_count": 35,
      "metadata": {
        "id": "ktdT6ibSBjrH",
        "colab": {
          "base_uri": "https://localhost:8080/"
        },
        "outputId": "880e3bf7-4928-40f2-b6b6-599c1ea43d13"
      },
      "outputs": [
        {
          "output_type": "execute_result",
          "data": {
            "text/plain": [
              "last_evaluation    10.739117\n",
              "satisfaction        1.133615\n",
              "tenure              1.133615\n",
              "employee_id         0.000000\n",
              "age                 0.000000\n",
              "gender              0.000000\n",
              "marital_status      0.000000\n",
              "avg_monthly_hrs     0.000000\n",
              "n_projects          0.000000\n",
              "salary              0.000000\n",
              "status              0.000000\n",
              "dept_id             0.000000\n",
              "dept_name           0.000000\n",
              "dept_head           0.000000\n",
              "dtype: float64"
            ]
          },
          "metadata": {},
          "execution_count": 35
        }
      ],
      "source": [
        "# check the missing value percentage for the final dataset\n",
        "\n",
        "df_final.isnull().sum().sort_values(ascending=False)*100/13232"
      ]
    },
    {
      "cell_type": "code",
      "execution_count": 36,
      "metadata": {
        "id": "64Zw5WEnfQ7r",
        "colab": {
          "base_uri": "https://localhost:8080/",
          "height": 280
        },
        "outputId": "2a503ed1-10c8-4e7e-fe91-3195eb73d262"
      },
      "outputs": [
        {
          "output_type": "display_data",
          "data": {
            "text/plain": [
              "<Figure size 432x288 with 1 Axes>"
            ],
            "image/png": "[encoded data removed]"
          },
          "metadata": {
            "needs_background": "light"
          }
        }
      ],
      "source": [
        "# Is my data normally distributed for last_evaluation column ?\n",
        "\n",
        "sns.distplot(df_final.last_evaluation, color='m')\n",
        "plt.axvline(df_final.last_evaluation.mean(), color='b')\n",
        "plt.axvline(df_final.last_evaluation.median(), color='r')\n",
        "plt.show()"
      ]
    },
    {
      "cell_type": "code",
      "execution_count": 37,
      "metadata": {
        "id": "Zt0mhH6rfoFn",
        "colab": {
          "base_uri": "https://localhost:8080/",
          "height": 279
        },
        "outputId": "81f63a6f-072f-4843-91e2-b5b9b8ce2664"
      },
      "outputs": [
        {
          "output_type": "display_data",
          "data": {
            "text/plain": [
              "<Figure size 432x288 with 1 Axes>"
            ],
            "image/png": "[encoded data removed]"
          },
          "metadata": {
            "needs_background": "light"
          }
        }
      ],
      "source": [
        "# Is my data normally distributed for satisfaction column ?\n",
        "\n",
        "sns.distplot(df_final.satisfaction, color='m')\n",
        "plt.axvline(df_final.satisfaction.mean(), color='b')\n",
        "plt.axvline(df_final.satisfaction.median(), color='r')\n",
        "plt.show()"
      ]
    },
    {
      "cell_type": "code",
      "execution_count": 38,
      "metadata": {
        "id": "dxtIjBh0gIPp",
        "colab": {
          "base_uri": "https://localhost:8080/",
          "height": 279
        },
        "outputId": "0977ef8e-bad2-46ed-fa48-58bb6714b4ec"
      },
      "outputs": [
        {
          "output_type": "display_data",
          "data": {
            "text/plain": [
              "<Figure size 432x288 with 1 Axes>"
            ],
            "image/png": "[encoded data removed]"
          },
          "metadata": {
            "needs_background": "light"
          }
        }
      ],
      "source": [
        "# Is my data normally distributed for tenure column ?\n",
        "\n",
        "sns.distplot(df_final.tenure, color='m')\n",
        "plt.axvline(df_final.tenure.mean(), color='b')\n",
        "plt.axvline(df_final.tenure.median(), color='r')\n",
        "plt.show()"
      ]
    },
    {
      "cell_type": "code",
      "execution_count": 39,
      "metadata": {
        "id": "db0Q4VIHgP2_",
        "colab": {
          "base_uri": "https://localhost:8080/"
        },
        "outputId": "28049cc2-fd4a-4689-adac-14af45245ee6"
      },
      "outputs": [
        {
          "output_type": "execute_result",
          "data": {
            "text/plain": [
              "(13439, 14)"
            ]
          },
          "metadata": {},
          "execution_count": 39
        }
      ],
      "source": [
        "# filling the missing values in \"last_evaluation\" by mean.\n",
        "df_final.last_evaluation.fillna(df_final.last_evaluation.mean(), inplace=True)\n",
        "\n",
        "# filling the missing values in \"satisfaction\" by mean.\n",
        "df_final.satisfaction.fillna(df_final.satisfaction.mean(), inplace=True)\n",
        "\n",
        "# filling the missing values in \"tenure\" by median.\n",
        "df_final.tenure.fillna(df_final.tenure.median(), inplace=True)\n",
        "\n",
        "df_final.shape"
      ]
    },
    {
      "cell_type": "code",
      "execution_count": 40,
      "metadata": {
        "id": "ld0lIQ6qmVr0",
        "colab": {
          "base_uri": "https://localhost:8080/"
        },
        "outputId": "3bd638ea-7a7f-470e-c70a-817060359c7a"
      },
      "outputs": [
        {
          "output_type": "execute_result",
          "data": {
            "text/plain": [
              "employee_id        29\n",
              "age                29\n",
              "gender             29\n",
              "marital_status     29\n",
              "avg_monthly_hrs    29\n",
              "last_evaluation    29\n",
              "n_projects         29\n",
              "salary             29\n",
              "satisfaction       29\n",
              "status             29\n",
              "tenure             29\n",
              "dept_id            29\n",
              "dept_name          29\n",
              "dept_head          29\n",
              "dtype: int64"
            ]
          },
          "metadata": {},
          "execution_count": 40
        }
      ],
      "source": [
        "# checking for duplicate data in the final dataset\n",
        "\n",
        "df_final[df_final.duplicated()].count()"
      ]
    },
    {
      "cell_type": "code",
      "execution_count": 41,
      "metadata": {
        "id": "qzszwWTXmZxU",
        "colab": {
          "base_uri": "https://localhost:8080/"
        },
        "outputId": "36b3a0db-ceb2-4436-f919-e54689ec8993"
      },
      "outputs": [
        {
          "output_type": "execute_result",
          "data": {
            "text/plain": [
              "(13410, 14)"
            ]
          },
          "metadata": {},
          "execution_count": 41
        }
      ],
      "source": [
        "# drop the duplicate data\n",
        "\n",
        "df_final.drop_duplicates(inplace = True,keep='first')\n",
        "df_final.shape"
      ]
    },
    {
      "cell_type": "code",
      "execution_count": 42,
      "metadata": {
        "id": "2q8cU12xmj8c",
        "colab": {
          "base_uri": "https://localhost:8080/"
        },
        "outputId": "372b638d-c584-4373-adc0-1cdff5ebe050"
      },
      "outputs": [
        {
          "output_type": "execute_result",
          "data": {
            "text/plain": [
              "employee_id        0\n",
              "age                0\n",
              "gender             0\n",
              "marital_status     0\n",
              "avg_monthly_hrs    0\n",
              "last_evaluation    0\n",
              "n_projects         0\n",
              "salary             0\n",
              "satisfaction       0\n",
              "status             0\n",
              "tenure             0\n",
              "dept_id            0\n",
              "dept_name          0\n",
              "dept_head          0\n",
              "dtype: int64"
            ]
          },
          "metadata": {},
          "execution_count": 42
        }
      ],
      "source": [
        "df_final.isnull().sum().sort_values(ascending=False)"
      ]
    },
    {
      "cell_type": "markdown",
      "metadata": {
        "id": "UX3k0Cj8mDRn"
      },
      "source": [
        "## __We have removed missing, invalid and duplicate values from our dataset.__\n",
        "## __OUR DATASET IS CLEAN NOW__"
      ]
    },
    {
      "cell_type": "markdown",
      "metadata": {
        "id": "KQNkB5g55a43"
      },
      "source": [
        "---\n",
        "<a name = Section7></a>\n",
        "# **7. Data Post-profiling**\n",
        "---"
      ]
    },
    {
      "cell_type": "code",
      "execution_count": 43,
      "metadata": {
        "id": "vPUJzQ9L5a43"
      },
      "outputs": [],
      "source": [
        "# post_profile_deptData = ProfileReport(df_departmentData)\n",
        "# post_profile_deptData.to_file(output_file = \"Post Department Profiling Report.html\")\n",
        "# print(\"Accomplished\")"
      ]
    },
    {
      "cell_type": "code",
      "execution_count": 44,
      "metadata": {
        "id": "SUxsxQGP5a43"
      },
      "outputs": [],
      "source": [
        "# post_profile_emp_DetailsData = ProfileReport(df_employeeDetailsData)\n",
        "# post_profile_emp_DetailsData.to_file(output_file = \"Post Employee Details Data Profiling Report.html\")\n",
        "# print(\"Accomplished\")"
      ]
    },
    {
      "cell_type": "code",
      "execution_count": 45,
      "metadata": {
        "id": "tu47QOQZ5a43"
      },
      "outputs": [],
      "source": [
        "# post_profile_emp_Data = ProfileReport(df_employeeData)\n",
        "# post_profile_emp_Data.to_file(output_file = \"Post Employee Data Profiling Report.html\")\n",
        "# print(\"Accomplished\")"
      ]
    },
    {
      "cell_type": "code",
      "execution_count": 46,
      "metadata": {
        "id": "fLy0k7RJjW0h",
        "colab": {
          "base_uri": "https://localhost:8080/",
          "height": 250
        },
        "outputId": "4a272989-4b92-46b8-dcc3-ca54ffec32b0"
      },
      "outputs": [
        {
          "output_type": "execute_result",
          "data": {
            "text/plain": [
              "   employee_id  age gender marital_status  avg_monthly_hrs  last_evaluation  \\\n",
              "0       113558   43   Male        Married            111.0         0.753977   \n",
              "1       108071   36   Male        Married            151.0         0.608282   \n",
              "2       110888   42   Male        Married            152.0         0.673508   \n",
              "3       115694   26   Male      Unmarried            167.0         0.874656   \n",
              "4       107767   43   Male        Married            174.0         0.634783   \n",
              "\n",
              "   n_projects  salary  satisfaction    status  tenure dept_id    dept_name  \\\n",
              "0           5  medium      0.921208  Employed     4.0  D00-PR  Procurement   \n",
              "1           5  medium      0.210300  Employed     6.0  D00-PR  Procurement   \n",
              "2           6  medium      0.720369  Employed     3.0  D00-PR  Procurement   \n",
              "3           3  medium      0.575996  Employed     4.0  D00-PR  Procurement   \n",
              "4           5  medium      0.208138  Employed     5.0  D00-PR  Procurement   \n",
              "\n",
              "     dept_head  \n",
              "0  Louie Viles  \n",
              "1  Louie Viles  \n",
              "2  Louie Viles  \n",
              "3  Louie Viles  \n",
              "4  Louie Viles  "
            ],
            "text/html": [
              "\n",
              "  <div id=\"df-fb76ea83-8eca-4fa7-aebf-094e8aeecd64\">\n",
              "    <div class=\"colab-df-container\">\n",
              "      <div>\n",
              "<style scoped>\n",
              "    .dataframe tbody tr th:only-of-type {\n",
              "        vertical-align: middle;\n",
              "    }\n",
              "\n",
              "    .dataframe tbody tr th {\n",
              "        vertical-align: top;\n",
              "    }\n",
              "\n",
              "    .dataframe thead th {\n",
              "        text-align: right;\n",
              "    }\n",
              "</style>\n",
              "<table border=\"1\" class=\"dataframe\">\n",
              "  <thead>\n",
              "    <tr style=\"text-align: right;\">\n",
              "      <th></th>\n",
              "      <th>employee_id</th>\n",
              "      <th>age</th>\n",
              "      <th>gender</th>\n",
              "      <th>marital_status</th>\n",
              "      <th>avg_monthly_hrs</th>\n",
              "      <th>last_evaluation</th>\n",
              "      <th>n_projects</th>\n",
              "      <th>salary</th>\n",
              "      <th>satisfaction</th>\n",
              "      <th>status</th>\n",
              "      <th>tenure</th>\n",
              "      <th>dept_id</th>\n",
              "      <th>dept_name</th>\n",
              "      <th>dept_head</th>\n",
              "    </tr>\n",
              "  </thead>\n",
              "  <tbody>\n",
              "    <tr>\n",
              "      <th>0</th>\n",
              "      <td>113558</td>\n",
              "      <td>43</td>\n",
              "      <td>Male</td>\n",
              "      <td>Married</td>\n",
              "      <td>111.0</td>\n",
              "      <td>0.753977</td>\n",
              "      <td>5</td>\n",
              "      <td>medium</td>\n",
              "      <td>0.921208</td>\n",
              "      <td>Employed</td>\n",
              "      <td>4.0</td>\n",
              "      <td>D00-PR</td>\n",
              "      <td>Procurement</td>\n",
              "      <td>Louie Viles</td>\n",
              "    </tr>\n",
              "    <tr>\n",
              "      <th>1</th>\n",
              "      <td>108071</td>\n",
              "      <td>36</td>\n",
              "      <td>Male</td>\n",
              "      <td>Married</td>\n",
              "      <td>151.0</td>\n",
              "      <td>0.608282</td>\n",
              "      <td>5</td>\n",
              "      <td>medium</td>\n",
              "      <td>0.210300</td>\n",
              "      <td>Employed</td>\n",
              "      <td>6.0</td>\n",
              "      <td>D00-PR</td>\n",
              "      <td>Procurement</td>\n",
              "      <td>Louie Viles</td>\n",
              "    </tr>\n",
              "    <tr>\n",
              "      <th>2</th>\n",
              "      <td>110888</td>\n",
              "      <td>42</td>\n",
              "      <td>Male</td>\n",
              "      <td>Married</td>\n",
              "      <td>152.0</td>\n",
              "      <td>0.673508</td>\n",
              "      <td>6</td>\n",
              "      <td>medium</td>\n",
              "      <td>0.720369</td>\n",
              "      <td>Employed</td>\n",
              "      <td>3.0</td>\n",
              "      <td>D00-PR</td>\n",
              "      <td>Procurement</td>\n",
              "      <td>Louie Viles</td>\n",
              "    </tr>\n",
              "    <tr>\n",
              "      <th>3</th>\n",
              "      <td>115694</td>\n",
              "      <td>26</td>\n",
              "      <td>Male</td>\n",
              "      <td>Unmarried</td>\n",
              "      <td>167.0</td>\n",
              "      <td>0.874656</td>\n",
              "      <td>3</td>\n",
              "      <td>medium</td>\n",
              "      <td>0.575996</td>\n",
              "      <td>Employed</td>\n",
              "      <td>4.0</td>\n",
              "      <td>D00-PR</td>\n",
              "      <td>Procurement</td>\n",
              "      <td>Louie Viles</td>\n",
              "    </tr>\n",
              "    <tr>\n",
              "      <th>4</th>\n",
              "      <td>107767</td>\n",
              "      <td>43</td>\n",
              "      <td>Male</td>\n",
              "      <td>Married</td>\n",
              "      <td>174.0</td>\n",
              "      <td>0.634783</td>\n",
              "      <td>5</td>\n",
              "      <td>medium</td>\n",
              "      <td>0.208138</td>\n",
              "      <td>Employed</td>\n",
              "      <td>5.0</td>\n",
              "      <td>D00-PR</td>\n",
              "      <td>Procurement</td>\n",
              "      <td>Louie Viles</td>\n",
              "    </tr>\n",
              "  </tbody>\n",
              "</table>\n",
              "</div>\n",
              "      <button class=\"colab-df-convert\" onclick=\"convertToInteractive('df-fb76ea83-8eca-4fa7-aebf-094e8aeecd64')\"\n",
              "              title=\"Convert this dataframe to an interactive table.\"\n",
              "              style=\"display:none;\">\n",
              "        \n",
              "  <svg xmlns=\"http://www.w3.org/2000/svg\" height=\"24px\"viewBox=\"0 0 24 24\"\n",
              "       width=\"24px\">\n",
              "    <path d=\"M0 0h24v24H0V0z\" fill=\"none\"/>\n",
              "    <path d=\"M18.56 5.44l.94 2.06.94-2.06 2.06-.94-2.06-.94-.94-2.06-.94 2.06-2.06.94zm-11 1L8.5 8.5l.94-2.06 2.06-.94-2.06-.94L8.5 2.5l-.94 2.06-2.06.94zm10 10l.94 2.06.94-2.06 2.06-.94-2.06-.94-.94-2.06-.94 2.06-2.06.94z\"/><path d=\"M17.41 7.96l-1.37-1.37c-.4-.4-.92-.59-1.43-.59-.52 0-1.04.2-1.43.59L10.3 9.45l-7.72 7.72c-.78.78-.78 2.05 0 2.83L4 21.41c.39.39.9.59 1.41.59.51 0 1.02-.2 1.41-.59l7.78-7.78 2.81-2.81c.8-.78.8-2.07 0-2.86zM5.41 20L4 18.59l7.72-7.72 1.47 1.35L5.41 20z\"/>\n",
              "  </svg>\n",
              "      </button>\n",
              "      \n",
              "  <style>\n",
              "    .colab-df-container {\n",
              "      display:flex;\n",
              "      flex-wrap:wrap;\n",
              "      gap: 12px;\n",
              "    }\n",
              "\n",
              "    .colab-df-convert {\n",
              "      background-color: #E8F0FE;\n",
              "      border: none;\n",
              "      border-radius: 50%;\n",
              "      cursor: pointer;\n",
              "      display: none;\n",
              "      fill: #1967D2;\n",
              "      height: 32px;\n",
              "      padding: 0 0 0 0;\n",
              "      width: 32px;\n",
              "    }\n",
              "\n",
              "    .colab-df-convert:hover {\n",
              "      background-color: #E2EBFA;\n",
              "      box-shadow: 0px 1px 2px rgba(60, 64, 67, 0.3), 0px 1px 3px 1px rgba(60, 64, 67, 0.15);\n",
              "      fill: #174EA6;\n",
              "    }\n",
              "\n",
              "    [theme=dark] .colab-df-convert {\n",
              "      background-color: #3B4455;\n",
              "      fill: #D2E3FC;\n",
              "    }\n",
              "\n",
              "    [theme=dark] .colab-df-convert:hover {\n",
              "      background-color: #434B5C;\n",
              "      box-shadow: 0px 1px 3px 1px rgba(0, 0, 0, 0.15);\n",
              "      filter: drop-shadow(0px 1px 2px rgba(0, 0, 0, 0.3));\n",
              "      fill: #FFFFFF;\n",
              "    }\n",
              "  </style>\n",
              "\n",
              "      <script>\n",
              "        const buttonEl =\n",
              "          document.querySelector('#df-fb76ea83-8eca-4fa7-aebf-094e8aeecd64 button.colab-df-convert');\n",
              "        buttonEl.style.display =\n",
              "          google.colab.kernel.accessAllowed ? 'block' : 'none';\n",
              "\n",
              "        async function convertToInteractive(key) {\n",
              "          const element = document.querySelector('#df-fb76ea83-8eca-4fa7-aebf-094e8aeecd64');\n",
              "          const dataTable =\n",
              "            await google.colab.kernel.invokeFunction('convertToInteractive',\n",
              "                                                     [key], {});\n",
              "          if (!dataTable) return;\n",
              "\n",
              "          const docLinkHtml = 'Like what you see? Visit the ' +\n",
              "            '<a target=\"_blank\" href=https://colab.research.google.com/notebooks/data_table.ipynb>data table notebook</a>'\n",
              "            + ' to learn more about interactive tables.';\n",
              "          element.innerHTML = '';\n",
              "          dataTable['output_type'] = 'display_data';\n",
              "          await google.colab.output.renderOutput(dataTable, element);\n",
              "          const docLink = document.createElement('div');\n",
              "          docLink.innerHTML = docLinkHtml;\n",
              "          element.appendChild(docLink);\n",
              "        }\n",
              "      </script>\n",
              "    </div>\n",
              "  </div>\n",
              "  "
            ]
          },
          "metadata": {},
          "execution_count": 46
        }
      ],
      "source": [
        "df_final.head()"
      ]
    },
    {
      "cell_type": "code",
      "execution_count": 47,
      "metadata": {
        "id": "w9623VVR08nW",
        "colab": {
          "base_uri": "https://localhost:8080/",
          "height": 206
        },
        "outputId": "7d2d55c1-a37f-4b85-f2b1-a106ae06c78e"
      },
      "outputs": [
        {
          "output_type": "execute_result",
          "data": {
            "text/plain": [
              "   age gender marital_status  avg_monthly_hrs  last_evaluation  n_projects  \\\n",
              "0   43   Male        Married            111.0         0.753977           5   \n",
              "1   36   Male        Married            151.0         0.608282           5   \n",
              "2   42   Male        Married            152.0         0.673508           6   \n",
              "3   26   Male      Unmarried            167.0         0.874656           3   \n",
              "4   43   Male        Married            174.0         0.634783           5   \n",
              "\n",
              "   salary  satisfaction    status  tenure    dept_name  \n",
              "0  medium      0.921208  Employed     4.0  Procurement  \n",
              "1  medium      0.210300  Employed     6.0  Procurement  \n",
              "2  medium      0.720369  Employed     3.0  Procurement  \n",
              "3  medium      0.575996  Employed     4.0  Procurement  \n",
              "4  medium      0.208138  Employed     5.0  Procurement  "
            ],
            "text/html": [
              "\n",
              "  <div id=\"df-355c5ae3-48f9-4adb-a1d8-173f13bf30c4\">\n",
              "    <div class=\"colab-df-container\">\n",
              "      <div>\n",
              "<style scoped>\n",
              "    .dataframe tbody tr th:only-of-type {\n",
              "        vertical-align: middle;\n",
              "    }\n",
              "\n",
              "    .dataframe tbody tr th {\n",
              "        vertical-align: top;\n",
              "    }\n",
              "\n",
              "    .dataframe thead th {\n",
              "        text-align: right;\n",
              "    }\n",
              "</style>\n",
              "<table border=\"1\" class=\"dataframe\">\n",
              "  <thead>\n",
              "    <tr style=\"text-align: right;\">\n",
              "      <th></th>\n",
              "      <th>age</th>\n",
              "      <th>gender</th>\n",
              "      <th>marital_status</th>\n",
              "      <th>avg_monthly_hrs</th>\n",
              "      <th>last_evaluation</th>\n",
              "      <th>n_projects</th>\n",
              "      <th>salary</th>\n",
              "      <th>satisfaction</th>\n",
              "      <th>status</th>\n",
              "      <th>tenure</th>\n",
              "      <th>dept_name</th>\n",
              "    </tr>\n",
              "  </thead>\n",
              "  <tbody>\n",
              "    <tr>\n",
              "      <th>0</th>\n",
              "      <td>43</td>\n",
              "      <td>Male</td>\n",
              "      <td>Married</td>\n",
              "      <td>111.0</td>\n",
              "      <td>0.753977</td>\n",
              "      <td>5</td>\n",
              "      <td>medium</td>\n",
              "      <td>0.921208</td>\n",
              "      <td>Employed</td>\n",
              "      <td>4.0</td>\n",
              "      <td>Procurement</td>\n",
              "    </tr>\n",
              "    <tr>\n",
              "      <th>1</th>\n",
              "      <td>36</td>\n",
              "      <td>Male</td>\n",
              "      <td>Married</td>\n",
              "      <td>151.0</td>\n",
              "      <td>0.608282</td>\n",
              "      <td>5</td>\n",
              "      <td>medium</td>\n",
              "      <td>0.210300</td>\n",
              "      <td>Employed</td>\n",
              "      <td>6.0</td>\n",
              "      <td>Procurement</td>\n",
              "    </tr>\n",
              "    <tr>\n",
              "      <th>2</th>\n",
              "      <td>42</td>\n",
              "      <td>Male</td>\n",
              "      <td>Married</td>\n",
              "      <td>152.0</td>\n",
              "      <td>0.673508</td>\n",
              "      <td>6</td>\n",
              "      <td>medium</td>\n",
              "      <td>0.720369</td>\n",
              "      <td>Employed</td>\n",
              "      <td>3.0</td>\n",
              "      <td>Procurement</td>\n",
              "    </tr>\n",
              "    <tr>\n",
              "      <th>3</th>\n",
              "      <td>26</td>\n",
              "      <td>Male</td>\n",
              "      <td>Unmarried</td>\n",
              "      <td>167.0</td>\n",
              "      <td>0.874656</td>\n",
              "      <td>3</td>\n",
              "      <td>medium</td>\n",
              "      <td>0.575996</td>\n",
              "      <td>Employed</td>\n",
              "      <td>4.0</td>\n",
              "      <td>Procurement</td>\n",
              "    </tr>\n",
              "    <tr>\n",
              "      <th>4</th>\n",
              "      <td>43</td>\n",
              "      <td>Male</td>\n",
              "      <td>Married</td>\n",
              "      <td>174.0</td>\n",
              "      <td>0.634783</td>\n",
              "      <td>5</td>\n",
              "      <td>medium</td>\n",
              "      <td>0.208138</td>\n",
              "      <td>Employed</td>\n",
              "      <td>5.0</td>\n",
              "      <td>Procurement</td>\n",
              "    </tr>\n",
              "  </tbody>\n",
              "</table>\n",
              "</div>\n",
              "      <button class=\"colab-df-convert\" onclick=\"convertToInteractive('df-355c5ae3-48f9-4adb-a1d8-173f13bf30c4')\"\n",
              "              title=\"Convert this dataframe to an interactive table.\"\n",
              "              style=\"display:none;\">\n",
              "        \n",
              "  <svg xmlns=\"http://www.w3.org/2000/svg\" height=\"24px\"viewBox=\"0 0 24 24\"\n",
              "       width=\"24px\">\n",
              "    <path d=\"M0 0h24v24H0V0z\" fill=\"none\"/>\n",
              "    <path d=\"M18.56 5.44l.94 2.06.94-2.06 2.06-.94-2.06-.94-.94-2.06-.94 2.06-2.06.94zm-11 1L8.5 8.5l.94-2.06 2.06-.94-2.06-.94L8.5 2.5l-.94 2.06-2.06.94zm10 10l.94 2.06.94-2.06 2.06-.94-2.06-.94-.94-2.06-.94 2.06-2.06.94z\"/><path d=\"M17.41 7.96l-1.37-1.37c-.4-.4-.92-.59-1.43-.59-.52 0-1.04.2-1.43.59L10.3 9.45l-7.72 7.72c-.78.78-.78 2.05 0 2.83L4 21.41c.39.39.9.59 1.41.59.51 0 1.02-.2 1.41-.59l7.78-7.78 2.81-2.81c.8-.78.8-2.07 0-2.86zM5.41 20L4 18.59l7.72-7.72 1.47 1.35L5.41 20z\"/>\n",
              "  </svg>\n",
              "      </button>\n",
              "      \n",
              "  <style>\n",
              "    .colab-df-container {\n",
              "      display:flex;\n",
              "      flex-wrap:wrap;\n",
              "      gap: 12px;\n",
              "    }\n",
              "\n",
              "    .colab-df-convert {\n",
              "      background-color: #E8F0FE;\n",
              "      border: none;\n",
              "      border-radius: 50%;\n",
              "      cursor: pointer;\n",
              "      display: none;\n",
              "      fill: #1967D2;\n",
              "      height: 32px;\n",
              "      padding: 0 0 0 0;\n",
              "      width: 32px;\n",
              "    }\n",
              "\n",
              "    .colab-df-convert:hover {\n",
              "      background-color: #E2EBFA;\n",
              "      box-shadow: 0px 1px 2px rgba(60, 64, 67, 0.3), 0px 1px 3px 1px rgba(60, 64, 67, 0.15);\n",
              "      fill: #174EA6;\n",
              "    }\n",
              "\n",
              "    [theme=dark] .colab-df-convert {\n",
              "      background-color: #3B4455;\n",
              "      fill: #D2E3FC;\n",
              "    }\n",
              "\n",
              "    [theme=dark] .colab-df-convert:hover {\n",
              "      background-color: #434B5C;\n",
              "      box-shadow: 0px 1px 3px 1px rgba(0, 0, 0, 0.15);\n",
              "      filter: drop-shadow(0px 1px 2px rgba(0, 0, 0, 0.3));\n",
              "      fill: #FFFFFF;\n",
              "    }\n",
              "  </style>\n",
              "\n",
              "      <script>\n",
              "        const buttonEl =\n",
              "          document.querySelector('#df-355c5ae3-48f9-4adb-a1d8-173f13bf30c4 button.colab-df-convert');\n",
              "        buttonEl.style.display =\n",
              "          google.colab.kernel.accessAllowed ? 'block' : 'none';\n",
              "\n",
              "        async function convertToInteractive(key) {\n",
              "          const element = document.querySelector('#df-355c5ae3-48f9-4adb-a1d8-173f13bf30c4');\n",
              "          const dataTable =\n",
              "            await google.colab.kernel.invokeFunction('convertToInteractive',\n",
              "                                                     [key], {});\n",
              "          if (!dataTable) return;\n",
              "\n",
              "          const docLinkHtml = 'Like what you see? Visit the ' +\n",
              "            '<a target=\"_blank\" href=https://colab.research.google.com/notebooks/data_table.ipynb>data table notebook</a>'\n",
              "            + ' to learn more about interactive tables.';\n",
              "          element.innerHTML = '';\n",
              "          dataTable['output_type'] = 'display_data';\n",
              "          await google.colab.output.renderOutput(dataTable, element);\n",
              "          const docLink = document.createElement('div');\n",
              "          docLink.innerHTML = docLinkHtml;\n",
              "          element.appendChild(docLink);\n",
              "        }\n",
              "      </script>\n",
              "    </div>\n",
              "  </div>\n",
              "  "
            ]
          },
          "metadata": {},
          "execution_count": 47
        }
      ],
      "source": [
        "# dropping 'employee_id' , 'dept_id' , 'dept_head' features as they don't add any importance to data while performing EDA\n",
        "\n",
        "df_final.drop(['employee_id', 'dept_id', 'dept_head'], axis=1, inplace = True)\n",
        "df_final.head()"
      ]
    },
    {
      "cell_type": "markdown",
      "metadata": {
        "id": "4dsVqTiP4oDR"
      },
      "source": [
        "---\n",
        "<a name = Section8></a>\n",
        "# **8. Exploratory Data Analysis**\n",
        "---"
      ]
    },
    {
      "cell_type": "markdown",
      "metadata": {
        "id": "G3vToz4y9ETG"
      },
      "source": [
        "### __Checking the Correlation of the dataset__"
      ]
    },
    {
      "cell_type": "code",
      "execution_count": 48,
      "metadata": {
        "id": "Yqqe8bk08hG4",
        "colab": {
          "base_uri": "https://localhost:8080/",
          "height": 344
        },
        "outputId": "150e9423-f5fb-40ea-a992-57bd7b19f54a"
      },
      "outputs": [
        {
          "output_type": "display_data",
          "data": {
            "text/plain": [
              "<Figure size 432x288 with 2 Axes>"
            ],
            "image/png": "[encoded data removed]"
          },
          "metadata": {
            "needs_background": "light"
          }
        }
      ],
      "source": [
        "sns.heatmap(df_final.corr(), annot=True)\n",
        "plt.show()"
      ]
    },
    {
      "cell_type": "markdown",
      "metadata": {
        "id": "0MUlpKWo9SnS"
      },
      "source": [
        "#### __Observations:__\n",
        "\n",
        "> __tenure__ is highly correlated with __satisfaction__."
      ]
    },
    {
      "cell_type": "markdown",
      "metadata": {
        "id": "vtC-fSlS-hPg"
      },
      "source": [
        "### __Status frequency of Employees__"
      ]
    },
    {
      "cell_type": "code",
      "execution_count": 49,
      "metadata": {
        "id": "RDyHwYZ--e8g",
        "colab": {
          "base_uri": "https://localhost:8080/",
          "height": 297
        },
        "outputId": "4d08b0af-097c-476b-b680-72b14f1e46fe"
      },
      "outputs": [
        {
          "output_type": "display_data",
          "data": {
            "text/plain": [
              "<Figure size 432x288 with 1 Axes>"
            ],
            "image/png": "[encoded data removed]"
          },
          "metadata": {
            "needs_background": "light"
          }
        }
      ],
      "source": [
        "sns.countplot(x=\"status\", data=df_final)\n",
        "# df_final['status'].value_counts().plot.bar()\n",
        "# plt.xticks(rotation=0, size=12)\n",
        "plt.yticks(ticks=np.arange(0, 12000, 1000))\n",
        "plt.xlabel(xlabel='Status')\n",
        "plt.ylabel(ylabel='Number of Employees')\n",
        "plt.title('Frequency of Status', fontsize=16)\n",
        "plt.show()"
      ]
    },
    {
      "cell_type": "markdown",
      "metadata": {
        "id": "jHSIbm5GGkKI"
      },
      "source": [
        "#### __Observations:__\n",
        "\n",
        "\n",
        "> We can see that proportion of employeed people are far more than employees who have left."
      ]
    },
    {
      "cell_type": "markdown",
      "metadata": {
        "id": "49L7YbDZ4ye-"
      },
      "source": [
        "### __Gender frequency of Employees__"
      ]
    },
    {
      "cell_type": "code",
      "execution_count": 50,
      "metadata": {
        "id": "Fp8x3wBL3Xjn",
        "colab": {
          "base_uri": "https://localhost:8080/",
          "height": 375
        },
        "outputId": "b63cd80a-d2dc-4767-ca66-50fefc198ea6"
      },
      "outputs": [
        {
          "output_type": "display_data",
          "data": {
            "text/plain": [
              "<Figure size 432x432 with 1 Axes>"
            ],
            "image/png": "[encoded data removed]"
          },
          "metadata": {}
        }
      ],
      "source": [
        "df_final['gender'].value_counts().plot(kind='pie', fontsize=14, autopct='%3.1f%%', figsize=(6,6), shadow=True, legend=True)\n",
        "plt.title('Proportion of Gender', fontsize=16)\n",
        "plt.show()"
      ]
    },
    {
      "cell_type": "markdown",
      "metadata": {
        "id": "OwylQSbg5fOb"
      },
      "source": [
        "#### __Observations:__\n",
        "\n",
        "\n",
        "> __Male__ dominance is more with __66%__ of total and __34%__ of __Females__ employees working in the organization."
      ]
    },
    {
      "cell_type": "markdown",
      "metadata": {
        "id": "xDej7KfC6y5n"
      },
      "source": [
        "### __Relation between Salary and Gender__"
      ]
    },
    {
      "cell_type": "code",
      "execution_count": 51,
      "metadata": {
        "id": "4DEmfGD067Vv",
        "colab": {
          "base_uri": "https://localhost:8080/",
          "height": 375
        },
        "outputId": "9384a0d5-f665-4850-e179-345e7d6f14f6"
      },
      "outputs": [
        {
          "output_type": "display_data",
          "data": {
            "text/plain": [
              "<Figure size 1008x432 with 2 Axes>"
            ],
            "image/png": "[encoded data removed]"
          },
          "metadata": {}
        }
      ],
      "source": [
        "f, ax = plt.subplots(1,2,figsize=(14,6))\n",
        "df_final['salary'][df_final['gender']=='Male'].value_counts().plot.pie(autopct='%1.1f%%', ax=ax[0], shadow=True, legend=True)\n",
        "df_final['salary'][df_final['gender']=='Female'].value_counts().plot.pie(autopct='%1.1f%%', ax=ax[1], shadow=True, legend=True)\n",
        "ax[0].set_title('Salary distribution of Males', fontsize=15)\n",
        "ax[1].set_title('Salary distribution of Females', fontsize=15)\n",
        "plt.show()"
      ]
    },
    {
      "cell_type": "markdown",
      "metadata": {
        "id": "S0wdZemz8HyH"
      },
      "source": [
        "#### __Observations:__\n",
        "\n",
        "> There is no definite correlation between salary and gender, salary is independent of gender."
      ]
    },
    {
      "cell_type": "markdown",
      "metadata": {
        "id": "76kxwIroKGWh"
      },
      "source": [
        "### __Distribution of Salary across different Departments__"
      ]
    },
    {
      "cell_type": "code",
      "execution_count": 52,
      "metadata": {
        "id": "DonOeefTKQe9",
        "colab": {
          "base_uri": "https://localhost:8080/",
          "height": 406
        },
        "outputId": "46b6fdda-8d93-40b6-dcc2-45666e5d6ebd"
      },
      "outputs": [
        {
          "output_type": "display_data",
          "data": {
            "text/plain": [
              "<Figure size 1080x432 with 1 Axes>"
            ],
            "image/png": "[encoded data removed]"
          },
          "metadata": {
            "needs_background": "light"
          }
        }
      ],
      "source": [
        "cross_tab = pd.crosstab(index=df_final['dept_name'], columns=df_final['salary'])\n",
        "cross_tab.plot(kind='barh', stacked=True, figsize=(15, 6))\n",
        "plt.xticks(ticks=np.arange(0, 4000, 250))\n",
        "plt.xlabel(xlabel='Count')\n",
        "plt.ylabel(ylabel='Departments')\n",
        "plt.title(\"Distribution of Salary across different Departments\", fontsize=16)\n",
        "plt.show()"
      ]
    },
    {
      "cell_type": "markdown",
      "metadata": {
        "id": "qzAtC_GZI16N"
      },
      "source": [
        "### __Distribution of Salary with Marital Status__"
      ]
    },
    {
      "cell_type": "code",
      "execution_count": 53,
      "metadata": {
        "id": "kdWBYPg2721l",
        "colab": {
          "base_uri": "https://localhost:8080/",
          "height": 375
        },
        "outputId": "65bf48ba-802f-4653-f586-3f937f0b884d"
      },
      "outputs": [
        {
          "output_type": "display_data",
          "data": {
            "text/plain": [
              "<Figure size 1008x432 with 2 Axes>"
            ],
            "image/png": "[encoded data removed]"
          },
          "metadata": {}
        }
      ],
      "source": [
        "f, ax = plt.subplots(1,2,figsize=(14,6))\n",
        "df_final['salary'][df_final['marital_status']=='Married'].value_counts().plot.pie(autopct='%1.1f%%', ax=ax[0], shadow=True, legend=True)\n",
        "df_final['salary'][df_final['marital_status']=='Unmarried'].value_counts().plot.pie(autopct='%1.1f%%', ax=ax[1], shadow=True, legend=True)\n",
        "ax[0].set_title('Salary distribution of Married Employees', fontsize=15)\n",
        "ax[1].set_title('Salary distribution of Unmarried Employees', fontsize=15)\n",
        "plt.show()"
      ]
    },
    {
      "cell_type": "code",
      "execution_count": 54,
      "metadata": {
        "id": "XlFyyoOk2qb3",
        "colab": {
          "base_uri": "https://localhost:8080/",
          "height": 206
        },
        "outputId": "8b05afbf-0b55-4dbb-ef79-0e9836997203"
      },
      "outputs": [
        {
          "output_type": "execute_result",
          "data": {
            "text/plain": [
              "   age gender marital_status  avg_monthly_hrs  last_evaluation  n_projects  \\\n",
              "0   43   Male        Married            111.0         0.753977           5   \n",
              "1   36   Male        Married            151.0         0.608282           5   \n",
              "2   42   Male        Married            152.0         0.673508           6   \n",
              "3   26   Male      Unmarried            167.0         0.874656           3   \n",
              "4   43   Male        Married            174.0         0.634783           5   \n",
              "\n",
              "   salary  satisfaction    status  tenure    dept_name  \n",
              "0  medium      0.921208  Employed     4.0  Procurement  \n",
              "1  medium      0.210300  Employed     6.0  Procurement  \n",
              "2  medium      0.720369  Employed     3.0  Procurement  \n",
              "3  medium      0.575996  Employed     4.0  Procurement  \n",
              "4  medium      0.208138  Employed     5.0  Procurement  "
            ],
            "text/html": [
              "\n",
              "  <div id=\"df-d364632a-2083-4889-86ad-1865e7e2ad28\">\n",
              "    <div class=\"colab-df-container\">\n",
              "      <div>\n",
              "<style scoped>\n",
              "    .dataframe tbody tr th:only-of-type {\n",
              "        vertical-align: middle;\n",
              "    }\n",
              "\n",
              "    .dataframe tbody tr th {\n",
              "        vertical-align: top;\n",
              "    }\n",
              "\n",
              "    .dataframe thead th {\n",
              "        text-align: right;\n",
              "    }\n",
              "</style>\n",
              "<table border=\"1\" class=\"dataframe\">\n",
              "  <thead>\n",
              "    <tr style=\"text-align: right;\">\n",
              "      <th></th>\n",
              "      <th>age</th>\n",
              "      <th>gender</th>\n",
              "      <th>marital_status</th>\n",
              "      <th>avg_monthly_hrs</th>\n",
              "      <th>last_evaluation</th>\n",
              "      <th>n_projects</th>\n",
              "      <th>salary</th>\n",
              "      <th>satisfaction</th>\n",
              "      <th>status</th>\n",
              "      <th>tenure</th>\n",
              "      <th>dept_name</th>\n",
              "    </tr>\n",
              "  </thead>\n",
              "  <tbody>\n",
              "    <tr>\n",
              "      <th>0</th>\n",
              "      <td>43</td>\n",
              "      <td>Male</td>\n",
              "      <td>Married</td>\n",
              "      <td>111.0</td>\n",
              "      <td>0.753977</td>\n",
              "      <td>5</td>\n",
              "      <td>medium</td>\n",
              "      <td>0.921208</td>\n",
              "      <td>Employed</td>\n",
              "      <td>4.0</td>\n",
              "      <td>Procurement</td>\n",
              "    </tr>\n",
              "    <tr>\n",
              "      <th>1</th>\n",
              "      <td>36</td>\n",
              "      <td>Male</td>\n",
              "      <td>Married</td>\n",
              "      <td>151.0</td>\n",
              "      <td>0.608282</td>\n",
              "      <td>5</td>\n",
              "      <td>medium</td>\n",
              "      <td>0.210300</td>\n",
              "      <td>Employed</td>\n",
              "      <td>6.0</td>\n",
              "      <td>Procurement</td>\n",
              "    </tr>\n",
              "    <tr>\n",
              "      <th>2</th>\n",
              "      <td>42</td>\n",
              "      <td>Male</td>\n",
              "      <td>Married</td>\n",
              "      <td>152.0</td>\n",
              "      <td>0.673508</td>\n",
              "      <td>6</td>\n",
              "      <td>medium</td>\n",
              "      <td>0.720369</td>\n",
              "      <td>Employed</td>\n",
              "      <td>3.0</td>\n",
              "      <td>Procurement</td>\n",
              "    </tr>\n",
              "    <tr>\n",
              "      <th>3</th>\n",
              "      <td>26</td>\n",
              "      <td>Male</td>\n",
              "      <td>Unmarried</td>\n",
              "      <td>167.0</td>\n",
              "      <td>0.874656</td>\n",
              "      <td>3</td>\n",
              "      <td>medium</td>\n",
              "      <td>0.575996</td>\n",
              "      <td>Employed</td>\n",
              "      <td>4.0</td>\n",
              "      <td>Procurement</td>\n",
              "    </tr>\n",
              "    <tr>\n",
              "      <th>4</th>\n",
              "      <td>43</td>\n",
              "      <td>Male</td>\n",
              "      <td>Married</td>\n",
              "      <td>174.0</td>\n",
              "      <td>0.634783</td>\n",
              "      <td>5</td>\n",
              "      <td>medium</td>\n",
              "      <td>0.208138</td>\n",
              "      <td>Employed</td>\n",
              "      <td>5.0</td>\n",
              "      <td>Procurement</td>\n",
              "    </tr>\n",
              "  </tbody>\n",
              "</table>\n",
              "</div>\n",
              "      <button class=\"colab-df-convert\" onclick=\"convertToInteractive('df-d364632a-2083-4889-86ad-1865e7e2ad28')\"\n",
              "              title=\"Convert this dataframe to an interactive table.\"\n",
              "              style=\"display:none;\">\n",
              "        \n",
              "  <svg xmlns=\"http://www.w3.org/2000/svg\" height=\"24px\"viewBox=\"0 0 24 24\"\n",
              "       width=\"24px\">\n",
              "    <path d=\"M0 0h24v24H0V0z\" fill=\"none\"/>\n",
              "    <path d=\"M18.56 5.44l.94 2.06.94-2.06 2.06-.94-2.06-.94-.94-2.06-.94 2.06-2.06.94zm-11 1L8.5 8.5l.94-2.06 2.06-.94-2.06-.94L8.5 2.5l-.94 2.06-2.06.94zm10 10l.94 2.06.94-2.06 2.06-.94-2.06-.94-.94-2.06-.94 2.06-2.06.94z\"/><path d=\"M17.41 7.96l-1.37-1.37c-.4-.4-.92-.59-1.43-.59-.52 0-1.04.2-1.43.59L10.3 9.45l-7.72 7.72c-.78.78-.78 2.05 0 2.83L4 21.41c.39.39.9.59 1.41.59.51 0 1.02-.2 1.41-.59l7.78-7.78 2.81-2.81c.8-.78.8-2.07 0-2.86zM5.41 20L4 18.59l7.72-7.72 1.47 1.35L5.41 20z\"/>\n",
              "  </svg>\n",
              "      </button>\n",
              "      \n",
              "  <style>\n",
              "    .colab-df-container {\n",
              "      display:flex;\n",
              "      flex-wrap:wrap;\n",
              "      gap: 12px;\n",
              "    }\n",
              "\n",
              "    .colab-df-convert {\n",
              "      background-color: #E8F0FE;\n",
              "      border: none;\n",
              "      border-radius: 50%;\n",
              "      cursor: pointer;\n",
              "      display: none;\n",
              "      fill: #1967D2;\n",
              "      height: 32px;\n",
              "      padding: 0 0 0 0;\n",
              "      width: 32px;\n",
              "    }\n",
              "\n",
              "    .colab-df-convert:hover {\n",
              "      background-color: #E2EBFA;\n",
              "      box-shadow: 0px 1px 2px rgba(60, 64, 67, 0.3), 0px 1px 3px 1px rgba(60, 64, 67, 0.15);\n",
              "      fill: #174EA6;\n",
              "    }\n",
              "\n",
              "    [theme=dark] .colab-df-convert {\n",
              "      background-color: #3B4455;\n",
              "      fill: #D2E3FC;\n",
              "    }\n",
              "\n",
              "    [theme=dark] .colab-df-convert:hover {\n",
              "      background-color: #434B5C;\n",
              "      box-shadow: 0px 1px 3px 1px rgba(0, 0, 0, 0.15);\n",
              "      filter: drop-shadow(0px 1px 2px rgba(0, 0, 0, 0.3));\n",
              "      fill: #FFFFFF;\n",
              "    }\n",
              "  </style>\n",
              "\n",
              "      <script>\n",
              "        const buttonEl =\n",
              "          document.querySelector('#df-d364632a-2083-4889-86ad-1865e7e2ad28 button.colab-df-convert');\n",
              "        buttonEl.style.display =\n",
              "          google.colab.kernel.accessAllowed ? 'block' : 'none';\n",
              "\n",
              "        async function convertToInteractive(key) {\n",
              "          const element = document.querySelector('#df-d364632a-2083-4889-86ad-1865e7e2ad28');\n",
              "          const dataTable =\n",
              "            await google.colab.kernel.invokeFunction('convertToInteractive',\n",
              "                                                     [key], {});\n",
              "          if (!dataTable) return;\n",
              "\n",
              "          const docLinkHtml = 'Like what you see? Visit the ' +\n",
              "            '<a target=\"_blank\" href=https://colab.research.google.com/notebooks/data_table.ipynb>data table notebook</a>'\n",
              "            + ' to learn more about interactive tables.';\n",
              "          element.innerHTML = '';\n",
              "          dataTable['output_type'] = 'display_data';\n",
              "          await google.colab.output.renderOutput(dataTable, element);\n",
              "          const docLink = document.createElement('div');\n",
              "          docLink.innerHTML = docLinkHtml;\n",
              "          element.appendChild(docLink);\n",
              "        }\n",
              "      </script>\n",
              "    </div>\n",
              "  </div>\n",
              "  "
            ]
          },
          "metadata": {},
          "execution_count": 54
        }
      ],
      "source": [
        "df_final.head()"
      ]
    },
    {
      "cell_type": "markdown",
      "metadata": {
        "id": "XwYROERu24J0"
      },
      "source": [
        "---\n",
        "<a name = Section9></a>\n",
        "# **9. Data Processing and Feature Selection**\n",
        "---"
      ]
    },
    {
      "cell_type": "markdown",
      "metadata": {
        "id": "Xehgh1a-5a4-"
      },
      "source": [
        "---\n",
        "<a name = Section91></a>\n",
        "### **9.1 Data Encoding**\n",
        "---"
      ]
    },
    {
      "cell_type": "code",
      "execution_count": 55,
      "metadata": {
        "id": "OCgzfT2R29Nl"
      },
      "outputs": [],
      "source": [
        "CATEGORICAL_FEATURES = [\"gender\", \"marital_status\", \"salary\", \"status\", \"dept_name\"]"
      ]
    },
    {
      "cell_type": "code",
      "execution_count": 56,
      "metadata": {
        "id": "ocAIakUN4hSM",
        "colab": {
          "base_uri": "https://localhost:8080/"
        },
        "outputId": "060784a5-b449-4a00-83f0-2678f32c1e7e"
      },
      "outputs": [
        {
          "output_type": "stream",
          "name": "stdout",
          "text": [
            "{'Female': 0, 'Male': 1}\n",
            "{'Married': 0, 'Unmarried': 1}\n",
            "{'high': 0, 'low': 1, 'medium': 2}\n",
            "{'Employed': 0, 'Left': 1}\n",
            "{'Admin': 0, 'Engineering': 1, 'Finance': 2, 'IT': 3, 'Management': 4, 'Marketing': 5, 'Procurement': 6, 'Product': 7, 'Sales': 8, 'Support': 9, 'Temp': 10}\n"
          ]
        }
      ],
      "source": [
        "# label encode the cateorical features\n",
        "\n",
        "le = LabelEncoder()\n",
        "\n",
        "df_final['gender'] = le.fit_transform(df_final['gender'])\n",
        "le_name_mapping = dict(zip(le.classes_, le.transform(le.classes_)))\n",
        "print(le_name_mapping)\n",
        "\n",
        "df_final['marital_status'] = le.fit_transform(df_final['marital_status'])\n",
        "le_name_mapping = dict(zip(le.classes_, le.transform(le.classes_)))\n",
        "print(le_name_mapping)\n",
        "\n",
        "df_final['salary'] = le.fit_transform(df_final['salary'])\n",
        "le_name_mapping = dict(zip(le.classes_, le.transform(le.classes_)))\n",
        "print(le_name_mapping)\n",
        "\n",
        "df_final['status'] = le.fit_transform(df_final['status'])\n",
        "le_name_mapping = dict(zip(le.classes_, le.transform(le.classes_)))\n",
        "print(le_name_mapping)\n",
        "\n",
        "df_final['dept_name'] = le.fit_transform(df_final['dept_name'])\n",
        "le_name_mapping = dict(zip(le.classes_, le.transform(le.classes_)))\n",
        "print(le_name_mapping)\n"
      ]
    },
    {
      "cell_type": "code",
      "execution_count": 57,
      "metadata": {
        "id": "Ds9XGzQe7F4u",
        "colab": {
          "base_uri": "https://localhost:8080/",
          "height": 206
        },
        "outputId": "07d7d197-c438-4b39-cce0-c78b2b8e0d92"
      },
      "outputs": [
        {
          "output_type": "execute_result",
          "data": {
            "text/plain": [
              "   age  gender  marital_status  avg_monthly_hrs  last_evaluation  n_projects  \\\n",
              "0   43       1               0            111.0         0.753977           5   \n",
              "1   36       1               0            151.0         0.608282           5   \n",
              "2   42       1               0            152.0         0.673508           6   \n",
              "3   26       1               1            167.0         0.874656           3   \n",
              "4   43       1               0            174.0         0.634783           5   \n",
              "\n",
              "   salary  satisfaction  status  tenure  dept_name  \n",
              "0       2      0.921208       0     4.0          6  \n",
              "1       2      0.210300       0     6.0          6  \n",
              "2       2      0.720369       0     3.0          6  \n",
              "3       2      0.575996       0     4.0          6  \n",
              "4       2      0.208138       0     5.0          6  "
            ],
            "text/html": [
              "\n",
              "  <div id=\"df-36a1f65c-7b0a-4b0b-8c8a-3d85a43015c8\">\n",
              "    <div class=\"colab-df-container\">\n",
              "      <div>\n",
              "<style scoped>\n",
              "    .dataframe tbody tr th:only-of-type {\n",
              "        vertical-align: middle;\n",
              "    }\n",
              "\n",
              "    .dataframe tbody tr th {\n",
              "        vertical-align: top;\n",
              "    }\n",
              "\n",
              "    .dataframe thead th {\n",
              "        text-align: right;\n",
              "    }\n",
              "</style>\n",
              "<table border=\"1\" class=\"dataframe\">\n",
              "  <thead>\n",
              "    <tr style=\"text-align: right;\">\n",
              "      <th></th>\n",
              "      <th>age</th>\n",
              "      <th>gender</th>\n",
              "      <th>marital_status</th>\n",
              "      <th>avg_monthly_hrs</th>\n",
              "      <th>last_evaluation</th>\n",
              "      <th>n_projects</th>\n",
              "      <th>salary</th>\n",
              "      <th>satisfaction</th>\n",
              "      <th>status</th>\n",
              "      <th>tenure</th>\n",
              "      <th>dept_name</th>\n",
              "    </tr>\n",
              "  </thead>\n",
              "  <tbody>\n",
              "    <tr>\n",
              "      <th>0</th>\n",
              "      <td>43</td>\n",
              "      <td>1</td>\n",
              "      <td>0</td>\n",
              "      <td>111.0</td>\n",
              "      <td>0.753977</td>\n",
              "      <td>5</td>\n",
              "      <td>2</td>\n",
              "      <td>0.921208</td>\n",
              "      <td>0</td>\n",
              "      <td>4.0</td>\n",
              "      <td>6</td>\n",
              "    </tr>\n",
              "    <tr>\n",
              "      <th>1</th>\n",
              "      <td>36</td>\n",
              "      <td>1</td>\n",
              "      <td>0</td>\n",
              "      <td>151.0</td>\n",
              "      <td>0.608282</td>\n",
              "      <td>5</td>\n",
              "      <td>2</td>\n",
              "      <td>0.210300</td>\n",
              "      <td>0</td>\n",
              "      <td>6.0</td>\n",
              "      <td>6</td>\n",
              "    </tr>\n",
              "    <tr>\n",
              "      <th>2</th>\n",
              "      <td>42</td>\n",
              "      <td>1</td>\n",
              "      <td>0</td>\n",
              "      <td>152.0</td>\n",
              "      <td>0.673508</td>\n",
              "      <td>6</td>\n",
              "      <td>2</td>\n",
              "      <td>0.720369</td>\n",
              "      <td>0</td>\n",
              "      <td>3.0</td>\n",
              "      <td>6</td>\n",
              "    </tr>\n",
              "    <tr>\n",
              "      <th>3</th>\n",
              "      <td>26</td>\n",
              "      <td>1</td>\n",
              "      <td>1</td>\n",
              "      <td>167.0</td>\n",
              "      <td>0.874656</td>\n",
              "      <td>3</td>\n",
              "      <td>2</td>\n",
              "      <td>0.575996</td>\n",
              "      <td>0</td>\n",
              "      <td>4.0</td>\n",
              "      <td>6</td>\n",
              "    </tr>\n",
              "    <tr>\n",
              "      <th>4</th>\n",
              "      <td>43</td>\n",
              "      <td>1</td>\n",
              "      <td>0</td>\n",
              "      <td>174.0</td>\n",
              "      <td>0.634783</td>\n",
              "      <td>5</td>\n",
              "      <td>2</td>\n",
              "      <td>0.208138</td>\n",
              "      <td>0</td>\n",
              "      <td>5.0</td>\n",
              "      <td>6</td>\n",
              "    </tr>\n",
              "  </tbody>\n",
              "</table>\n",
              "</div>\n",
              "      <button class=\"colab-df-convert\" onclick=\"convertToInteractive('df-36a1f65c-7b0a-4b0b-8c8a-3d85a43015c8')\"\n",
              "              title=\"Convert this dataframe to an interactive table.\"\n",
              "              style=\"display:none;\">\n",
              "        \n",
              "  <svg xmlns=\"http://www.w3.org/2000/svg\" height=\"24px\"viewBox=\"0 0 24 24\"\n",
              "       width=\"24px\">\n",
              "    <path d=\"M0 0h24v24H0V0z\" fill=\"none\"/>\n",
              "    <path d=\"M18.56 5.44l.94 2.06.94-2.06 2.06-.94-2.06-.94-.94-2.06-.94 2.06-2.06.94zm-11 1L8.5 8.5l.94-2.06 2.06-.94-2.06-.94L8.5 2.5l-.94 2.06-2.06.94zm10 10l.94 2.06.94-2.06 2.06-.94-2.06-.94-.94-2.06-.94 2.06-2.06.94z\"/><path d=\"M17.41 7.96l-1.37-1.37c-.4-.4-.92-.59-1.43-.59-.52 0-1.04.2-1.43.59L10.3 9.45l-7.72 7.72c-.78.78-.78 2.05 0 2.83L4 21.41c.39.39.9.59 1.41.59.51 0 1.02-.2 1.41-.59l7.78-7.78 2.81-2.81c.8-.78.8-2.07 0-2.86zM5.41 20L4 18.59l7.72-7.72 1.47 1.35L5.41 20z\"/>\n",
              "  </svg>\n",
              "      </button>\n",
              "      \n",
              "  <style>\n",
              "    .colab-df-container {\n",
              "      display:flex;\n",
              "      flex-wrap:wrap;\n",
              "      gap: 12px;\n",
              "    }\n",
              "\n",
              "    .colab-df-convert {\n",
              "      background-color: #E8F0FE;\n",
              "      border: none;\n",
              "      border-radius: 50%;\n",
              "      cursor: pointer;\n",
              "      display: none;\n",
              "      fill: #1967D2;\n",
              "      height: 32px;\n",
              "      padding: 0 0 0 0;\n",
              "      width: 32px;\n",
              "    }\n",
              "\n",
              "    .colab-df-convert:hover {\n",
              "      background-color: #E2EBFA;\n",
              "      box-shadow: 0px 1px 2px rgba(60, 64, 67, 0.3), 0px 1px 3px 1px rgba(60, 64, 67, 0.15);\n",
              "      fill: #174EA6;\n",
              "    }\n",
              "\n",
              "    [theme=dark] .colab-df-convert {\n",
              "      background-color: #3B4455;\n",
              "      fill: #D2E3FC;\n",
              "    }\n",
              "\n",
              "    [theme=dark] .colab-df-convert:hover {\n",
              "      background-color: #434B5C;\n",
              "      box-shadow: 0px 1px 3px 1px rgba(0, 0, 0, 0.15);\n",
              "      filter: drop-shadow(0px 1px 2px rgba(0, 0, 0, 0.3));\n",
              "      fill: #FFFFFF;\n",
              "    }\n",
              "  </style>\n",
              "\n",
              "      <script>\n",
              "        const buttonEl =\n",
              "          document.querySelector('#df-36a1f65c-7b0a-4b0b-8c8a-3d85a43015c8 button.colab-df-convert');\n",
              "        buttonEl.style.display =\n",
              "          google.colab.kernel.accessAllowed ? 'block' : 'none';\n",
              "\n",
              "        async function convertToInteractive(key) {\n",
              "          const element = document.querySelector('#df-36a1f65c-7b0a-4b0b-8c8a-3d85a43015c8');\n",
              "          const dataTable =\n",
              "            await google.colab.kernel.invokeFunction('convertToInteractive',\n",
              "                                                     [key], {});\n",
              "          if (!dataTable) return;\n",
              "\n",
              "          const docLinkHtml = 'Like what you see? Visit the ' +\n",
              "            '<a target=\"_blank\" href=https://colab.research.google.com/notebooks/data_table.ipynb>data table notebook</a>'\n",
              "            + ' to learn more about interactive tables.';\n",
              "          element.innerHTML = '';\n",
              "          dataTable['output_type'] = 'display_data';\n",
              "          await google.colab.output.renderOutput(dataTable, element);\n",
              "          const docLink = document.createElement('div');\n",
              "          docLink.innerHTML = docLinkHtml;\n",
              "          element.appendChild(docLink);\n",
              "        }\n",
              "      </script>\n",
              "    </div>\n",
              "  </div>\n",
              "  "
            ]
          },
          "metadata": {},
          "execution_count": 57
        }
      ],
      "source": [
        "df_final.head()"
      ]
    },
    {
      "cell_type": "code",
      "execution_count": 58,
      "metadata": {
        "id": "tS5u0Pnm5Jqm",
        "colab": {
          "base_uri": "https://localhost:8080/",
          "height": 562
        },
        "outputId": "4840204e-ff00-4f77-bb71-96eda15e3afa"
      },
      "outputs": [
        {
          "output_type": "display_data",
          "data": {
            "text/plain": [
              "<Figure size 864x576 with 2 Axes>"
            ],
            "image/png": "[encoded data removed]"
          },
          "metadata": {
            "needs_background": "light"
          }
        }
      ],
      "source": [
        "f, ax = plt.subplots(figsize=(12, 8))\n",
        "sns.heatmap(df_final.corr(), annot=True)\n",
        "plt.show()\n"
      ]
    },
    {
      "cell_type": "markdown",
      "metadata": {
        "id": "UDh5AVSV6aJC"
      },
      "source": [
        "#### __Observations:__\n",
        "\n",
        "> __marital_status__ is highly correlated to __age__ and __n_projects__."
      ]
    },
    {
      "cell_type": "code",
      "execution_count": 59,
      "metadata": {
        "id": "APkgi35-9yMn",
        "colab": {
          "base_uri": "https://localhost:8080/",
          "height": 206
        },
        "outputId": "ef923c1a-6654-49fd-9054-492653c921f8"
      },
      "outputs": [
        {
          "output_type": "execute_result",
          "data": {
            "text/plain": [
              "   age  gender  marital_status  avg_monthly_hrs  last_evaluation  n_projects  \\\n",
              "0   43       1               0            111.0         0.753977           5   \n",
              "1   36       1               0            151.0         0.608282           5   \n",
              "2   42       1               0            152.0         0.673508           6   \n",
              "3   26       1               1            167.0         0.874656           3   \n",
              "4   43       1               0            174.0         0.634783           5   \n",
              "\n",
              "   salary  satisfaction  status  tenure  dept_name  \n",
              "0       2      0.921208       0     4.0          6  \n",
              "1       2      0.210300       0     6.0          6  \n",
              "2       2      0.720369       0     3.0          6  \n",
              "3       2      0.575996       0     4.0          6  \n",
              "4       2      0.208138       0     5.0          6  "
            ],
            "text/html": [
              "\n",
              "  <div id=\"df-48053bee-d2e6-456e-b68a-796a5ffd2eaa\">\n",
              "    <div class=\"colab-df-container\">\n",
              "      <div>\n",
              "<style scoped>\n",
              "    .dataframe tbody tr th:only-of-type {\n",
              "        vertical-align: middle;\n",
              "    }\n",
              "\n",
              "    .dataframe tbody tr th {\n",
              "        vertical-align: top;\n",
              "    }\n",
              "\n",
              "    .dataframe thead th {\n",
              "        text-align: right;\n",
              "    }\n",
              "</style>\n",
              "<table border=\"1\" class=\"dataframe\">\n",
              "  <thead>\n",
              "    <tr style=\"text-align: right;\">\n",
              "      <th></th>\n",
              "      <th>age</th>\n",
              "      <th>gender</th>\n",
              "      <th>marital_status</th>\n",
              "      <th>avg_monthly_hrs</th>\n",
              "      <th>last_evaluation</th>\n",
              "      <th>n_projects</th>\n",
              "      <th>salary</th>\n",
              "      <th>satisfaction</th>\n",
              "      <th>status</th>\n",
              "      <th>tenure</th>\n",
              "      <th>dept_name</th>\n",
              "    </tr>\n",
              "  </thead>\n",
              "  <tbody>\n",
              "    <tr>\n",
              "      <th>0</th>\n",
              "      <td>43</td>\n",
              "      <td>1</td>\n",
              "      <td>0</td>\n",
              "      <td>111.0</td>\n",
              "      <td>0.753977</td>\n",
              "      <td>5</td>\n",
              "      <td>2</td>\n",
              "      <td>0.921208</td>\n",
              "      <td>0</td>\n",
              "      <td>4.0</td>\n",
              "      <td>6</td>\n",
              "    </tr>\n",
              "    <tr>\n",
              "      <th>1</th>\n",
              "      <td>36</td>\n",
              "      <td>1</td>\n",
              "      <td>0</td>\n",
              "      <td>151.0</td>\n",
              "      <td>0.608282</td>\n",
              "      <td>5</td>\n",
              "      <td>2</td>\n",
              "      <td>0.210300</td>\n",
              "      <td>0</td>\n",
              "      <td>6.0</td>\n",
              "      <td>6</td>\n",
              "    </tr>\n",
              "    <tr>\n",
              "      <th>2</th>\n",
              "      <td>42</td>\n",
              "      <td>1</td>\n",
              "      <td>0</td>\n",
              "      <td>152.0</td>\n",
              "      <td>0.673508</td>\n",
              "      <td>6</td>\n",
              "      <td>2</td>\n",
              "      <td>0.720369</td>\n",
              "      <td>0</td>\n",
              "      <td>3.0</td>\n",
              "      <td>6</td>\n",
              "    </tr>\n",
              "    <tr>\n",
              "      <th>3</th>\n",
              "      <td>26</td>\n",
              "      <td>1</td>\n",
              "      <td>1</td>\n",
              "      <td>167.0</td>\n",
              "      <td>0.874656</td>\n",
              "      <td>3</td>\n",
              "      <td>2</td>\n",
              "      <td>0.575996</td>\n",
              "      <td>0</td>\n",
              "      <td>4.0</td>\n",
              "      <td>6</td>\n",
              "    </tr>\n",
              "    <tr>\n",
              "      <th>4</th>\n",
              "      <td>43</td>\n",
              "      <td>1</td>\n",
              "      <td>0</td>\n",
              "      <td>174.0</td>\n",
              "      <td>0.634783</td>\n",
              "      <td>5</td>\n",
              "      <td>2</td>\n",
              "      <td>0.208138</td>\n",
              "      <td>0</td>\n",
              "      <td>5.0</td>\n",
              "      <td>6</td>\n",
              "    </tr>\n",
              "  </tbody>\n",
              "</table>\n",
              "</div>\n",
              "      <button class=\"colab-df-convert\" onclick=\"convertToInteractive('df-48053bee-d2e6-456e-b68a-796a5ffd2eaa')\"\n",
              "              title=\"Convert this dataframe to an interactive table.\"\n",
              "              style=\"display:none;\">\n",
              "        \n",
              "  <svg xmlns=\"http://www.w3.org/2000/svg\" height=\"24px\"viewBox=\"0 0 24 24\"\n",
              "       width=\"24px\">\n",
              "    <path d=\"M0 0h24v24H0V0z\" fill=\"none\"/>\n",
              "    <path d=\"M18.56 5.44l.94 2.06.94-2.06 2.06-.94-2.06-.94-.94-2.06-.94 2.06-2.06.94zm-11 1L8.5 8.5l.94-2.06 2.06-.94-2.06-.94L8.5 2.5l-.94 2.06-2.06.94zm10 10l.94 2.06.94-2.06 2.06-.94-2.06-.94-.94-2.06-.94 2.06-2.06.94z\"/><path d=\"M17.41 7.96l-1.37-1.37c-.4-.4-.92-.59-1.43-.59-.52 0-1.04.2-1.43.59L10.3 9.45l-7.72 7.72c-.78.78-.78 2.05 0 2.83L4 21.41c.39.39.9.59 1.41.59.51 0 1.02-.2 1.41-.59l7.78-7.78 2.81-2.81c.8-.78.8-2.07 0-2.86zM5.41 20L4 18.59l7.72-7.72 1.47 1.35L5.41 20z\"/>\n",
              "  </svg>\n",
              "      </button>\n",
              "      \n",
              "  <style>\n",
              "    .colab-df-container {\n",
              "      display:flex;\n",
              "      flex-wrap:wrap;\n",
              "      gap: 12px;\n",
              "    }\n",
              "\n",
              "    .colab-df-convert {\n",
              "      background-color: #E8F0FE;\n",
              "      border: none;\n",
              "      border-radius: 50%;\n",
              "      cursor: pointer;\n",
              "      display: none;\n",
              "      fill: #1967D2;\n",
              "      height: 32px;\n",
              "      padding: 0 0 0 0;\n",
              "      width: 32px;\n",
              "    }\n",
              "\n",
              "    .colab-df-convert:hover {\n",
              "      background-color: #E2EBFA;\n",
              "      box-shadow: 0px 1px 2px rgba(60, 64, 67, 0.3), 0px 1px 3px 1px rgba(60, 64, 67, 0.15);\n",
              "      fill: #174EA6;\n",
              "    }\n",
              "\n",
              "    [theme=dark] .colab-df-convert {\n",
              "      background-color: #3B4455;\n",
              "      fill: #D2E3FC;\n",
              "    }\n",
              "\n",
              "    [theme=dark] .colab-df-convert:hover {\n",
              "      background-color: #434B5C;\n",
              "      box-shadow: 0px 1px 3px 1px rgba(0, 0, 0, 0.15);\n",
              "      filter: drop-shadow(0px 1px 2px rgba(0, 0, 0, 0.3));\n",
              "      fill: #FFFFFF;\n",
              "    }\n",
              "  </style>\n",
              "\n",
              "      <script>\n",
              "        const buttonEl =\n",
              "          document.querySelector('#df-48053bee-d2e6-456e-b68a-796a5ffd2eaa button.colab-df-convert');\n",
              "        buttonEl.style.display =\n",
              "          google.colab.kernel.accessAllowed ? 'block' : 'none';\n",
              "\n",
              "        async function convertToInteractive(key) {\n",
              "          const element = document.querySelector('#df-48053bee-d2e6-456e-b68a-796a5ffd2eaa');\n",
              "          const dataTable =\n",
              "            await google.colab.kernel.invokeFunction('convertToInteractive',\n",
              "                                                     [key], {});\n",
              "          if (!dataTable) return;\n",
              "\n",
              "          const docLinkHtml = 'Like what you see? Visit the ' +\n",
              "            '<a target=\"_blank\" href=https://colab.research.google.com/notebooks/data_table.ipynb>data table notebook</a>'\n",
              "            + ' to learn more about interactive tables.';\n",
              "          element.innerHTML = '';\n",
              "          dataTable['output_type'] = 'display_data';\n",
              "          await google.colab.output.renderOutput(dataTable, element);\n",
              "          const docLink = document.createElement('div');\n",
              "          docLink.innerHTML = docLinkHtml;\n",
              "          element.appendChild(docLink);\n",
              "        }\n",
              "      </script>\n",
              "    </div>\n",
              "  </div>\n",
              "  "
            ]
          },
          "metadata": {},
          "execution_count": 59
        }
      ],
      "source": [
        "df_final.head()"
      ]
    },
    {
      "cell_type": "code",
      "execution_count": 60,
      "metadata": {
        "id": "xoGeMd9F-Ic5",
        "colab": {
          "base_uri": "https://localhost:8080/"
        },
        "outputId": "d75d477a-36b1-4785-df2e-85f90423018a"
      },
      "outputs": [
        {
          "output_type": "execute_result",
          "data": {
            "text/plain": [
              "(13410, 11)"
            ]
          },
          "metadata": {},
          "execution_count": 60
        }
      ],
      "source": [
        "df_final.shape"
      ]
    },
    {
      "cell_type": "markdown",
      "metadata": {
        "id": "-OfWmf_m5a5G"
      },
      "source": [
        "---\n",
        "<a name = Section92></a>\n",
        "### **9.2 Data Preparation**\n",
        "---"
      ]
    },
    {
      "cell_type": "code",
      "execution_count": 61,
      "metadata": {
        "id": "iuFHiatW9m7t",
        "colab": {
          "base_uri": "https://localhost:8080/"
        },
        "outputId": "f54aa1ee-7724-45c4-d016-eb0a7f858cbc"
      },
      "outputs": [
        {
          "output_type": "stream",
          "name": "stdout",
          "text": [
            "Train cases as below\n",
            "X_train shape:  (10728, 10)\n",
            "y_train shape:  (10728,)\n",
            "\n",
            "Test cases as below\n",
            "X_test shape:  (2682, 10)\n",
            "y_test shape:  (2682,)\n"
          ]
        }
      ],
      "source": [
        "# train test split\n",
        "\n",
        "X = df_final[['avg_monthly_hrs', 'last_evaluation', 'n_projects', 'salary', 'satisfaction', 'tenure', 'age', 'gender', 'marital_status', 'dept_name']]\n",
        "y = df_final.status\n",
        "X_train, X_test, y_train, y_test = train_test_split(X, y, test_size=0.20, random_state=42)\n",
        "\n",
        "print('Train cases as below')\n",
        "print('X_train shape: ',X_train.shape)\n",
        "print('y_train shape: ',y_train.shape)\n",
        "print('\\nTest cases as below')\n",
        "print('X_test shape: ',X_test.shape)\n",
        "print('y_test shape: ',y_test.shape)\n"
      ]
    },
    {
      "cell_type": "markdown",
      "metadata": {
        "id": "QD7_VK805a5H"
      },
      "source": [
        "---\n",
        "<a name = Section93></a>\n",
        "### **9.3 Data Scaling**\n",
        "---"
      ]
    },
    {
      "cell_type": "code",
      "execution_count": 62,
      "metadata": {
        "id": "pdiWV8X--E_n"
      },
      "outputs": [],
      "source": [
        "# Standard Scaling before modelling\n",
        "\n",
        "from sklearn.preprocessing import StandardScaler\n",
        "scaler = StandardScaler()\n",
        "\n",
        "X_train = scaler.fit_transform(X_train)\n",
        "X_test = scaler.transform(X_test)"
      ]
    },
    {
      "cell_type": "markdown",
      "metadata": {
        "id": "OJ2IMWyc5UXH"
      },
      "source": [
        "---\n",
        "<a name = Section10></a>\n",
        "# **10. Model Devlopment and Evaluation**\n",
        "---\n",
        "\n",
        "Since this is a classification problem, we would build the below models and compare them for efficiency.\n",
        "\n",
        "> 1. Logistics Regression\n",
        "> 2. Decision Tree Clasifier\n",
        "> 3. Random Forest Classifier\n",
        "> 4. KNN Classifier\n",
        "> 5. Naive Bayes Classifier\n",
        "> 6. Gradient Boosting Classifier\n",
        "> 7. XGBoost Classifier\n",
        "> 8. AdaBoost Classifier\n",
        "\n",
        "\n",
        "\n",
        "\n",
        "\n",
        "\n",
        "\n",
        "\n"
      ]
    },
    {
      "cell_type": "markdown",
      "metadata": {
        "id": "odWEuQtu_hX7"
      },
      "source": [
        "---\n",
        "<a name = Section101></a>\n",
        "### **10.1 Logistic Regression**\n",
        "---"
      ]
    },
    {
      "cell_type": "code",
      "execution_count": 63,
      "metadata": {
        "id": "fLoJDs7e_XAg",
        "colab": {
          "base_uri": "https://localhost:8080/"
        },
        "outputId": "a2d3b2da-dff3-4aa2-e30e-3fe6497358a6"
      },
      "outputs": [
        {
          "output_type": "stream",
          "name": "stdout",
          "text": [
            "Classification Report for Logistic Regresion\n",
            "\n",
            "               precision    recall  f1-score   support\n",
            "\n",
            "           0       0.81      0.93      0.87      2059\n",
            "           1       0.56      0.30      0.39       623\n",
            "\n",
            "    accuracy                           0.78      2682\n",
            "   macro avg       0.69      0.62      0.63      2682\n",
            "weighted avg       0.76      0.78      0.76      2682\n",
            "\n",
            "Accuracy is : 78.29977628635348\n"
          ]
        }
      ],
      "source": [
        "# create object for Logistic Regression\n",
        "\n",
        "logreg = LogisticRegression()\n",
        "logreg.fit(X_train, y_train)\n",
        "\n",
        "# predict on X_train and X_test\n",
        "\n",
        "y_pred_test = logreg.predict(X_test)\n",
        "\n",
        "# classification report\n",
        "\n",
        "print('Classification Report for Logistic Regresion\\n\\n', classification_report(y_test,y_pred_test))\n",
        "\n",
        "# Accuracy score\n",
        "\n",
        "logreg_ac = accuracy_score(y_test, y_pred_test)*100\n",
        "print('Accuracy is :', logreg_ac)"
      ]
    },
    {
      "cell_type": "markdown",
      "metadata": {
        "id": "mi8mWfyZKYvX"
      },
      "source": [
        "---\n",
        "<a name = Section102></a>\n",
        "### **10.2 Decision Tree Classifier**\n",
        "---"
      ]
    },
    {
      "cell_type": "code",
      "execution_count": 64,
      "metadata": {
        "id": "noRJoIDAGHeq",
        "colab": {
          "base_uri": "https://localhost:8080/"
        },
        "outputId": "27c501ba-71e6-44e4-a39a-77340b5c55bd"
      },
      "outputs": [
        {
          "output_type": "stream",
          "name": "stdout",
          "text": [
            "Classification Report for Decision Tree\n",
            "\n",
            "               precision    recall  f1-score   support\n",
            "\n",
            "           0       0.97      0.99      0.98      2059\n",
            "           1       0.96      0.88      0.92       623\n",
            "\n",
            "    accuracy                           0.97      2682\n",
            "   macro avg       0.96      0.94      0.95      2682\n",
            "weighted avg       0.97      0.97      0.96      2682\n",
            "\n",
            "Accuracy is : 96.53243847874721\n"
          ]
        }
      ],
      "source": [
        "# create object for Decision Tree Clasifier\n",
        "\n",
        "dt_clf = DecisionTreeClassifier(criterion='entropy', min_samples_leaf=22, min_samples_split=2, random_state=42, splitter='best')\n",
        "dt_clf.fit(X_train, y_train)\n",
        "\n",
        "y_pred_test1 = dt_clf.predict(X_test)\n",
        "\n",
        "# Classification Report\n",
        "\n",
        "print('Classification Report for Decision Tree\\n\\n', classification_report(y_test, y_pred_test1))\n",
        "\n",
        "# Accuracy score\n",
        "\n",
        "dt_clf_accuracy = accuracy_score(y_test, y_pred_test1)*100\n",
        "print('Accuracy is :', dt_clf_accuracy)\n"
      ]
    },
    {
      "cell_type": "markdown",
      "metadata": {
        "id": "5kEgDUbbYpVu"
      },
      "source": [
        "---\n",
        "<a name = Section103></a>\n",
        "### **10.3 Random Forest Classifier**\n",
        "---"
      ]
    },
    {
      "cell_type": "code",
      "execution_count": 65,
      "metadata": {
        "id": "pqQjEed4QE2Y",
        "colab": {
          "base_uri": "https://localhost:8080/"
        },
        "outputId": "9846547b-3e4b-47b1-cf5c-47d15118bccb"
      },
      "outputs": [
        {
          "output_type": "stream",
          "name": "stdout",
          "text": [
            "Classification Report for Random Forest\n",
            "\n",
            "               precision    recall  f1-score   support\n",
            "\n",
            "           0       0.98      1.00      0.99      2059\n",
            "           1       0.98      0.92      0.95       623\n",
            "\n",
            "    accuracy                           0.98      2682\n",
            "   macro avg       0.98      0.96      0.97      2682\n",
            "weighted avg       0.98      0.98      0.98      2682\n",
            "\n",
            "Accuracy is : 97.91200596569725\n"
          ]
        }
      ],
      "source": [
        "# create object for Random Forest Clasifier\n",
        "\n",
        "rf_clf = RandomForestClassifier(criterion='entropy', max_features='auto', n_estimators=100, random_state=42)\n",
        "rf_clf.fit(X_train, y_train)\n",
        "\n",
        "y_pred_test2 = rf_clf.predict(X_test)\n",
        "\n",
        "# Classification Report\n",
        "\n",
        "print('Classification Report for Random Forest\\n\\n', classification_report(y_test, y_pred_test2))\n",
        "\n",
        "# Accuracy score\n",
        "\n",
        "rf_clf_accuracy = accuracy_score(y_test, y_pred_test2)*100\n",
        "print('Accuracy is :', rf_clf_accuracy)\n"
      ]
    },
    {
      "cell_type": "markdown",
      "metadata": {
        "id": "-zp1SU2Zkvf5"
      },
      "source": [
        "---\n",
        "<a name = Section104></a>\n",
        "### **10.4 KNN Classifier**\n",
        "---"
      ]
    },
    {
      "cell_type": "code",
      "execution_count": 66,
      "metadata": {
        "id": "MHU7VfHYimqA",
        "colab": {
          "base_uri": "https://localhost:8080/"
        },
        "outputId": "0d659fbf-28bd-4b7c-97ef-afa443d3e686"
      },
      "outputs": [
        {
          "output_type": "stream",
          "name": "stdout",
          "text": [
            "Classification Report for KNN\n",
            "\n",
            "               precision    recall  f1-score   support\n",
            "\n",
            "           0       0.98      0.96      0.97      2059\n",
            "           1       0.87      0.92      0.90       623\n",
            "\n",
            "    accuracy                           0.95      2682\n",
            "   macro avg       0.93      0.94      0.93      2682\n",
            "weighted avg       0.95      0.95      0.95      2682\n",
            "\n",
            "Accuracy is : 95.07829977628636\n"
          ]
        }
      ],
      "source": [
        "# create object of KNN Clasifier\n",
        "\n",
        "knn_clf = KNeighborsClassifier(n_neighbors=5, algorithm='auto', leaf_size=30, metric='manhattan', n_jobs=-1)\n",
        "knn_clf.fit(X_train, y_train)\n",
        "\n",
        "y_pred_test3 = knn_clf.predict(X_test)\n",
        "\n",
        "# Classification Report\n",
        "\n",
        "print('Classification Report for KNN\\n\\n', classification_report(y_test, y_pred_test3))\n",
        "\n",
        "# Accuracy Score\n",
        "\n",
        "knn_clf_accuracy = accuracy_score(y_test, y_pred_test3)*100\n",
        "print('Accuracy is :', knn_clf_accuracy)\n"
      ]
    },
    {
      "cell_type": "markdown",
      "metadata": {
        "id": "nHcezGbDrLwX"
      },
      "source": [
        "---\n",
        "<a name = Section105></a>\n",
        "### **10.5 Naive Bayes Classifier**\n",
        "---"
      ]
    },
    {
      "cell_type": "code",
      "execution_count": 67,
      "metadata": {
        "id": "HAbrR25lnNse",
        "colab": {
          "base_uri": "https://localhost:8080/"
        },
        "outputId": "fca9a4d6-7d38-42b4-b79a-2133b6272aeb"
      },
      "outputs": [
        {
          "output_type": "stream",
          "name": "stdout",
          "text": [
            "Classification Report for Naive Bayes\n",
            "\n",
            "               precision    recall  f1-score   support\n",
            "\n",
            "           0       0.86      0.93      0.90      2059\n",
            "           1       0.69      0.50      0.58       623\n",
            "\n",
            "    accuracy                           0.83      2682\n",
            "   macro avg       0.78      0.72      0.74      2682\n",
            "weighted avg       0.82      0.83      0.82      2682\n",
            "\n",
            "Accuracy is : 83.22147651006712\n"
          ]
        }
      ],
      "source": [
        "# create object of Naive Bayes Classifier\n",
        "\n",
        "gnb_clf = GaussianNB()\n",
        "gnb_clf.fit(X_train, y_train)\n",
        "\n",
        "y_pred_test4 = gnb_clf.predict(X_test)\n",
        "\n",
        "# Classification Report\n",
        "\n",
        "print('Classification Report for Naive Bayes\\n\\n', classification_report(y_test, y_pred_test4))\n",
        "\n",
        "# Accuracy Score\n",
        "\n",
        "gnb_clf_accuracy = accuracy_score(y_test, y_pred_test4)*100\n",
        "print('Accuracy is :', gnb_clf_accuracy)\n"
      ]
    },
    {
      "cell_type": "markdown",
      "metadata": {
        "id": "xeoqI3jswmbe"
      },
      "source": [
        "---\n",
        "<a name = Section106></a>\n",
        "### **10.6 Gradient Boosting Classifier**\n",
        "---"
      ]
    },
    {
      "cell_type": "code",
      "execution_count": 68,
      "metadata": {
        "id": "09NT4dstvRYk",
        "colab": {
          "base_uri": "https://localhost:8080/"
        },
        "outputId": "164e6b8d-5645-48d9-cd0d-bb1b0e1ade24"
      },
      "outputs": [
        {
          "output_type": "stream",
          "name": "stdout",
          "text": [
            "Classification Report for Gradient Boosting\n",
            "\n",
            "               precision    recall  f1-score   support\n",
            "\n",
            "           0       0.98      0.99      0.99      2059\n",
            "           1       0.97      0.94      0.95       623\n",
            "\n",
            "    accuracy                           0.98      2682\n",
            "   macro avg       0.98      0.96      0.97      2682\n",
            "weighted avg       0.98      0.98      0.98      2682\n",
            "\n",
            "Accuracy is : 97.87472035794184\n"
          ]
        }
      ],
      "source": [
        "# create object of Gradient Boosting Clasifier\n",
        "\n",
        "gb_clf = GradientBoostingClassifier(n_estimators=200, criterion='friedman_mse', max_depth=8, learning_rate=0.1, random_state=42)\n",
        "gb_clf.fit(X_train, y_train)\n",
        "\n",
        "y_pred_test5 = gb_clf.predict(X_test)\n",
        "\n",
        "# Classification Report\n",
        "\n",
        "print('Classification Report for Gradient Boosting\\n\\n', classification_report(y_test, y_pred_test5))\n",
        "\n",
        "# Accuracy Score\n",
        "\n",
        "gb_clf_accuracy = accuracy_score(y_test, y_pred_test5)*100\n",
        "print('Accuracy is :', gb_clf_accuracy)\n"
      ]
    },
    {
      "cell_type": "markdown",
      "metadata": {
        "id": "JrTM-uzE3Zkg"
      },
      "source": [
        "---\n",
        "<a name = Section107></a>\n",
        "### **10.7 XGBoost Classifier**\n",
        "---"
      ]
    },
    {
      "cell_type": "code",
      "execution_count": 69,
      "metadata": {
        "id": "BokkLeld3Ycc",
        "colab": {
          "base_uri": "https://localhost:8080/"
        },
        "outputId": "61831b75-6e8c-4d5a-ea99-3179137371c0"
      },
      "outputs": [
        {
          "output_type": "stream",
          "name": "stdout",
          "text": [
            "Classification Report for XGBoost\n",
            "\n",
            "               precision    recall  f1-score   support\n",
            "\n",
            "           0       0.98      0.99      0.98      2059\n",
            "           1       0.96      0.93      0.94       623\n",
            "\n",
            "    accuracy                           0.97      2682\n",
            "   macro avg       0.97      0.96      0.96      2682\n",
            "weighted avg       0.97      0.97      0.97      2682\n",
            "\n",
            "Accuracy is : 97.46457867263236\n"
          ]
        }
      ],
      "source": [
        "# create object of XGBoost Clasifier\n",
        "\n",
        "xgb_clf = XGBClassifier(base_score=0.5, booster='gbtree', learning_rate=0.1, max_depth=3, n_estimators=200,\n",
        "                        n_jobs=-1, objective='binary:logistic', random_state=42)\n",
        "\n",
        "xgb_clf.fit(X_train, y_train)\n",
        "\n",
        "y_pred_test6 = xgb_clf.predict(X_test)\n",
        "\n",
        "# Classification Report\n",
        "\n",
        "print('Classification Report for XGBoost\\n\\n', classification_report(y_test, y_pred_test6))\n",
        "\n",
        "# Accuracy Score\n",
        "\n",
        "xgb_clf_accuracy = accuracy_score(y_test, y_pred_test6)*100\n",
        "print('Accuracy is :', xgb_clf_accuracy)\n"
      ]
    },
    {
      "cell_type": "markdown",
      "metadata": {
        "id": "B9Da7PzJ7oIf"
      },
      "source": [
        "---\n",
        "<a name = Section108></a>\n",
        "### **10.8 AdaBoost Classifier**\n",
        "---"
      ]
    },
    {
      "cell_type": "code",
      "execution_count": 70,
      "metadata": {
        "id": "979LYnji5sUb",
        "colab": {
          "base_uri": "https://localhost:8080/"
        },
        "outputId": "55a3c42e-8914-4182-ac25-a7c69b518655"
      },
      "outputs": [
        {
          "output_type": "stream",
          "name": "stdout",
          "text": [
            "Classification Report for AdaBoost\n",
            "\n",
            "               precision    recall  f1-score   support\n",
            "\n",
            "           0       0.90      0.96      0.93      2059\n",
            "           1       0.83      0.64      0.72       623\n",
            "\n",
            "    accuracy                           0.89      2682\n",
            "   macro avg       0.86      0.80      0.83      2682\n",
            "weighted avg       0.88      0.89      0.88      2682\n",
            "\n",
            "Accuracy is : 88.59060402684564\n"
          ]
        }
      ],
      "source": [
        "# create object of AdaBoost Clasifier\n",
        "\n",
        "adb_clf = AdaBoostClassifier(n_estimators=300, learning_rate=0.1, algorithm='SAMME', random_state=42)\n",
        "adb_clf.fit(X_train, y_train)\n",
        "\n",
        "y_pred_test7 = adb_clf.predict(X_test)\n",
        "\n",
        "# Classification Report\n",
        "\n",
        "print('Classification Report for AdaBoost\\n\\n', classification_report(y_test, y_pred_test7))\n",
        "\n",
        "# Accuracy Score\n",
        "\n",
        "adb_clf_accuracy = accuracy_score(y_test, y_pred_test7)*100\n",
        "print('Accuracy is :', adb_clf_accuracy)\n"
      ]
    },
    {
      "cell_type": "markdown",
      "metadata": {
        "id": "yBktWlO09Fo0"
      },
      "source": [
        "### __Comapring Accuracy's__"
      ]
    },
    {
      "cell_type": "code",
      "execution_count": 71,
      "metadata": {
        "id": "E5cmR2L18KGa",
        "colab": {
          "base_uri": "https://localhost:8080/"
        },
        "outputId": "dc678d2c-d023-4b97-bfdf-95bd00d519f9"
      },
      "outputs": [
        {
          "output_type": "stream",
          "name": "stdout",
          "text": [
            "Accuracy of Logistic Regression without cross-val is : 78.29977628635348\n",
            "Accuracy of Decision Tree Classifier without cross-val is : 96.53243847874721\n",
            "Accuracy of Random Forest Classifier without cross-val is : 97.91200596569725\n",
            "Accuracy of KNN Classifier without cross-val is : 95.07829977628636\n",
            "Accuracy of Naiye Bayes Classifier without cross-val is : 83.22147651006712\n",
            "Accuracy of Gradient Boosting Classifier without cross-val is : 97.87472035794184\n",
            "Accuracy of XGBoost Classifier without cross-val is : 97.46457867263236\n",
            "Accuracy of AdaBoost Classifier without cross-val is : 88.59060402684564\n"
          ]
        }
      ],
      "source": [
        "print('Accuracy of Logistic Regression without cross-val is :', logreg_ac)\n",
        "print('Accuracy of Decision Tree Classifier without cross-val is :', dt_clf_accuracy)\n",
        "print('Accuracy of Random Forest Classifier without cross-val is :', rf_clf_accuracy)\n",
        "print('Accuracy of KNN Classifier without cross-val is :', knn_clf_accuracy)\n",
        "print('Accuracy of Naiye Bayes Classifier without cross-val is :', gnb_clf_accuracy)\n",
        "print('Accuracy of Gradient Boosting Classifier without cross-val is :', gb_clf_accuracy)\n",
        "print('Accuracy of XGBoost Classifier without cross-val is :', xgb_clf_accuracy)\n",
        "print('Accuracy of AdaBoost Classifier without cross-val is :', adb_clf_accuracy)"
      ]
    },
    {
      "cell_type": "markdown",
      "metadata": {
        "id": "FpjJK_oV70Ra"
      },
      "source": [
        "---\n",
        "<a name = Section11></a>\n",
        "# **11. Modelling using Cross-Validation**\n",
        "---"
      ]
    },
    {
      "cell_type": "code",
      "execution_count": 72,
      "metadata": {
        "colab": {
          "base_uri": "https://localhost:8080/"
        },
        "id": "Gd30Nzev5a5T",
        "outputId": "78bb3a02-5681-415e-fe06-b3a05bc91793"
      },
      "outputs": [
        {
          "output_type": "execute_result",
          "data": {
            "text/plain": [
              "0.7820283370618941"
            ]
          },
          "metadata": {},
          "execution_count": 72
        }
      ],
      "source": [
        "# Logistic Regression\n",
        "scores1 = cross_val_score(logreg, X, y, cv=10, scoring='accuracy')\n",
        "scores1.mean()"
      ]
    },
    {
      "cell_type": "code",
      "execution_count": 73,
      "metadata": {
        "id": "Nd3lHxt28L_e",
        "colab": {
          "base_uri": "https://localhost:8080/"
        },
        "outputId": "2905add1-b67a-4812-8f74-d60e5917104c"
      },
      "outputs": [
        {
          "output_type": "execute_result",
          "data": {
            "text/plain": [
              "0.9648023862788964"
            ]
          },
          "metadata": {},
          "execution_count": 73
        }
      ],
      "source": [
        "# Decision Tree Clasifier\n",
        "scores2 = cross_val_score(dt_clf, X, y, cv=10, scoring='accuracy') \n",
        "scores2.mean()"
      ]
    },
    {
      "cell_type": "code",
      "execution_count": 74,
      "metadata": {
        "id": "0x6NexUd8Zrh",
        "colab": {
          "base_uri": "https://localhost:8080/"
        },
        "outputId": "8ab3bad3-0761-4fca-cbb5-803d608eae94"
      },
      "outputs": [
        {
          "output_type": "execute_result",
          "data": {
            "text/plain": [
              "0.9759134973900074"
            ]
          },
          "metadata": {},
          "execution_count": 74
        }
      ],
      "source": [
        "# Random Forest Classifier\n",
        "scores3 = cross_val_score(rf_clf, X, y, cv=10, scoring='accuracy') \n",
        "scores3.mean()"
      ]
    },
    {
      "cell_type": "code",
      "execution_count": 75,
      "metadata": {
        "id": "G_3WlfeI8bfl",
        "colab": {
          "base_uri": "https://localhost:8080/"
        },
        "outputId": "58a008c3-fcff-422c-cf69-f81f74279396"
      },
      "outputs": [
        {
          "output_type": "execute_result",
          "data": {
            "text/plain": [
              "0.9149888143176733"
            ]
          },
          "metadata": {},
          "execution_count": 75
        }
      ],
      "source": [
        "# KNN Classifier\n",
        "scores4 = cross_val_score(knn_clf, X, y, cv=10, scoring='accuracy') \n",
        "scores4.mean()"
      ]
    },
    {
      "cell_type": "code",
      "execution_count": 76,
      "metadata": {
        "id": "ochA6o4K8bcu",
        "colab": {
          "base_uri": "https://localhost:8080/"
        },
        "outputId": "fe5b5b15-e94a-4f99-ab52-8cc8822a7e5f"
      },
      "outputs": [
        {
          "output_type": "execute_result",
          "data": {
            "text/plain": [
              "0.8233407904548844"
            ]
          },
          "metadata": {},
          "execution_count": 76
        }
      ],
      "source": [
        "# Naive Bayes Classifier\n",
        "scores5 = cross_val_score(gnb_clf, X, y, cv=10, scoring='accuracy') \n",
        "scores5.mean()"
      ]
    },
    {
      "cell_type": "code",
      "execution_count": 77,
      "metadata": {
        "id": "OSqbYue_8bYT",
        "colab": {
          "base_uri": "https://localhost:8080/"
        },
        "outputId": "3898cf9b-0d56-49df-9af7-98627ec56d26"
      },
      "outputs": [
        {
          "output_type": "execute_result",
          "data": {
            "text/plain": [
              "0.9777032065622671"
            ]
          },
          "metadata": {},
          "execution_count": 77
        }
      ],
      "source": [
        "# Gradient Boosting Classifier\n",
        "scores6 = cross_val_score(gb_clf, X, y, cv=10, scoring='accuracy') \n",
        "scores6.mean()"
      ]
    },
    {
      "cell_type": "code",
      "execution_count": 78,
      "metadata": {
        "id": "kxvfzciB8bPu",
        "colab": {
          "base_uri": "https://localhost:8080/"
        },
        "outputId": "4272fed3-cfbc-4fd9-e29b-3b0d6b47cd06"
      },
      "outputs": [
        {
          "output_type": "execute_result",
          "data": {
            "text/plain": [
              "0.9711409395973154"
            ]
          },
          "metadata": {},
          "execution_count": 78
        }
      ],
      "source": [
        "# XGBoost Classifier\n",
        "scores7 = cross_val_score(xgb_clf, X, y, cv=10, scoring='accuracy') \n",
        "scores7.mean()"
      ]
    },
    {
      "cell_type": "code",
      "execution_count": 79,
      "metadata": {
        "id": "nqEz-BXx8a_i",
        "colab": {
          "base_uri": "https://localhost:8080/"
        },
        "outputId": "05484df0-e462-4016-9bd2-a304c8294255"
      },
      "outputs": [
        {
          "output_type": "execute_result",
          "data": {
            "text/plain": [
              "0.8826994780014914"
            ]
          },
          "metadata": {},
          "execution_count": 79
        }
      ],
      "source": [
        "# AdaBoost Classifier\n",
        "scores8 = cross_val_score(adb_clf, X, y, cv=10, scoring='accuracy') \n",
        "scores8.mean()"
      ]
    },
    {
      "cell_type": "markdown",
      "metadata": {
        "id": "g4wppG9eN1h9"
      },
      "source": [
        "### __Comapring Accuracy's__"
      ]
    },
    {
      "cell_type": "code",
      "execution_count": 80,
      "metadata": {
        "id": "Fnr-un-f_Aic",
        "colab": {
          "base_uri": "https://localhost:8080/"
        },
        "outputId": "3ab6f2c9-b870-4e4f-8e32-0d7de042388b"
      },
      "outputs": [
        {
          "output_type": "stream",
          "name": "stdout",
          "text": [
            "Accuracy of Logistic Regression using cross validation :  78.20283370618941\n",
            "Accuracy of Decistion Tree using cross validation :  96.48023862788963\n",
            "Accuracy of Random Forest using cross validation :  97.59134973900075\n",
            "Accuracy of KNN using cross validation :  91.49888143176733\n",
            "Accuracy of Naive Bayes using cross validation :  82.33407904548844\n",
            "Accuracy of Gradient Boosting using cross validation :  97.7703206562267\n",
            "Accuracy of XGBoost using cross validation :  97.11409395973153\n",
            "Accuracy of AdaBoost using cross validation :  88.26994780014914\n"
          ]
        }
      ],
      "source": [
        "print('Accuracy of Logistic Regression using cross validation : ', scores1.mean()*100)\n",
        "print('Accuracy of Decistion Tree using cross validation : ', scores2.mean()*100)\n",
        "print('Accuracy of Random Forest using cross validation : ', scores3.mean()*100)\n",
        "print('Accuracy of KNN using cross validation : ', scores4.mean()*100)\n",
        "print('Accuracy of Naive Bayes using cross validation : ', scores5.mean()*100)\n",
        "print('Accuracy of Gradient Boosting using cross validation : ', scores6.mean()*100)\n",
        "print('Accuracy of XGBoost using cross validation : ', scores7.mean()*100)\n",
        "print('Accuracy of AdaBoost using cross validation : ', scores8.mean()*100)\n"
      ]
    },
    {
      "cell_type": "markdown",
      "metadata": {
        "id": "L6V-bktTKBn0"
      },
      "source": [
        "### __Comparison Table__\n",
        "\n",
        "| Sr no.| Model | Accuracy score with Cross-Val | Accuracy score without Cross-Val |\n",
        "| - | - | - | - |\n",
        "| 1. | Logistic Regression  | 78.20283370618941 | 78.29977628635348 |\n",
        "| 2. | Decision Tree Clasifier | 96.48023862788963 | 96.53243847874721 |\n",
        "| 3. | Random Forest Classifier | 97.59134973900075 | 97.91200596569725 |\n",
        "| 4. | KNN Classifier | 91.49888143176733 | 95.07829977628636 |\n",
        "| 5. | Naive Bayes Classifier | 82.33407904548844 | 83.22147651006712 |\n",
        "| 6. | Gradient Boosting Classifier | 97.7703206562267 | 97.87472035794184 |\n",
        "| 7. | XGBoost Classifier | 97.11409395973153 | 97.46457867263236 |\n",
        "| 8. | AdaBoost Classifier | 88.26994780014914 | 88.59060402684564 |"
      ]
    },
    {
      "cell_type": "markdown",
      "metadata": {
        "id": "WCroPxGJN_FC"
      },
      "source": [
        "##### __Accuracy is highest for Random Forest without cross validation, but when we do cross-validation, Gradient Boosting is giving better accuracy. Hence, we'll proceed with Gradient Boosting Algorithm.__"
      ]
    },
    {
      "cell_type": "markdown",
      "metadata": {
        "id": "8mR-dDYFSyh4"
      },
      "source": [
        "---\n",
        "<a name = Section11.1></a>\n",
        "### **11.1 Declare Hyper-paramter to tune the model**\n",
        "---"
      ]
    },
    {
      "cell_type": "code",
      "execution_count": 81,
      "metadata": {
        "id": "wlMXAUiUKAik"
      },
      "outputs": [],
      "source": [
        "gbc = GradientBoostingClassifier(random_state = 42)\n",
        "\n",
        "param_grid =  {   'n_estimators' : [50, 100], \n",
        "                  'max_depth' : [8],\n",
        "              }\n",
        "gbc_grid = GridSearchCV(estimator=gbc, param_grid=param_grid, cv=10)\n"
      ]
    },
    {
      "cell_type": "code",
      "execution_count": 82,
      "metadata": {
        "id": "804WMfUxc7Di"
      },
      "outputs": [],
      "source": [
        "# fit the tuned model on X_train, y_train\n",
        "\n",
        "gbc_grid.fit(X_train , y_train)\n",
        "y_pred_test_hp = gbc_grid.predict(X_test)"
      ]
    },
    {
      "cell_type": "code",
      "execution_count": 83,
      "metadata": {
        "id": "xPsyggPiTASH",
        "colab": {
          "base_uri": "https://localhost:8080/"
        },
        "outputId": "907587b6-8eb5-4f9d-880d-3b48d66f41e4"
      },
      "outputs": [
        {
          "output_type": "stream",
          "name": "stdout",
          "text": [
            "GradientBoostingClassifier(max_depth=8, random_state=42)\n"
          ]
        }
      ],
      "source": [
        "# best estimators\n",
        "\n",
        "print(gbc_grid.best_estimator_)"
      ]
    },
    {
      "cell_type": "code",
      "execution_count": 84,
      "metadata": {
        "id": "459bSYysS7XT",
        "colab": {
          "base_uri": "https://localhost:8080/"
        },
        "outputId": "55f7b1a4-1926-47dc-ef24-4fe8a97846c0"
      },
      "outputs": [
        {
          "output_type": "stream",
          "name": "stdout",
          "text": [
            "{'max_depth': 8, 'n_estimators': 100}\n"
          ]
        }
      ],
      "source": [
        "# best parameters\n",
        "\n",
        "print(gbc_grid.best_params_)"
      ]
    },
    {
      "cell_type": "code",
      "execution_count": 85,
      "metadata": {
        "id": "ElGgyhXzdAPQ",
        "colab": {
          "base_uri": "https://localhost:8080/"
        },
        "outputId": "4afd0a5e-2103-4e4a-8c5c-26597a811796"
      },
      "outputs": [
        {
          "output_type": "stream",
          "name": "stdout",
          "text": [
            "Classification Report for Gradient Boosting\n",
            "\n",
            "               precision    recall  f1-score   support\n",
            "\n",
            "           0       0.98      0.99      0.99      2059\n",
            "           1       0.97      0.93      0.95       623\n",
            "\n",
            "    accuracy                           0.98      2682\n",
            "   macro avg       0.97      0.96      0.97      2682\n",
            "weighted avg       0.98      0.98      0.98      2682\n",
            "\n",
            "Accuracy is : 97.6882923191648\n"
          ]
        }
      ],
      "source": [
        "# Classification Matrix\n",
        "\n",
        "print('Classification Report for Gradient Boosting\\n\\n', classification_report(y_test,y_pred_test_hp))\n",
        "\n",
        "selected_model = accuracy_score(y_test, y_pred_test_hp)*100\n",
        "print('Accuracy is :', selected_model)\n"
      ]
    },
    {
      "cell_type": "code",
      "execution_count": 86,
      "metadata": {
        "id": "bC2y7o4cCzZa"
      },
      "outputs": [],
      "source": [
        "# # Initialize Classifiers\n",
        "\n",
        "# log_clf = LogisticRegression(random_state=42, class_weight='balanced')\n",
        "\n",
        "# dt_clf = DecisionTreeClassifier(criterion='entropy', min_samples_leaf=22, min_samples_split=2, random_state=42, splitter='best')\n",
        "\n",
        "# rf_clf = RandomForestClassifier(criterion='entropy', max_features='auto', n_estimators=100, random_state=42)\n",
        "\n",
        "# knn_clf = KNeighborsClassifier(n_neighbors=5, algorithm='auto', leaf_size=30, metric='manhattan', n_jobs=-1)\n",
        "\n",
        "# gnb_clf = GaussianNB()\n",
        "\n",
        "# gb_clf = GradientBoostingClassifier(n_estimators=200, criterion='friedman_mse', max_depth=8, learning_rate=0.1, random_state=42)\n",
        "\n",
        "# xgb_clf = XGBClassifier(base_score=0.5, booster='gbtree', learning_rate=0.1, max_depth=3, n_estimators=200, n_jobs=-1, random_state=42)\n",
        "\n",
        "# adb_clf = AdaBoostClassifier(n_estimators=300, learning_rate=0.1, algorithm='SAMME', random_state=42)\n",
        "\n",
        "# # Intialize a list of classifier objects\n",
        "\n",
        "# clf_list = [log_clf, dt_clf, rf_clf, knn_clf, gnb_clf, gb_clf, xgb_clf, adb_clf]\n",
        "\n",
        "# # Create an empty list to append scores and classifier name\n",
        "# train_scores = []\n",
        "# test_scores = []\n",
        "# clf_names = []\n",
        "\n",
        "# # Train classifier over train data and append scores to empty list\n",
        "\n",
        "# for clf in clf_list:\n",
        "#   # Fit the train data over the classifier object\n",
        "#   clf.fit(X_train, y_train)\n",
        "\n",
        "#   # Append train and test score to the empty list\n",
        "#   train_scores.append(np.round(a=clf.score(X_train, y_train), decimals=8)*100)\n",
        "#   test_scores.append(np.round(a=clf.score(X_test, y_test), decimals=8)*100)\n",
        "#   clf_names.append(clf.__class__.__name__)\n",
        "\n",
        "# print('Success!')\n",
        "\n",
        "# # Create an accuracy dataframe from scores and names list\n",
        "\n",
        "# accuracy_frame = pd.DataFrame(data={'Train Accuracy': train_scores, 'Test Accuracy': test_scores}, index=clf_names)\n",
        "# accuracy_frame"
      ]
    },
    {
      "cell_type": "markdown",
      "source": [
        "---\n",
        "<a name = Section12></a>\n",
        "# **12. Predicting for Unknown Data**\n",
        "---"
      ],
      "metadata": {
        "id": "9oA9YRQrYCWa"
      }
    },
    {
      "cell_type": "code",
      "execution_count": 122,
      "metadata": {
        "id": "qRCDjar0EEeW",
        "colab": {
          "base_uri": "https://localhost:8080/",
          "height": 206
        },
        "outputId": "dc78b3e8-e499-4d7c-d9e6-7b2905bf9b3d"
      },
      "outputs": [
        {
          "output_type": "execute_result",
          "data": {
            "text/plain": [
              "   avg_monthly_hrs department  filed_complaint  last_evaluation  n_projects  \\\n",
              "0              134     D00-IT              NaN         0.528841           2   \n",
              "1              221     D00-PD              NaN         0.784561           2   \n",
              "2              156     D00-SS              NaN         0.545183           2   \n",
              "3              133     D00-PR              NaN              NaN           4   \n",
              "4              135     D00-SS              NaN         0.454637           2   \n",
              "\n",
              "   recently_promoted  salary  satisfaction  tenure  employee_id  \n",
              "0                NaN     low      0.400464     3.0       119045  \n",
              "1                NaN     low      0.759513     3.0       112223  \n",
              "2                NaN  medium      0.336457     3.0       103924  \n",
              "3                NaN  medium      0.832039     2.0       105922  \n",
              "4                NaN     low      0.320723     5.0       103297  "
            ],
            "text/html": [
              "\n",
              "  <div id=\"df-41902053-d8fb-43f8-8627-6c1f3a5c3e85\">\n",
              "    <div class=\"colab-df-container\">\n",
              "      <div>\n",
              "<style scoped>\n",
              "    .dataframe tbody tr th:only-of-type {\n",
              "        vertical-align: middle;\n",
              "    }\n",
              "\n",
              "    .dataframe tbody tr th {\n",
              "        vertical-align: top;\n",
              "    }\n",
              "\n",
              "    .dataframe thead th {\n",
              "        text-align: right;\n",
              "    }\n",
              "</style>\n",
              "<table border=\"1\" class=\"dataframe\">\n",
              "  <thead>\n",
              "    <tr style=\"text-align: right;\">\n",
              "      <th></th>\n",
              "      <th>avg_monthly_hrs</th>\n",
              "      <th>department</th>\n",
              "      <th>filed_complaint</th>\n",
              "      <th>last_evaluation</th>\n",
              "      <th>n_projects</th>\n",
              "      <th>recently_promoted</th>\n",
              "      <th>salary</th>\n",
              "      <th>satisfaction</th>\n",
              "      <th>tenure</th>\n",
              "      <th>employee_id</th>\n",
              "    </tr>\n",
              "  </thead>\n",
              "  <tbody>\n",
              "    <tr>\n",
              "      <th>0</th>\n",
              "      <td>134</td>\n",
              "      <td>D00-IT</td>\n",
              "      <td>NaN</td>\n",
              "      <td>0.528841</td>\n",
              "      <td>2</td>\n",
              "      <td>NaN</td>\n",
              "      <td>low</td>\n",
              "      <td>0.400464</td>\n",
              "      <td>3.0</td>\n",
              "      <td>119045</td>\n",
              "    </tr>\n",
              "    <tr>\n",
              "      <th>1</th>\n",
              "      <td>221</td>\n",
              "      <td>D00-PD</td>\n",
              "      <td>NaN</td>\n",
              "      <td>0.784561</td>\n",
              "      <td>2</td>\n",
              "      <td>NaN</td>\n",
              "      <td>low</td>\n",
              "      <td>0.759513</td>\n",
              "      <td>3.0</td>\n",
              "      <td>112223</td>\n",
              "    </tr>\n",
              "    <tr>\n",
              "      <th>2</th>\n",
              "      <td>156</td>\n",
              "      <td>D00-SS</td>\n",
              "      <td>NaN</td>\n",
              "      <td>0.545183</td>\n",
              "      <td>2</td>\n",
              "      <td>NaN</td>\n",
              "      <td>medium</td>\n",
              "      <td>0.336457</td>\n",
              "      <td>3.0</td>\n",
              "      <td>103924</td>\n",
              "    </tr>\n",
              "    <tr>\n",
              "      <th>3</th>\n",
              "      <td>133</td>\n",
              "      <td>D00-PR</td>\n",
              "      <td>NaN</td>\n",
              "      <td>NaN</td>\n",
              "      <td>4</td>\n",
              "      <td>NaN</td>\n",
              "      <td>medium</td>\n",
              "      <td>0.832039</td>\n",
              "      <td>2.0</td>\n",
              "      <td>105922</td>\n",
              "    </tr>\n",
              "    <tr>\n",
              "      <th>4</th>\n",
              "      <td>135</td>\n",
              "      <td>D00-SS</td>\n",
              "      <td>NaN</td>\n",
              "      <td>0.454637</td>\n",
              "      <td>2</td>\n",
              "      <td>NaN</td>\n",
              "      <td>low</td>\n",
              "      <td>0.320723</td>\n",
              "      <td>5.0</td>\n",
              "      <td>103297</td>\n",
              "    </tr>\n",
              "  </tbody>\n",
              "</table>\n",
              "</div>\n",
              "      <button class=\"colab-df-convert\" onclick=\"convertToInteractive('df-41902053-d8fb-43f8-8627-6c1f3a5c3e85')\"\n",
              "              title=\"Convert this dataframe to an interactive table.\"\n",
              "              style=\"display:none;\">\n",
              "        \n",
              "  <svg xmlns=\"http://www.w3.org/2000/svg\" height=\"24px\"viewBox=\"0 0 24 24\"\n",
              "       width=\"24px\">\n",
              "    <path d=\"M0 0h24v24H0V0z\" fill=\"none\"/>\n",
              "    <path d=\"M18.56 5.44l.94 2.06.94-2.06 2.06-.94-2.06-.94-.94-2.06-.94 2.06-2.06.94zm-11 1L8.5 8.5l.94-2.06 2.06-.94-2.06-.94L8.5 2.5l-.94 2.06-2.06.94zm10 10l.94 2.06.94-2.06 2.06-.94-2.06-.94-.94-2.06-.94 2.06-2.06.94z\"/><path d=\"M17.41 7.96l-1.37-1.37c-.4-.4-.92-.59-1.43-.59-.52 0-1.04.2-1.43.59L10.3 9.45l-7.72 7.72c-.78.78-.78 2.05 0 2.83L4 21.41c.39.39.9.59 1.41.59.51 0 1.02-.2 1.41-.59l7.78-7.78 2.81-2.81c.8-.78.8-2.07 0-2.86zM5.41 20L4 18.59l7.72-7.72 1.47 1.35L5.41 20z\"/>\n",
              "  </svg>\n",
              "      </button>\n",
              "      \n",
              "  <style>\n",
              "    .colab-df-container {\n",
              "      display:flex;\n",
              "      flex-wrap:wrap;\n",
              "      gap: 12px;\n",
              "    }\n",
              "\n",
              "    .colab-df-convert {\n",
              "      background-color: #E8F0FE;\n",
              "      border: none;\n",
              "      border-radius: 50%;\n",
              "      cursor: pointer;\n",
              "      display: none;\n",
              "      fill: #1967D2;\n",
              "      height: 32px;\n",
              "      padding: 0 0 0 0;\n",
              "      width: 32px;\n",
              "    }\n",
              "\n",
              "    .colab-df-convert:hover {\n",
              "      background-color: #E2EBFA;\n",
              "      box-shadow: 0px 1px 2px rgba(60, 64, 67, 0.3), 0px 1px 3px 1px rgba(60, 64, 67, 0.15);\n",
              "      fill: #174EA6;\n",
              "    }\n",
              "\n",
              "    [theme=dark] .colab-df-convert {\n",
              "      background-color: #3B4455;\n",
              "      fill: #D2E3FC;\n",
              "    }\n",
              "\n",
              "    [theme=dark] .colab-df-convert:hover {\n",
              "      background-color: #434B5C;\n",
              "      box-shadow: 0px 1px 3px 1px rgba(0, 0, 0, 0.15);\n",
              "      filter: drop-shadow(0px 1px 2px rgba(0, 0, 0, 0.3));\n",
              "      fill: #FFFFFF;\n",
              "    }\n",
              "  </style>\n",
              "\n",
              "      <script>\n",
              "        const buttonEl =\n",
              "          document.querySelector('#df-41902053-d8fb-43f8-8627-6c1f3a5c3e85 button.colab-df-convert');\n",
              "        buttonEl.style.display =\n",
              "          google.colab.kernel.accessAllowed ? 'block' : 'none';\n",
              "\n",
              "        async function convertToInteractive(key) {\n",
              "          const element = document.querySelector('#df-41902053-d8fb-43f8-8627-6c1f3a5c3e85');\n",
              "          const dataTable =\n",
              "            await google.colab.kernel.invokeFunction('convertToInteractive',\n",
              "                                                     [key], {});\n",
              "          if (!dataTable) return;\n",
              "\n",
              "          const docLinkHtml = 'Like what you see? Visit the ' +\n",
              "            '<a target=\"_blank\" href=https://colab.research.google.com/notebooks/data_table.ipynb>data table notebook</a>'\n",
              "            + ' to learn more about interactive tables.';\n",
              "          element.innerHTML = '';\n",
              "          dataTable['output_type'] = 'display_data';\n",
              "          await google.colab.output.renderOutput(dataTable, element);\n",
              "          const docLink = document.createElement('div');\n",
              "          docLink.innerHTML = docLinkHtml;\n",
              "          element.appendChild(docLink);\n",
              "        }\n",
              "      </script>\n",
              "    </div>\n",
              "  </div>\n",
              "  "
            ]
          },
          "metadata": {},
          "execution_count": 122
        }
      ],
      "source": [
        "# Import the unseen data\n",
        "\n",
        "unseenData = pd.read_csv('https://raw.githubusercontent.com/bhupeshmahara/employee-retention-prediction/main/unseenData.csv')\n",
        "unseenData.head()"
      ]
    },
    {
      "cell_type": "code",
      "source": [
        "unseenData.shape"
      ],
      "metadata": {
        "colab": {
          "base_uri": "https://localhost:8080/"
        },
        "id": "UOfiOrR_Y4HI",
        "outputId": "75c0cd6f-02c7-4f63-96c4-dbf43c0a2531"
      },
      "execution_count": 88,
      "outputs": [
        {
          "output_type": "execute_result",
          "data": {
            "text/plain": [
              "(100, 10)"
            ]
          },
          "metadata": {},
          "execution_count": 88
        }
      ]
    },
    {
      "cell_type": "code",
      "source": [
        "unseenData.info()"
      ],
      "metadata": {
        "colab": {
          "base_uri": "https://localhost:8080/"
        },
        "id": "GAqXUzVNZ0Rc",
        "outputId": "e6c2c5cc-a698-4a6a-b68a-4c7f8bce3a7c"
      },
      "execution_count": 89,
      "outputs": [
        {
          "output_type": "stream",
          "name": "stdout",
          "text": [
            "<class 'pandas.core.frame.DataFrame'>\n",
            "RangeIndex: 100 entries, 0 to 99\n",
            "Data columns (total 10 columns):\n",
            " #   Column             Non-Null Count  Dtype  \n",
            "---  ------             --------------  -----  \n",
            " 0   avg_monthly_hrs    100 non-null    int64  \n",
            " 1   department         98 non-null     object \n",
            " 2   filed_complaint    15 non-null     float64\n",
            " 3   last_evaluation    83 non-null     float64\n",
            " 4   n_projects         100 non-null    int64  \n",
            " 5   recently_promoted  3 non-null      float64\n",
            " 6   salary             100 non-null    object \n",
            " 7   satisfaction       97 non-null     float64\n",
            " 8   tenure             97 non-null     float64\n",
            " 9   employee_id        100 non-null    int64  \n",
            "dtypes: float64(5), int64(3), object(2)\n",
            "memory usage: 7.9+ KB\n"
          ]
        }
      ]
    },
    {
      "cell_type": "markdown",
      "source": [
        "---\n",
        "<a name = Section12.1></a>\n",
        "### **12.1 Data Description**\n",
        "---"
      ],
      "metadata": {
        "id": "27CYCkBD7xOo"
      }
    },
    {
      "cell_type": "code",
      "source": [
        "unseenData.describe()"
      ],
      "metadata": {
        "colab": {
          "base_uri": "https://localhost:8080/",
          "height": 300
        },
        "id": "5kw_yT0qZ3NL",
        "outputId": "f0dc1a31-09e1-4eb5-b298-2a93c249cec7"
      },
      "execution_count": 90,
      "outputs": [
        {
          "output_type": "execute_result",
          "data": {
            "text/plain": [
              "       avg_monthly_hrs  filed_complaint  last_evaluation  n_projects  \\\n",
              "count       100.000000             15.0        83.000000  100.000000   \n",
              "mean        198.810000              1.0         0.744114    3.760000   \n",
              "std          53.185723              0.0         0.169536    1.349298   \n",
              "min          68.000000              1.0         0.396801    1.000000   \n",
              "25%         154.500000              1.0         0.576181    3.000000   \n",
              "50%         206.000000              1.0         0.748131    4.000000   \n",
              "75%         247.500000              1.0         0.901458    5.000000   \n",
              "max         289.000000              1.0         1.000000    7.000000   \n",
              "\n",
              "       recently_promoted  satisfaction     tenure    employee_id  \n",
              "count                3.0     97.000000  97.000000     100.000000  \n",
              "mean                 1.0      0.629632   3.422680  112515.750000  \n",
              "std                  0.0      0.246901   1.566811    9466.676715  \n",
              "min                  1.0      0.051515   2.000000  100230.000000  \n",
              "25%                  1.0      0.477002   2.000000  105855.000000  \n",
              "50%                  1.0      0.660827   3.000000  110557.000000  \n",
              "75%                  1.0      0.832039   4.000000  117130.250000  \n",
              "max                  1.0      1.000000  10.000000  145105.000000  "
            ],
            "text/html": [
              "\n",
              "  <div id=\"df-596d1eae-9db6-4628-97c5-24de8f0dfa5c\">\n",
              "    <div class=\"colab-df-container\">\n",
              "      <div>\n",
              "<style scoped>\n",
              "    .dataframe tbody tr th:only-of-type {\n",
              "        vertical-align: middle;\n",
              "    }\n",
              "\n",
              "    .dataframe tbody tr th {\n",
              "        vertical-align: top;\n",
              "    }\n",
              "\n",
              "    .dataframe thead th {\n",
              "        text-align: right;\n",
              "    }\n",
              "</style>\n",
              "<table border=\"1\" class=\"dataframe\">\n",
              "  <thead>\n",
              "    <tr style=\"text-align: right;\">\n",
              "      <th></th>\n",
              "      <th>avg_monthly_hrs</th>\n",
              "      <th>filed_complaint</th>\n",
              "      <th>last_evaluation</th>\n",
              "      <th>n_projects</th>\n",
              "      <th>recently_promoted</th>\n",
              "      <th>satisfaction</th>\n",
              "      <th>tenure</th>\n",
              "      <th>employee_id</th>\n",
              "    </tr>\n",
              "  </thead>\n",
              "  <tbody>\n",
              "    <tr>\n",
              "      <th>count</th>\n",
              "      <td>100.000000</td>\n",
              "      <td>15.0</td>\n",
              "      <td>83.000000</td>\n",
              "      <td>100.000000</td>\n",
              "      <td>3.0</td>\n",
              "      <td>97.000000</td>\n",
              "      <td>97.000000</td>\n",
              "      <td>100.000000</td>\n",
              "    </tr>\n",
              "    <tr>\n",
              "      <th>mean</th>\n",
              "      <td>198.810000</td>\n",
              "      <td>1.0</td>\n",
              "      <td>0.744114</td>\n",
              "      <td>3.760000</td>\n",
              "      <td>1.0</td>\n",
              "      <td>0.629632</td>\n",
              "      <td>3.422680</td>\n",
              "      <td>112515.750000</td>\n",
              "    </tr>\n",
              "    <tr>\n",
              "      <th>std</th>\n",
              "      <td>53.185723</td>\n",
              "      <td>0.0</td>\n",
              "      <td>0.169536</td>\n",
              "      <td>1.349298</td>\n",
              "      <td>0.0</td>\n",
              "      <td>0.246901</td>\n",
              "      <td>1.566811</td>\n",
              "      <td>9466.676715</td>\n",
              "    </tr>\n",
              "    <tr>\n",
              "      <th>min</th>\n",
              "      <td>68.000000</td>\n",
              "      <td>1.0</td>\n",
              "      <td>0.396801</td>\n",
              "      <td>1.000000</td>\n",
              "      <td>1.0</td>\n",
              "      <td>0.051515</td>\n",
              "      <td>2.000000</td>\n",
              "      <td>100230.000000</td>\n",
              "    </tr>\n",
              "    <tr>\n",
              "      <th>25%</th>\n",
              "      <td>154.500000</td>\n",
              "      <td>1.0</td>\n",
              "      <td>0.576181</td>\n",
              "      <td>3.000000</td>\n",
              "      <td>1.0</td>\n",
              "      <td>0.477002</td>\n",
              "      <td>2.000000</td>\n",
              "      <td>105855.000000</td>\n",
              "    </tr>\n",
              "    <tr>\n",
              "      <th>50%</th>\n",
              "      <td>206.000000</td>\n",
              "      <td>1.0</td>\n",
              "      <td>0.748131</td>\n",
              "      <td>4.000000</td>\n",
              "      <td>1.0</td>\n",
              "      <td>0.660827</td>\n",
              "      <td>3.000000</td>\n",
              "      <td>110557.000000</td>\n",
              "    </tr>\n",
              "    <tr>\n",
              "      <th>75%</th>\n",
              "      <td>247.500000</td>\n",
              "      <td>1.0</td>\n",
              "      <td>0.901458</td>\n",
              "      <td>5.000000</td>\n",
              "      <td>1.0</td>\n",
              "      <td>0.832039</td>\n",
              "      <td>4.000000</td>\n",
              "      <td>117130.250000</td>\n",
              "    </tr>\n",
              "    <tr>\n",
              "      <th>max</th>\n",
              "      <td>289.000000</td>\n",
              "      <td>1.0</td>\n",
              "      <td>1.000000</td>\n",
              "      <td>7.000000</td>\n",
              "      <td>1.0</td>\n",
              "      <td>1.000000</td>\n",
              "      <td>10.000000</td>\n",
              "      <td>145105.000000</td>\n",
              "    </tr>\n",
              "  </tbody>\n",
              "</table>\n",
              "</div>\n",
              "      <button class=\"colab-df-convert\" onclick=\"convertToInteractive('df-596d1eae-9db6-4628-97c5-24de8f0dfa5c')\"\n",
              "              title=\"Convert this dataframe to an interactive table.\"\n",
              "              style=\"display:none;\">\n",
              "        \n",
              "  <svg xmlns=\"http://www.w3.org/2000/svg\" height=\"24px\"viewBox=\"0 0 24 24\"\n",
              "       width=\"24px\">\n",
              "    <path d=\"M0 0h24v24H0V0z\" fill=\"none\"/>\n",
              "    <path d=\"M18.56 5.44l.94 2.06.94-2.06 2.06-.94-2.06-.94-.94-2.06-.94 2.06-2.06.94zm-11 1L8.5 8.5l.94-2.06 2.06-.94-2.06-.94L8.5 2.5l-.94 2.06-2.06.94zm10 10l.94 2.06.94-2.06 2.06-.94-2.06-.94-.94-2.06-.94 2.06-2.06.94z\"/><path d=\"M17.41 7.96l-1.37-1.37c-.4-.4-.92-.59-1.43-.59-.52 0-1.04.2-1.43.59L10.3 9.45l-7.72 7.72c-.78.78-.78 2.05 0 2.83L4 21.41c.39.39.9.59 1.41.59.51 0 1.02-.2 1.41-.59l7.78-7.78 2.81-2.81c.8-.78.8-2.07 0-2.86zM5.41 20L4 18.59l7.72-7.72 1.47 1.35L5.41 20z\"/>\n",
              "  </svg>\n",
              "      </button>\n",
              "      \n",
              "  <style>\n",
              "    .colab-df-container {\n",
              "      display:flex;\n",
              "      flex-wrap:wrap;\n",
              "      gap: 12px;\n",
              "    }\n",
              "\n",
              "    .colab-df-convert {\n",
              "      background-color: #E8F0FE;\n",
              "      border: none;\n",
              "      border-radius: 50%;\n",
              "      cursor: pointer;\n",
              "      display: none;\n",
              "      fill: #1967D2;\n",
              "      height: 32px;\n",
              "      padding: 0 0 0 0;\n",
              "      width: 32px;\n",
              "    }\n",
              "\n",
              "    .colab-df-convert:hover {\n",
              "      background-color: #E2EBFA;\n",
              "      box-shadow: 0px 1px 2px rgba(60, 64, 67, 0.3), 0px 1px 3px 1px rgba(60, 64, 67, 0.15);\n",
              "      fill: #174EA6;\n",
              "    }\n",
              "\n",
              "    [theme=dark] .colab-df-convert {\n",
              "      background-color: #3B4455;\n",
              "      fill: #D2E3FC;\n",
              "    }\n",
              "\n",
              "    [theme=dark] .colab-df-convert:hover {\n",
              "      background-color: #434B5C;\n",
              "      box-shadow: 0px 1px 3px 1px rgba(0, 0, 0, 0.15);\n",
              "      filter: drop-shadow(0px 1px 2px rgba(0, 0, 0, 0.3));\n",
              "      fill: #FFFFFF;\n",
              "    }\n",
              "  </style>\n",
              "\n",
              "      <script>\n",
              "        const buttonEl =\n",
              "          document.querySelector('#df-596d1eae-9db6-4628-97c5-24de8f0dfa5c button.colab-df-convert');\n",
              "        buttonEl.style.display =\n",
              "          google.colab.kernel.accessAllowed ? 'block' : 'none';\n",
              "\n",
              "        async function convertToInteractive(key) {\n",
              "          const element = document.querySelector('#df-596d1eae-9db6-4628-97c5-24de8f0dfa5c');\n",
              "          const dataTable =\n",
              "            await google.colab.kernel.invokeFunction('convertToInteractive',\n",
              "                                                     [key], {});\n",
              "          if (!dataTable) return;\n",
              "\n",
              "          const docLinkHtml = 'Like what you see? Visit the ' +\n",
              "            '<a target=\"_blank\" href=https://colab.research.google.com/notebooks/data_table.ipynb>data table notebook</a>'\n",
              "            + ' to learn more about interactive tables.';\n",
              "          element.innerHTML = '';\n",
              "          dataTable['output_type'] = 'display_data';\n",
              "          await google.colab.output.renderOutput(dataTable, element);\n",
              "          const docLink = document.createElement('div');\n",
              "          docLink.innerHTML = docLinkHtml;\n",
              "          element.appendChild(docLink);\n",
              "        }\n",
              "      </script>\n",
              "    </div>\n",
              "  </div>\n",
              "  "
            ]
          },
          "metadata": {},
          "execution_count": 90
        }
      ]
    },
    {
      "cell_type": "code",
      "source": [
        "print(unseenData['department'].unique())"
      ],
      "metadata": {
        "colab": {
          "base_uri": "https://localhost:8080/"
        },
        "id": "50Fum2JBZ8qS",
        "outputId": "29eda8a9-b04b-4717-91da-cb1f538d0166"
      },
      "execution_count": 91,
      "outputs": [
        {
          "output_type": "stream",
          "name": "stdout",
          "text": [
            "['D00-IT' 'D00-PD' 'D00-SS' 'D00-PR' 'D00-FN' 'D00-MT' 'D00-MN' 'D00-ENG'\n",
            " 'D00-SP' 'D00-TP' nan '-IT' 'D00-AD']\n"
          ]
        }
      ]
    },
    {
      "cell_type": "code",
      "source": [
        "# replace the incorrect Data \"-IT\" with \"D00-IT\".\n",
        "\n",
        "unseenData['department'].replace({'-IT': 'D00-IT'}, inplace=True)\n",
        "print(unseenData['department'].unique())"
      ],
      "metadata": {
        "colab": {
          "base_uri": "https://localhost:8080/"
        },
        "id": "ODWI2iI6Z_88",
        "outputId": "122f8b1c-b4df-4690-b607-a6dfe43093c1"
      },
      "execution_count": 92,
      "outputs": [
        {
          "output_type": "stream",
          "name": "stdout",
          "text": [
            "['D00-IT' 'D00-PD' 'D00-SS' 'D00-PR' 'D00-FN' 'D00-MT' 'D00-MN' 'D00-ENG'\n",
            " 'D00-SP' 'D00-TP' nan 'D00-AD']\n"
          ]
        }
      ]
    },
    {
      "cell_type": "code",
      "source": [
        "df_DataForPred = pd.merge(unseenData, df_employeeDetailsData, how='left', on=\"employee_id\")\n",
        "df_DataForPred.head()"
      ],
      "metadata": {
        "colab": {
          "base_uri": "https://localhost:8080/",
          "height": 270
        },
        "id": "OUczFXr5aVU_",
        "outputId": "e6356670-9fae-4b92-a1b7-7392bc831300"
      },
      "execution_count": 93,
      "outputs": [
        {
          "output_type": "execute_result",
          "data": {
            "text/plain": [
              "   avg_monthly_hrs department  filed_complaint  last_evaluation  n_projects  \\\n",
              "0              134     D00-IT              NaN         0.528841           2   \n",
              "1              221     D00-PD              NaN         0.784561           2   \n",
              "2              156     D00-SS              NaN         0.545183           2   \n",
              "3              133     D00-PR              NaN              NaN           4   \n",
              "4              135     D00-SS              NaN         0.454637           2   \n",
              "\n",
              "   recently_promoted  salary  satisfaction  tenure  employee_id  age gender  \\\n",
              "0                NaN     low      0.400464     3.0       119045   27   Male   \n",
              "1                NaN     low      0.759513     3.0       112223   23   Male   \n",
              "2                NaN  medium      0.336457     3.0       103924   26   Male   \n",
              "3                NaN  medium      0.832039     2.0       105922   52   Male   \n",
              "4                NaN     low      0.320723     5.0       103297   27   Male   \n",
              "\n",
              "  marital_status  \n",
              "0      Unmarried  \n",
              "1      Unmarried  \n",
              "2      Unmarried  \n",
              "3        Married  \n",
              "4      Unmarried  "
            ],
            "text/html": [
              "\n",
              "  <div id=\"df-ce3b8705-4ddf-432f-ba87-b801445e8942\">\n",
              "    <div class=\"colab-df-container\">\n",
              "      <div>\n",
              "<style scoped>\n",
              "    .dataframe tbody tr th:only-of-type {\n",
              "        vertical-align: middle;\n",
              "    }\n",
              "\n",
              "    .dataframe tbody tr th {\n",
              "        vertical-align: top;\n",
              "    }\n",
              "\n",
              "    .dataframe thead th {\n",
              "        text-align: right;\n",
              "    }\n",
              "</style>\n",
              "<table border=\"1\" class=\"dataframe\">\n",
              "  <thead>\n",
              "    <tr style=\"text-align: right;\">\n",
              "      <th></th>\n",
              "      <th>avg_monthly_hrs</th>\n",
              "      <th>department</th>\n",
              "      <th>filed_complaint</th>\n",
              "      <th>last_evaluation</th>\n",
              "      <th>n_projects</th>\n",
              "      <th>recently_promoted</th>\n",
              "      <th>salary</th>\n",
              "      <th>satisfaction</th>\n",
              "      <th>tenure</th>\n",
              "      <th>employee_id</th>\n",
              "      <th>age</th>\n",
              "      <th>gender</th>\n",
              "      <th>marital_status</th>\n",
              "    </tr>\n",
              "  </thead>\n",
              "  <tbody>\n",
              "    <tr>\n",
              "      <th>0</th>\n",
              "      <td>134</td>\n",
              "      <td>D00-IT</td>\n",
              "      <td>NaN</td>\n",
              "      <td>0.528841</td>\n",
              "      <td>2</td>\n",
              "      <td>NaN</td>\n",
              "      <td>low</td>\n",
              "      <td>0.400464</td>\n",
              "      <td>3.0</td>\n",
              "      <td>119045</td>\n",
              "      <td>27</td>\n",
              "      <td>Male</td>\n",
              "      <td>Unmarried</td>\n",
              "    </tr>\n",
              "    <tr>\n",
              "      <th>1</th>\n",
              "      <td>221</td>\n",
              "      <td>D00-PD</td>\n",
              "      <td>NaN</td>\n",
              "      <td>0.784561</td>\n",
              "      <td>2</td>\n",
              "      <td>NaN</td>\n",
              "      <td>low</td>\n",
              "      <td>0.759513</td>\n",
              "      <td>3.0</td>\n",
              "      <td>112223</td>\n",
              "      <td>23</td>\n",
              "      <td>Male</td>\n",
              "      <td>Unmarried</td>\n",
              "    </tr>\n",
              "    <tr>\n",
              "      <th>2</th>\n",
              "      <td>156</td>\n",
              "      <td>D00-SS</td>\n",
              "      <td>NaN</td>\n",
              "      <td>0.545183</td>\n",
              "      <td>2</td>\n",
              "      <td>NaN</td>\n",
              "      <td>medium</td>\n",
              "      <td>0.336457</td>\n",
              "      <td>3.0</td>\n",
              "      <td>103924</td>\n",
              "      <td>26</td>\n",
              "      <td>Male</td>\n",
              "      <td>Unmarried</td>\n",
              "    </tr>\n",
              "    <tr>\n",
              "      <th>3</th>\n",
              "      <td>133</td>\n",
              "      <td>D00-PR</td>\n",
              "      <td>NaN</td>\n",
              "      <td>NaN</td>\n",
              "      <td>4</td>\n",
              "      <td>NaN</td>\n",
              "      <td>medium</td>\n",
              "      <td>0.832039</td>\n",
              "      <td>2.0</td>\n",
              "      <td>105922</td>\n",
              "      <td>52</td>\n",
              "      <td>Male</td>\n",
              "      <td>Married</td>\n",
              "    </tr>\n",
              "    <tr>\n",
              "      <th>4</th>\n",
              "      <td>135</td>\n",
              "      <td>D00-SS</td>\n",
              "      <td>NaN</td>\n",
              "      <td>0.454637</td>\n",
              "      <td>2</td>\n",
              "      <td>NaN</td>\n",
              "      <td>low</td>\n",
              "      <td>0.320723</td>\n",
              "      <td>5.0</td>\n",
              "      <td>103297</td>\n",
              "      <td>27</td>\n",
              "      <td>Male</td>\n",
              "      <td>Unmarried</td>\n",
              "    </tr>\n",
              "  </tbody>\n",
              "</table>\n",
              "</div>\n",
              "      <button class=\"colab-df-convert\" onclick=\"convertToInteractive('df-ce3b8705-4ddf-432f-ba87-b801445e8942')\"\n",
              "              title=\"Convert this dataframe to an interactive table.\"\n",
              "              style=\"display:none;\">\n",
              "        \n",
              "  <svg xmlns=\"http://www.w3.org/2000/svg\" height=\"24px\"viewBox=\"0 0 24 24\"\n",
              "       width=\"24px\">\n",
              "    <path d=\"M0 0h24v24H0V0z\" fill=\"none\"/>\n",
              "    <path d=\"M18.56 5.44l.94 2.06.94-2.06 2.06-.94-2.06-.94-.94-2.06-.94 2.06-2.06.94zm-11 1L8.5 8.5l.94-2.06 2.06-.94-2.06-.94L8.5 2.5l-.94 2.06-2.06.94zm10 10l.94 2.06.94-2.06 2.06-.94-2.06-.94-.94-2.06-.94 2.06-2.06.94z\"/><path d=\"M17.41 7.96l-1.37-1.37c-.4-.4-.92-.59-1.43-.59-.52 0-1.04.2-1.43.59L10.3 9.45l-7.72 7.72c-.78.78-.78 2.05 0 2.83L4 21.41c.39.39.9.59 1.41.59.51 0 1.02-.2 1.41-.59l7.78-7.78 2.81-2.81c.8-.78.8-2.07 0-2.86zM5.41 20L4 18.59l7.72-7.72 1.47 1.35L5.41 20z\"/>\n",
              "  </svg>\n",
              "      </button>\n",
              "      \n",
              "  <style>\n",
              "    .colab-df-container {\n",
              "      display:flex;\n",
              "      flex-wrap:wrap;\n",
              "      gap: 12px;\n",
              "    }\n",
              "\n",
              "    .colab-df-convert {\n",
              "      background-color: #E8F0FE;\n",
              "      border: none;\n",
              "      border-radius: 50%;\n",
              "      cursor: pointer;\n",
              "      display: none;\n",
              "      fill: #1967D2;\n",
              "      height: 32px;\n",
              "      padding: 0 0 0 0;\n",
              "      width: 32px;\n",
              "    }\n",
              "\n",
              "    .colab-df-convert:hover {\n",
              "      background-color: #E2EBFA;\n",
              "      box-shadow: 0px 1px 2px rgba(60, 64, 67, 0.3), 0px 1px 3px 1px rgba(60, 64, 67, 0.15);\n",
              "      fill: #174EA6;\n",
              "    }\n",
              "\n",
              "    [theme=dark] .colab-df-convert {\n",
              "      background-color: #3B4455;\n",
              "      fill: #D2E3FC;\n",
              "    }\n",
              "\n",
              "    [theme=dark] .colab-df-convert:hover {\n",
              "      background-color: #434B5C;\n",
              "      box-shadow: 0px 1px 3px 1px rgba(0, 0, 0, 0.15);\n",
              "      filter: drop-shadow(0px 1px 2px rgba(0, 0, 0, 0.3));\n",
              "      fill: #FFFFFF;\n",
              "    }\n",
              "  </style>\n",
              "\n",
              "      <script>\n",
              "        const buttonEl =\n",
              "          document.querySelector('#df-ce3b8705-4ddf-432f-ba87-b801445e8942 button.colab-df-convert');\n",
              "        buttonEl.style.display =\n",
              "          google.colab.kernel.accessAllowed ? 'block' : 'none';\n",
              "\n",
              "        async function convertToInteractive(key) {\n",
              "          const element = document.querySelector('#df-ce3b8705-4ddf-432f-ba87-b801445e8942');\n",
              "          const dataTable =\n",
              "            await google.colab.kernel.invokeFunction('convertToInteractive',\n",
              "                                                     [key], {});\n",
              "          if (!dataTable) return;\n",
              "\n",
              "          const docLinkHtml = 'Like what you see? Visit the ' +\n",
              "            '<a target=\"_blank\" href=https://colab.research.google.com/notebooks/data_table.ipynb>data table notebook</a>'\n",
              "            + ' to learn more about interactive tables.';\n",
              "          element.innerHTML = '';\n",
              "          dataTable['output_type'] = 'display_data';\n",
              "          await google.colab.output.renderOutput(dataTable, element);\n",
              "          const docLink = document.createElement('div');\n",
              "          docLink.innerHTML = docLinkHtml;\n",
              "          element.appendChild(docLink);\n",
              "        }\n",
              "      </script>\n",
              "    </div>\n",
              "  </div>\n",
              "  "
            ]
          },
          "metadata": {},
          "execution_count": 93
        }
      ]
    },
    {
      "cell_type": "code",
      "source": [
        "df_DataForPred.shape"
      ],
      "metadata": {
        "colab": {
          "base_uri": "https://localhost:8080/"
        },
        "id": "ZRCZJKUPfEwy",
        "outputId": "c9ff43a4-ce07-4584-ff9e-cc2908dedce4"
      },
      "execution_count": 94,
      "outputs": [
        {
          "output_type": "execute_result",
          "data": {
            "text/plain": [
              "(100, 13)"
            ]
          },
          "metadata": {},
          "execution_count": 94
        }
      ]
    },
    {
      "cell_type": "code",
      "source": [
        "# checking for null values\n",
        "\n",
        "df_DataForPred.isnull().sum().sort_values(ascending=False)"
      ],
      "metadata": {
        "colab": {
          "base_uri": "https://localhost:8080/"
        },
        "id": "0wOwLQ0pfLc-",
        "outputId": "c20ca80a-3a95-4898-e5ea-e96a33e2ffab"
      },
      "execution_count": 95,
      "outputs": [
        {
          "output_type": "execute_result",
          "data": {
            "text/plain": [
              "recently_promoted    97\n",
              "filed_complaint      85\n",
              "last_evaluation      17\n",
              "satisfaction          3\n",
              "tenure                3\n",
              "department            2\n",
              "avg_monthly_hrs       0\n",
              "n_projects            0\n",
              "salary                0\n",
              "employee_id           0\n",
              "age                   0\n",
              "gender                0\n",
              "marital_status        0\n",
              "dtype: int64"
            ]
          },
          "metadata": {},
          "execution_count": 95
        }
      ]
    },
    {
      "cell_type": "code",
      "source": [
        "# since the recently_promoted and filed_complaint are having a lot missing values, we'll drop the columns\n",
        "\n",
        "df_DataForPred.drop(['filed_complaint', 'recently_promoted'], axis=1, inplace = True)\n",
        "df_DataForPred.isnull().sum().sort_values(ascending=False)"
      ],
      "metadata": {
        "colab": {
          "base_uri": "https://localhost:8080/"
        },
        "id": "5QSJ6QDrfVOz",
        "outputId": "9d39e302-613f-4c54-cd6e-4b43b3d40c02"
      },
      "execution_count": 96,
      "outputs": [
        {
          "output_type": "execute_result",
          "data": {
            "text/plain": [
              "last_evaluation    17\n",
              "satisfaction        3\n",
              "tenure              3\n",
              "department          2\n",
              "avg_monthly_hrs     0\n",
              "n_projects          0\n",
              "salary              0\n",
              "employee_id         0\n",
              "age                 0\n",
              "gender              0\n",
              "marital_status      0\n",
              "dtype: int64"
            ]
          },
          "metadata": {},
          "execution_count": 96
        }
      ]
    },
    {
      "cell_type": "code",
      "source": [
        "df_DataForPred.department.value_counts()"
      ],
      "metadata": {
        "colab": {
          "base_uri": "https://localhost:8080/"
        },
        "id": "zXILkp5jhqjU",
        "outputId": "001cf60c-e18e-4fc8-fa90-426d935dab15"
      },
      "execution_count": 97,
      "outputs": [
        {
          "output_type": "execute_result",
          "data": {
            "text/plain": [
              "D00-SS     27\n",
              "D00-ENG    17\n",
              "D00-SP     13\n",
              "D00-IT     11\n",
              "D00-PD      7\n",
              "D00-MT      7\n",
              "D00-FN      6\n",
              "D00-MN      5\n",
              "D00-TP      3\n",
              "D00-PR      1\n",
              "D00-AD      1\n",
              "Name: department, dtype: int64"
            ]
          },
          "metadata": {},
          "execution_count": 97
        }
      ]
    },
    {
      "cell_type": "code",
      "source": [
        "# fill the missing values with dept_name : D00-SS i.e. the Sales department as most of the employees are from this department\n",
        "df_DataForPred['department'].fillna('D00-SS',inplace=True)\n",
        "df_DataForPred.isnull().sum().sort_values(ascending=False)"
      ],
      "metadata": {
        "colab": {
          "base_uri": "https://localhost:8080/"
        },
        "id": "T9YwQMXRhx4K",
        "outputId": "bcd67021-008b-4324-c05f-9f7feb011ccb"
      },
      "execution_count": 98,
      "outputs": [
        {
          "output_type": "execute_result",
          "data": {
            "text/plain": [
              "last_evaluation    17\n",
              "satisfaction        3\n",
              "tenure              3\n",
              "avg_monthly_hrs     0\n",
              "department          0\n",
              "n_projects          0\n",
              "salary              0\n",
              "employee_id         0\n",
              "age                 0\n",
              "gender              0\n",
              "marital_status      0\n",
              "dtype: int64"
            ]
          },
          "metadata": {},
          "execution_count": 98
        }
      ]
    },
    {
      "cell_type": "code",
      "source": [
        "df_DataForPred.tenure.value_counts()"
      ],
      "metadata": {
        "colab": {
          "base_uri": "https://localhost:8080/"
        },
        "id": "F_61kaikiIhZ",
        "outputId": "0231b45c-ac7e-47bc-f527-00e6bef16d42"
      },
      "execution_count": 99,
      "outputs": [
        {
          "output_type": "execute_result",
          "data": {
            "text/plain": [
              "3.0     40\n",
              "2.0     27\n",
              "4.0     11\n",
              "5.0     10\n",
              "6.0      5\n",
              "10.0     2\n",
              "7.0      2\n",
              "Name: tenure, dtype: int64"
            ]
          },
          "metadata": {},
          "execution_count": 99
        }
      ]
    },
    {
      "cell_type": "code",
      "source": [
        "# fill the missing values with tenure : 3.0 since most people are having tenure of 3 years\n",
        "df_DataForPred['tenure'].fillna('3.0',inplace=True)\n",
        "df_DataForPred.isnull().sum().sort_values(ascending=False)"
      ],
      "metadata": {
        "colab": {
          "base_uri": "https://localhost:8080/"
        },
        "id": "6WProp3mieFm",
        "outputId": "e987c9ae-3012-4a44-f210-9003e8e62b2a"
      },
      "execution_count": 100,
      "outputs": [
        {
          "output_type": "execute_result",
          "data": {
            "text/plain": [
              "last_evaluation    17\n",
              "satisfaction        3\n",
              "avg_monthly_hrs     0\n",
              "department          0\n",
              "n_projects          0\n",
              "salary              0\n",
              "tenure              0\n",
              "employee_id         0\n",
              "age                 0\n",
              "gender              0\n",
              "marital_status      0\n",
              "dtype: int64"
            ]
          },
          "metadata": {},
          "execution_count": 100
        }
      ]
    },
    {
      "cell_type": "code",
      "source": [
        "# Is my data normally distributed for last_evaluation column ?\n",
        "\n",
        "sns.distplot(df_DataForPred.last_evaluation, color='m')\n",
        "plt.axvline(df_DataForPred.last_evaluation.mean(), color='b')\n",
        "plt.axvline(df_DataForPred.last_evaluation.median(), color='r')\n",
        "plt.show()"
      ],
      "metadata": {
        "colab": {
          "base_uri": "https://localhost:8080/",
          "height": 280
        },
        "id": "cKFFmimgkU3T",
        "outputId": "2ced1285-e57e-407e-eeab-ec06339b0a22"
      },
      "execution_count": 101,
      "outputs": [
        {
          "output_type": "display_data",
          "data": {
            "text/plain": [
              "<Figure size 432x288 with 1 Axes>"
            ],
            "image/png": "[encoded data removed]"
          },
          "metadata": {
            "needs_background": "light"
          }
        }
      ]
    },
    {
      "cell_type": "code",
      "source": [
        "# Is my data normally distributed for satisfaction column ?\n",
        "\n",
        "sns.distplot(df_DataForPred.satisfaction, color='m')\n",
        "plt.axvline(df_DataForPred.satisfaction.mean(), color='b')\n",
        "plt.axvline(df_DataForPred.satisfaction.median(), color='r')\n",
        "plt.show()"
      ],
      "metadata": {
        "colab": {
          "base_uri": "https://localhost:8080/",
          "height": 279
        },
        "id": "wXRZIYv5kpfy",
        "outputId": "c2d45030-f08c-453d-bce7-3115e3b35325"
      },
      "execution_count": 102,
      "outputs": [
        {
          "output_type": "display_data",
          "data": {
            "text/plain": [
              "<Figure size 432x288 with 1 Axes>"
            ],
            "image/png": "[encoded data removed]"
          },
          "metadata": {
            "needs_background": "light"
          }
        }
      ]
    },
    {
      "cell_type": "code",
      "source": [
        "# filling the missing values in \"last_evaluation\" by mean.\n",
        "df_DataForPred.last_evaluation.fillna(df_DataForPred.last_evaluation.mean(), inplace=True)\n",
        "\n",
        "# filling the missing values in \"satisfaction\" by mean.\n",
        "df_DataForPred.satisfaction.fillna(df_DataForPred.satisfaction.mean(), inplace=True)"
      ],
      "metadata": {
        "id": "Na5pmsLbkvpn"
      },
      "execution_count": 103,
      "outputs": []
    },
    {
      "cell_type": "code",
      "source": [
        "df_DataForPred.isnull().sum().sort_values(ascending=False)"
      ],
      "metadata": {
        "colab": {
          "base_uri": "https://localhost:8080/"
        },
        "id": "whvxIP1Hk0ZA",
        "outputId": "127db7a1-4011-4496-b89e-a5b50a11eb47"
      },
      "execution_count": 104,
      "outputs": [
        {
          "output_type": "execute_result",
          "data": {
            "text/plain": [
              "avg_monthly_hrs    0\n",
              "department         0\n",
              "last_evaluation    0\n",
              "n_projects         0\n",
              "salary             0\n",
              "satisfaction       0\n",
              "tenure             0\n",
              "employee_id        0\n",
              "age                0\n",
              "gender             0\n",
              "marital_status     0\n",
              "dtype: int64"
            ]
          },
          "metadata": {},
          "execution_count": 104
        }
      ]
    },
    {
      "cell_type": "code",
      "source": [
        "# checking for duplicate data in the final dataset\n",
        "\n",
        "df_DataForPred[df_DataForPred.duplicated()].count()"
      ],
      "metadata": {
        "colab": {
          "base_uri": "https://localhost:8080/"
        },
        "id": "fzDU1oLDk359",
        "outputId": "1d555277-da2a-475f-c275-ddc3d38aa79b"
      },
      "execution_count": 105,
      "outputs": [
        {
          "output_type": "execute_result",
          "data": {
            "text/plain": [
              "avg_monthly_hrs    0\n",
              "department         0\n",
              "last_evaluation    0\n",
              "n_projects         0\n",
              "salary             0\n",
              "satisfaction       0\n",
              "tenure             0\n",
              "employee_id        0\n",
              "age                0\n",
              "gender             0\n",
              "marital_status     0\n",
              "dtype: int64"
            ]
          },
          "metadata": {},
          "execution_count": 105
        }
      ]
    },
    {
      "cell_type": "code",
      "source": [
        "df_DataForPred.head()"
      ],
      "metadata": {
        "colab": {
          "base_uri": "https://localhost:8080/",
          "height": 206
        },
        "id": "MYXWhH31o3_q",
        "outputId": "1c31c7fe-1473-4524-c7f2-20448fe6d510"
      },
      "execution_count": 106,
      "outputs": [
        {
          "output_type": "execute_result",
          "data": {
            "text/plain": [
              "   avg_monthly_hrs department  last_evaluation  n_projects  salary  \\\n",
              "0              134     D00-IT         0.528841           2     low   \n",
              "1              221     D00-PD         0.784561           2     low   \n",
              "2              156     D00-SS         0.545183           2  medium   \n",
              "3              133     D00-PR         0.744114           4  medium   \n",
              "4              135     D00-SS         0.454637           2     low   \n",
              "\n",
              "   satisfaction tenure  employee_id  age gender marital_status  \n",
              "0      0.400464    3.0       119045   27   Male      Unmarried  \n",
              "1      0.759513    3.0       112223   23   Male      Unmarried  \n",
              "2      0.336457    3.0       103924   26   Male      Unmarried  \n",
              "3      0.832039    2.0       105922   52   Male        Married  \n",
              "4      0.320723    5.0       103297   27   Male      Unmarried  "
            ],
            "text/html": [
              "\n",
              "  <div id=\"df-707f083a-e1c4-4a21-97a0-3889574dae27\">\n",
              "    <div class=\"colab-df-container\">\n",
              "      <div>\n",
              "<style scoped>\n",
              "    .dataframe tbody tr th:only-of-type {\n",
              "        vertical-align: middle;\n",
              "    }\n",
              "\n",
              "    .dataframe tbody tr th {\n",
              "        vertical-align: top;\n",
              "    }\n",
              "\n",
              "    .dataframe thead th {\n",
              "        text-align: right;\n",
              "    }\n",
              "</style>\n",
              "<table border=\"1\" class=\"dataframe\">\n",
              "  <thead>\n",
              "    <tr style=\"text-align: right;\">\n",
              "      <th></th>\n",
              "      <th>avg_monthly_hrs</th>\n",
              "      <th>department</th>\n",
              "      <th>last_evaluation</th>\n",
              "      <th>n_projects</th>\n",
              "      <th>salary</th>\n",
              "      <th>satisfaction</th>\n",
              "      <th>tenure</th>\n",
              "      <th>employee_id</th>\n",
              "      <th>age</th>\n",
              "      <th>gender</th>\n",
              "      <th>marital_status</th>\n",
              "    </tr>\n",
              "  </thead>\n",
              "  <tbody>\n",
              "    <tr>\n",
              "      <th>0</th>\n",
              "      <td>134</td>\n",
              "      <td>D00-IT</td>\n",
              "      <td>0.528841</td>\n",
              "      <td>2</td>\n",
              "      <td>low</td>\n",
              "      <td>0.400464</td>\n",
              "      <td>3.0</td>\n",
              "      <td>119045</td>\n",
              "      <td>27</td>\n",
              "      <td>Male</td>\n",
              "      <td>Unmarried</td>\n",
              "    </tr>\n",
              "    <tr>\n",
              "      <th>1</th>\n",
              "      <td>221</td>\n",
              "      <td>D00-PD</td>\n",
              "      <td>0.784561</td>\n",
              "      <td>2</td>\n",
              "      <td>low</td>\n",
              "      <td>0.759513</td>\n",
              "      <td>3.0</td>\n",
              "      <td>112223</td>\n",
              "      <td>23</td>\n",
              "      <td>Male</td>\n",
              "      <td>Unmarried</td>\n",
              "    </tr>\n",
              "    <tr>\n",
              "      <th>2</th>\n",
              "      <td>156</td>\n",
              "      <td>D00-SS</td>\n",
              "      <td>0.545183</td>\n",
              "      <td>2</td>\n",
              "      <td>medium</td>\n",
              "      <td>0.336457</td>\n",
              "      <td>3.0</td>\n",
              "      <td>103924</td>\n",
              "      <td>26</td>\n",
              "      <td>Male</td>\n",
              "      <td>Unmarried</td>\n",
              "    </tr>\n",
              "    <tr>\n",
              "      <th>3</th>\n",
              "      <td>133</td>\n",
              "      <td>D00-PR</td>\n",
              "      <td>0.744114</td>\n",
              "      <td>4</td>\n",
              "      <td>medium</td>\n",
              "      <td>0.832039</td>\n",
              "      <td>2.0</td>\n",
              "      <td>105922</td>\n",
              "      <td>52</td>\n",
              "      <td>Male</td>\n",
              "      <td>Married</td>\n",
              "    </tr>\n",
              "    <tr>\n",
              "      <th>4</th>\n",
              "      <td>135</td>\n",
              "      <td>D00-SS</td>\n",
              "      <td>0.454637</td>\n",
              "      <td>2</td>\n",
              "      <td>low</td>\n",
              "      <td>0.320723</td>\n",
              "      <td>5.0</td>\n",
              "      <td>103297</td>\n",
              "      <td>27</td>\n",
              "      <td>Male</td>\n",
              "      <td>Unmarried</td>\n",
              "    </tr>\n",
              "  </tbody>\n",
              "</table>\n",
              "</div>\n",
              "      <button class=\"colab-df-convert\" onclick=\"convertToInteractive('df-707f083a-e1c4-4a21-97a0-3889574dae27')\"\n",
              "              title=\"Convert this dataframe to an interactive table.\"\n",
              "              style=\"display:none;\">\n",
              "        \n",
              "  <svg xmlns=\"http://www.w3.org/2000/svg\" height=\"24px\"viewBox=\"0 0 24 24\"\n",
              "       width=\"24px\">\n",
              "    <path d=\"M0 0h24v24H0V0z\" fill=\"none\"/>\n",
              "    <path d=\"M18.56 5.44l.94 2.06.94-2.06 2.06-.94-2.06-.94-.94-2.06-.94 2.06-2.06.94zm-11 1L8.5 8.5l.94-2.06 2.06-.94-2.06-.94L8.5 2.5l-.94 2.06-2.06.94zm10 10l.94 2.06.94-2.06 2.06-.94-2.06-.94-.94-2.06-.94 2.06-2.06.94z\"/><path d=\"M17.41 7.96l-1.37-1.37c-.4-.4-.92-.59-1.43-.59-.52 0-1.04.2-1.43.59L10.3 9.45l-7.72 7.72c-.78.78-.78 2.05 0 2.83L4 21.41c.39.39.9.59 1.41.59.51 0 1.02-.2 1.41-.59l7.78-7.78 2.81-2.81c.8-.78.8-2.07 0-2.86zM5.41 20L4 18.59l7.72-7.72 1.47 1.35L5.41 20z\"/>\n",
              "  </svg>\n",
              "      </button>\n",
              "      \n",
              "  <style>\n",
              "    .colab-df-container {\n",
              "      display:flex;\n",
              "      flex-wrap:wrap;\n",
              "      gap: 12px;\n",
              "    }\n",
              "\n",
              "    .colab-df-convert {\n",
              "      background-color: #E8F0FE;\n",
              "      border: none;\n",
              "      border-radius: 50%;\n",
              "      cursor: pointer;\n",
              "      display: none;\n",
              "      fill: #1967D2;\n",
              "      height: 32px;\n",
              "      padding: 0 0 0 0;\n",
              "      width: 32px;\n",
              "    }\n",
              "\n",
              "    .colab-df-convert:hover {\n",
              "      background-color: #E2EBFA;\n",
              "      box-shadow: 0px 1px 2px rgba(60, 64, 67, 0.3), 0px 1px 3px 1px rgba(60, 64, 67, 0.15);\n",
              "      fill: #174EA6;\n",
              "    }\n",
              "\n",
              "    [theme=dark] .colab-df-convert {\n",
              "      background-color: #3B4455;\n",
              "      fill: #D2E3FC;\n",
              "    }\n",
              "\n",
              "    [theme=dark] .colab-df-convert:hover {\n",
              "      background-color: #434B5C;\n",
              "      box-shadow: 0px 1px 3px 1px rgba(0, 0, 0, 0.15);\n",
              "      filter: drop-shadow(0px 1px 2px rgba(0, 0, 0, 0.3));\n",
              "      fill: #FFFFFF;\n",
              "    }\n",
              "  </style>\n",
              "\n",
              "      <script>\n",
              "        const buttonEl =\n",
              "          document.querySelector('#df-707f083a-e1c4-4a21-97a0-3889574dae27 button.colab-df-convert');\n",
              "        buttonEl.style.display =\n",
              "          google.colab.kernel.accessAllowed ? 'block' : 'none';\n",
              "\n",
              "        async function convertToInteractive(key) {\n",
              "          const element = document.querySelector('#df-707f083a-e1c4-4a21-97a0-3889574dae27');\n",
              "          const dataTable =\n",
              "            await google.colab.kernel.invokeFunction('convertToInteractive',\n",
              "                                                     [key], {});\n",
              "          if (!dataTable) return;\n",
              "\n",
              "          const docLinkHtml = 'Like what you see? Visit the ' +\n",
              "            '<a target=\"_blank\" href=https://colab.research.google.com/notebooks/data_table.ipynb>data table notebook</a>'\n",
              "            + ' to learn more about interactive tables.';\n",
              "          element.innerHTML = '';\n",
              "          dataTable['output_type'] = 'display_data';\n",
              "          await google.colab.output.renderOutput(dataTable, element);\n",
              "          const docLink = document.createElement('div');\n",
              "          docLink.innerHTML = docLinkHtml;\n",
              "          element.appendChild(docLink);\n",
              "        }\n",
              "      </script>\n",
              "    </div>\n",
              "  </div>\n",
              "  "
            ]
          },
          "metadata": {},
          "execution_count": 106
        }
      ]
    },
    {
      "cell_type": "markdown",
      "source": [
        "---\n",
        "<a name = Section12.2></a>\n",
        "### **12.2 Data Encoding**\n",
        "---"
      ],
      "metadata": {
        "id": "vTWUbZDG66IY"
      }
    },
    {
      "cell_type": "code",
      "source": [
        "# Encode the data to fir our model\n",
        "\n",
        "le = LabelEncoder()\n",
        "\n",
        "df_DataForPred['gender'] = le.fit_transform(df_DataForPred['gender'])\n",
        "le_name_mapping = dict(zip(le.classes_, le.transform(le.classes_)))\n",
        "print(le_name_mapping)\n",
        "\n",
        "df_DataForPred['marital_status'] = le.fit_transform(df_DataForPred['marital_status'])\n",
        "le_name_mapping = dict(zip(le.classes_, le.transform(le.classes_)))\n",
        "print(le_name_mapping)\n",
        "\n",
        "df_DataForPred['salary'] = le.fit_transform(df_DataForPred['salary'])\n",
        "le_name_mapping = dict(zip(le.classes_, le.transform(le.classes_)))\n",
        "print(le_name_mapping)\n",
        "\n",
        "df_DataForPred['department'] = le.fit_transform(df_DataForPred['department'])\n",
        "le_name_mapping = dict(zip(le.classes_, le.transform(le.classes_)))\n",
        "print(le_name_mapping)\n"
      ],
      "metadata": {
        "colab": {
          "base_uri": "https://localhost:8080/"
        },
        "id": "XUXPVt6flYj6",
        "outputId": "ec0e7032-0c2a-471a-8016-597509bdd0e1"
      },
      "execution_count": 107,
      "outputs": [
        {
          "output_type": "stream",
          "name": "stdout",
          "text": [
            "{'Female': 0, 'Male': 1}\n",
            "{'Married': 0, 'Unmarried': 1}\n",
            "{'high': 0, 'low': 1, 'medium': 2}\n",
            "{'D00-AD': 0, 'D00-ENG': 1, 'D00-FN': 2, 'D00-IT': 3, 'D00-MN': 4, 'D00-MT': 5, 'D00-PD': 6, 'D00-PR': 7, 'D00-SP': 8, 'D00-SS': 9, 'D00-TP': 10}\n"
          ]
        }
      ]
    },
    {
      "cell_type": "code",
      "source": [
        "X = df_DataForPred[['avg_monthly_hrs', 'last_evaluation', 'n_projects', 'salary', 'satisfaction', 'tenure', 'age', 'gender', 'marital_status', 'department']]\n",
        "X.head()"
      ],
      "metadata": {
        "colab": {
          "base_uri": "https://localhost:8080/",
          "height": 206
        },
        "id": "Q50bP3gfpHOK",
        "outputId": "c9591a6d-6626-4e6e-dd3e-61293b7d718f"
      },
      "execution_count": 108,
      "outputs": [
        {
          "output_type": "execute_result",
          "data": {
            "text/plain": [
              "   avg_monthly_hrs  last_evaluation  n_projects  salary  satisfaction tenure  \\\n",
              "0              134         0.528841           2       1      0.400464    3.0   \n",
              "1              221         0.784561           2       1      0.759513    3.0   \n",
              "2              156         0.545183           2       2      0.336457    3.0   \n",
              "3              133         0.744114           4       2      0.832039    2.0   \n",
              "4              135         0.454637           2       1      0.320723    5.0   \n",
              "\n",
              "   age  gender  marital_status  department  \n",
              "0   27       1               1           3  \n",
              "1   23       1               1           6  \n",
              "2   26       1               1           9  \n",
              "3   52       1               0           7  \n",
              "4   27       1               1           9  "
            ],
            "text/html": [
              "\n",
              "  <div id=\"df-62214f41-0b51-465a-9ce6-8a0efb48af69\">\n",
              "    <div class=\"colab-df-container\">\n",
              "      <div>\n",
              "<style scoped>\n",
              "    .dataframe tbody tr th:only-of-type {\n",
              "        vertical-align: middle;\n",
              "    }\n",
              "\n",
              "    .dataframe tbody tr th {\n",
              "        vertical-align: top;\n",
              "    }\n",
              "\n",
              "    .dataframe thead th {\n",
              "        text-align: right;\n",
              "    }\n",
              "</style>\n",
              "<table border=\"1\" class=\"dataframe\">\n",
              "  <thead>\n",
              "    <tr style=\"text-align: right;\">\n",
              "      <th></th>\n",
              "      <th>avg_monthly_hrs</th>\n",
              "      <th>last_evaluation</th>\n",
              "      <th>n_projects</th>\n",
              "      <th>salary</th>\n",
              "      <th>satisfaction</th>\n",
              "      <th>tenure</th>\n",
              "      <th>age</th>\n",
              "      <th>gender</th>\n",
              "      <th>marital_status</th>\n",
              "      <th>department</th>\n",
              "    </tr>\n",
              "  </thead>\n",
              "  <tbody>\n",
              "    <tr>\n",
              "      <th>0</th>\n",
              "      <td>134</td>\n",
              "      <td>0.528841</td>\n",
              "      <td>2</td>\n",
              "      <td>1</td>\n",
              "      <td>0.400464</td>\n",
              "      <td>3.0</td>\n",
              "      <td>27</td>\n",
              "      <td>1</td>\n",
              "      <td>1</td>\n",
              "      <td>3</td>\n",
              "    </tr>\n",
              "    <tr>\n",
              "      <th>1</th>\n",
              "      <td>221</td>\n",
              "      <td>0.784561</td>\n",
              "      <td>2</td>\n",
              "      <td>1</td>\n",
              "      <td>0.759513</td>\n",
              "      <td>3.0</td>\n",
              "      <td>23</td>\n",
              "      <td>1</td>\n",
              "      <td>1</td>\n",
              "      <td>6</td>\n",
              "    </tr>\n",
              "    <tr>\n",
              "      <th>2</th>\n",
              "      <td>156</td>\n",
              "      <td>0.545183</td>\n",
              "      <td>2</td>\n",
              "      <td>2</td>\n",
              "      <td>0.336457</td>\n",
              "      <td>3.0</td>\n",
              "      <td>26</td>\n",
              "      <td>1</td>\n",
              "      <td>1</td>\n",
              "      <td>9</td>\n",
              "    </tr>\n",
              "    <tr>\n",
              "      <th>3</th>\n",
              "      <td>133</td>\n",
              "      <td>0.744114</td>\n",
              "      <td>4</td>\n",
              "      <td>2</td>\n",
              "      <td>0.832039</td>\n",
              "      <td>2.0</td>\n",
              "      <td>52</td>\n",
              "      <td>1</td>\n",
              "      <td>0</td>\n",
              "      <td>7</td>\n",
              "    </tr>\n",
              "    <tr>\n",
              "      <th>4</th>\n",
              "      <td>135</td>\n",
              "      <td>0.454637</td>\n",
              "      <td>2</td>\n",
              "      <td>1</td>\n",
              "      <td>0.320723</td>\n",
              "      <td>5.0</td>\n",
              "      <td>27</td>\n",
              "      <td>1</td>\n",
              "      <td>1</td>\n",
              "      <td>9</td>\n",
              "    </tr>\n",
              "  </tbody>\n",
              "</table>\n",
              "</div>\n",
              "      <button class=\"colab-df-convert\" onclick=\"convertToInteractive('df-62214f41-0b51-465a-9ce6-8a0efb48af69')\"\n",
              "              title=\"Convert this dataframe to an interactive table.\"\n",
              "              style=\"display:none;\">\n",
              "        \n",
              "  <svg xmlns=\"http://www.w3.org/2000/svg\" height=\"24px\"viewBox=\"0 0 24 24\"\n",
              "       width=\"24px\">\n",
              "    <path d=\"M0 0h24v24H0V0z\" fill=\"none\"/>\n",
              "    <path d=\"M18.56 5.44l.94 2.06.94-2.06 2.06-.94-2.06-.94-.94-2.06-.94 2.06-2.06.94zm-11 1L8.5 8.5l.94-2.06 2.06-.94-2.06-.94L8.5 2.5l-.94 2.06-2.06.94zm10 10l.94 2.06.94-2.06 2.06-.94-2.06-.94-.94-2.06-.94 2.06-2.06.94z\"/><path d=\"M17.41 7.96l-1.37-1.37c-.4-.4-.92-.59-1.43-.59-.52 0-1.04.2-1.43.59L10.3 9.45l-7.72 7.72c-.78.78-.78 2.05 0 2.83L4 21.41c.39.39.9.59 1.41.59.51 0 1.02-.2 1.41-.59l7.78-7.78 2.81-2.81c.8-.78.8-2.07 0-2.86zM5.41 20L4 18.59l7.72-7.72 1.47 1.35L5.41 20z\"/>\n",
              "  </svg>\n",
              "      </button>\n",
              "      \n",
              "  <style>\n",
              "    .colab-df-container {\n",
              "      display:flex;\n",
              "      flex-wrap:wrap;\n",
              "      gap: 12px;\n",
              "    }\n",
              "\n",
              "    .colab-df-convert {\n",
              "      background-color: #E8F0FE;\n",
              "      border: none;\n",
              "      border-radius: 50%;\n",
              "      cursor: pointer;\n",
              "      display: none;\n",
              "      fill: #1967D2;\n",
              "      height: 32px;\n",
              "      padding: 0 0 0 0;\n",
              "      width: 32px;\n",
              "    }\n",
              "\n",
              "    .colab-df-convert:hover {\n",
              "      background-color: #E2EBFA;\n",
              "      box-shadow: 0px 1px 2px rgba(60, 64, 67, 0.3), 0px 1px 3px 1px rgba(60, 64, 67, 0.15);\n",
              "      fill: #174EA6;\n",
              "    }\n",
              "\n",
              "    [theme=dark] .colab-df-convert {\n",
              "      background-color: #3B4455;\n",
              "      fill: #D2E3FC;\n",
              "    }\n",
              "\n",
              "    [theme=dark] .colab-df-convert:hover {\n",
              "      background-color: #434B5C;\n",
              "      box-shadow: 0px 1px 3px 1px rgba(0, 0, 0, 0.15);\n",
              "      filter: drop-shadow(0px 1px 2px rgba(0, 0, 0, 0.3));\n",
              "      fill: #FFFFFF;\n",
              "    }\n",
              "  </style>\n",
              "\n",
              "      <script>\n",
              "        const buttonEl =\n",
              "          document.querySelector('#df-62214f41-0b51-465a-9ce6-8a0efb48af69 button.colab-df-convert');\n",
              "        buttonEl.style.display =\n",
              "          google.colab.kernel.accessAllowed ? 'block' : 'none';\n",
              "\n",
              "        async function convertToInteractive(key) {\n",
              "          const element = document.querySelector('#df-62214f41-0b51-465a-9ce6-8a0efb48af69');\n",
              "          const dataTable =\n",
              "            await google.colab.kernel.invokeFunction('convertToInteractive',\n",
              "                                                     [key], {});\n",
              "          if (!dataTable) return;\n",
              "\n",
              "          const docLinkHtml = 'Like what you see? Visit the ' +\n",
              "            '<a target=\"_blank\" href=https://colab.research.google.com/notebooks/data_table.ipynb>data table notebook</a>'\n",
              "            + ' to learn more about interactive tables.';\n",
              "          element.innerHTML = '';\n",
              "          dataTable['output_type'] = 'display_data';\n",
              "          await google.colab.output.renderOutput(dataTable, element);\n",
              "          const docLink = document.createElement('div');\n",
              "          docLink.innerHTML = docLinkHtml;\n",
              "          element.appendChild(docLink);\n",
              "        }\n",
              "      </script>\n",
              "    </div>\n",
              "  </div>\n",
              "  "
            ]
          },
          "metadata": {},
          "execution_count": 108
        }
      ]
    },
    {
      "cell_type": "code",
      "source": [
        "X.info()"
      ],
      "metadata": {
        "colab": {
          "base_uri": "https://localhost:8080/"
        },
        "id": "Zi6bWzT9pUqb",
        "outputId": "7a740fee-46ed-49bb-8b82-168cb6e44250"
      },
      "execution_count": 109,
      "outputs": [
        {
          "output_type": "stream",
          "name": "stdout",
          "text": [
            "<class 'pandas.core.frame.DataFrame'>\n",
            "Int64Index: 100 entries, 0 to 99\n",
            "Data columns (total 10 columns):\n",
            " #   Column           Non-Null Count  Dtype  \n",
            "---  ------           --------------  -----  \n",
            " 0   avg_monthly_hrs  100 non-null    int64  \n",
            " 1   last_evaluation  100 non-null    float64\n",
            " 2   n_projects       100 non-null    int64  \n",
            " 3   salary           100 non-null    int64  \n",
            " 4   satisfaction     100 non-null    float64\n",
            " 5   tenure           100 non-null    object \n",
            " 6   age              100 non-null    int64  \n",
            " 7   gender           100 non-null    int64  \n",
            " 8   marital_status   100 non-null    int64  \n",
            " 9   department       100 non-null    int64  \n",
            "dtypes: float64(2), int64(7), object(1)\n",
            "memory usage: 8.6+ KB\n"
          ]
        }
      ]
    },
    {
      "cell_type": "markdown",
      "source": [
        "---\n",
        "<a name = Section12.3></a>\n",
        "### **12.3 Run the model through given data**\n",
        "---"
      ],
      "metadata": {
        "id": "BwHU5qpCqDE5"
      }
    },
    {
      "cell_type": "code",
      "source": [
        "y_pred_unseenData = gbc_grid.predict(X)\n",
        "y_pred_unseenData_probability = gbc_grid.predict_proba(X)\n",
        "preds = y_pred_unseenData_probability[:,1]\n",
        "\n",
        "print (y_pred_unseenData.shape, y_pred_unseenData_probability.shape, preds.shape)"
      ],
      "metadata": {
        "colab": {
          "base_uri": "https://localhost:8080/"
        },
        "id": "tzTSjLKApj3Z",
        "outputId": "2b2c1519-929e-4e80-cfc7-99c5dccd8996"
      },
      "execution_count": 110,
      "outputs": [
        {
          "output_type": "stream",
          "name": "stdout",
          "text": [
            "(100,) (100, 2) (100,)\n"
          ]
        }
      ]
    },
    {
      "cell_type": "code",
      "source": [
        "# adding status column to unseenData.csv\n",
        "\n",
        "y_pred_df = pd.DataFrame(y_pred_unseenData, columns=['status'])\n",
        "print(y_pred_df.shape)"
      ],
      "metadata": {
        "id": "0PcoAdYeqPI6"
      },
      "execution_count": 111,
      "outputs": []
    },
    {
      "cell_type": "code",
      "source": [
        "# adding 'Probability to Leave' column to unseenData_probability.csv\n",
        "\n",
        "y_pred_proba_df = pd.DataFrame(preds, columns=['Probability to Leave'])\n",
        "print (y_pred_proba_df.shape) "
      ],
      "metadata": {
        "colab": {
          "base_uri": "https://localhost:8080/"
        },
        "id": "6feFIbDyqvxq",
        "outputId": "08a4305d-bd6f-4992-d635-f5b294e69751"
      },
      "execution_count": 112,
      "outputs": [
        {
          "output_type": "stream",
          "name": "stdout",
          "text": [
            "(100, 1) (100, 1)\n"
          ]
        }
      ]
    },
    {
      "cell_type": "code",
      "source": [
        "print(y_pred_df.columns, y_pred_proba_df.columns)\n",
        "y_pred_proba_df['Probability to Leave'] = y_pred_proba_df['Probability to Leave'].apply(lambda x: round(x,2))"
      ],
      "metadata": {
        "colab": {
          "base_uri": "https://localhost:8080/"
        },
        "id": "Eva3weGgqzjC",
        "outputId": "63bacf04-d324-4b80-bdbe-37f6859fe2a6"
      },
      "execution_count": 113,
      "outputs": [
        {
          "output_type": "stream",
          "name": "stdout",
          "text": [
            "Index(['status'], dtype='object') Index(['Probability to Leave'], dtype='object')\n"
          ]
        }
      ]
    },
    {
      "cell_type": "code",
      "source": [
        "print(y_pred_df.head())"
      ],
      "metadata": {
        "colab": {
          "base_uri": "https://localhost:8080/"
        },
        "id": "GEEHW4Mgq_Gt",
        "outputId": "9ec54052-2524-43bc-8c16-175c1c83be9d"
      },
      "execution_count": 114,
      "outputs": [
        {
          "output_type": "stream",
          "name": "stdout",
          "text": [
            "   status\n",
            "0       0\n",
            "1       0\n",
            "2       0\n",
            "3       1\n",
            "4       0\n"
          ]
        }
      ]
    },
    {
      "cell_type": "code",
      "source": [
        "print(y_pred_proba_df.head())"
      ],
      "metadata": {
        "colab": {
          "base_uri": "https://localhost:8080/"
        },
        "id": "ZJgWRzXsrTWH",
        "outputId": "6b44fa4c-1d0e-454e-c031-2fbb532374a3"
      },
      "execution_count": 115,
      "outputs": [
        {
          "output_type": "stream",
          "name": "stdout",
          "text": [
            "   Probability to Leave\n",
            "0                  0.05\n",
            "1                  0.03\n",
            "2                  0.04\n",
            "3                  0.95\n",
            "4                  0.26\n"
          ]
        }
      ]
    },
    {
      "cell_type": "code",
      "source": [
        "y_pred_df.status.value_counts()"
      ],
      "metadata": {
        "colab": {
          "base_uri": "https://localhost:8080/"
        },
        "id": "i5e7QOTrrUbx",
        "outputId": "f83681cd-59e0-4c0a-ffe1-919201208ca6"
      },
      "execution_count": 116,
      "outputs": [
        {
          "output_type": "execute_result",
          "data": {
            "text/plain": [
              "0    71\n",
              "1    29\n",
              "Name: status, dtype: int64"
            ]
          },
          "metadata": {},
          "execution_count": 116
        }
      ]
    },
    {
      "cell_type": "markdown",
      "source": [
        "---\n",
        "<a name = Section12.4></a>\n",
        "### **12.4 Publish the report**\n",
        "---"
      ],
      "metadata": {
        "id": "qMWLuPmEsTre"
      }
    },
    {
      "cell_type": "code",
      "source": [
        "empColumn = df_DataForPred[['employee_id']]\n",
        "empColumn.shape"
      ],
      "metadata": {
        "colab": {
          "base_uri": "https://localhost:8080/"
        },
        "id": "THjJTQQkrXTA",
        "outputId": "e40a3366-97dc-4c79-97fa-bc5582a817bc"
      },
      "execution_count": 117,
      "outputs": [
        {
          "output_type": "execute_result",
          "data": {
            "text/plain": [
              "(100, 1)"
            ]
          },
          "metadata": {},
          "execution_count": 117
        }
      ]
    },
    {
      "cell_type": "code",
      "source": [
        "df_final_publish = pd.concat([empColumn, y_pred_proba_df], axis=1)\n",
        "df_final_publish.columns"
      ],
      "metadata": {
        "colab": {
          "base_uri": "https://localhost:8080/"
        },
        "id": "IWNGcQqzsawD",
        "outputId": "df697996-2251-46cc-f455-acc464bb67c0"
      },
      "execution_count": 118,
      "outputs": [
        {
          "output_type": "execute_result",
          "data": {
            "text/plain": [
              "Index(['employee_id', 'Probability to Leave'], dtype='object')"
            ]
          },
          "metadata": {},
          "execution_count": 118
        }
      ]
    },
    {
      "cell_type": "code",
      "source": [
        "df_final_publish.info()"
      ],
      "metadata": {
        "colab": {
          "base_uri": "https://localhost:8080/"
        },
        "id": "-scA3wlesg_2",
        "outputId": "c02fe5a5-82e1-4292-c3cc-99b367d75b05"
      },
      "execution_count": 119,
      "outputs": [
        {
          "output_type": "stream",
          "name": "stdout",
          "text": [
            "<class 'pandas.core.frame.DataFrame'>\n",
            "Int64Index: 100 entries, 0 to 99\n",
            "Data columns (total 2 columns):\n",
            " #   Column                Non-Null Count  Dtype  \n",
            "---  ------                --------------  -----  \n",
            " 0   employee_id           100 non-null    int64  \n",
            " 1   Probability to Leave  100 non-null    float64\n",
            "dtypes: float64(1), int64(1)\n",
            "memory usage: 2.3 KB\n"
          ]
        }
      ]
    },
    {
      "cell_type": "code",
      "source": [
        "df_final_publish.head()"
      ],
      "metadata": {
        "colab": {
          "base_uri": "https://localhost:8080/",
          "height": 206
        },
        "id": "ia9BBdZIsmp7",
        "outputId": "ebd99644-4452-4751-ac11-d5cd50307986"
      },
      "execution_count": 120,
      "outputs": [
        {
          "output_type": "execute_result",
          "data": {
            "text/plain": [
              "   employee_id  Probability to Leave\n",
              "0       119045                  0.05\n",
              "1       112223                  0.03\n",
              "2       103924                  0.04\n",
              "3       105922                  0.95\n",
              "4       103297                  0.26"
            ],
            "text/html": [
              "\n",
              "  <div id=\"df-0891e3e4-4456-457e-ac07-84e899979cdb\">\n",
              "    <div class=\"colab-df-container\">\n",
              "      <div>\n",
              "<style scoped>\n",
              "    .dataframe tbody tr th:only-of-type {\n",
              "        vertical-align: middle;\n",
              "    }\n",
              "\n",
              "    .dataframe tbody tr th {\n",
              "        vertical-align: top;\n",
              "    }\n",
              "\n",
              "    .dataframe thead th {\n",
              "        text-align: right;\n",
              "    }\n",
              "</style>\n",
              "<table border=\"1\" class=\"dataframe\">\n",
              "  <thead>\n",
              "    <tr style=\"text-align: right;\">\n",
              "      <th></th>\n",
              "      <th>employee_id</th>\n",
              "      <th>Probability to Leave</th>\n",
              "    </tr>\n",
              "  </thead>\n",
              "  <tbody>\n",
              "    <tr>\n",
              "      <th>0</th>\n",
              "      <td>119045</td>\n",
              "      <td>0.05</td>\n",
              "    </tr>\n",
              "    <tr>\n",
              "      <th>1</th>\n",
              "      <td>112223</td>\n",
              "      <td>0.03</td>\n",
              "    </tr>\n",
              "    <tr>\n",
              "      <th>2</th>\n",
              "      <td>103924</td>\n",
              "      <td>0.04</td>\n",
              "    </tr>\n",
              "    <tr>\n",
              "      <th>3</th>\n",
              "      <td>105922</td>\n",
              "      <td>0.95</td>\n",
              "    </tr>\n",
              "    <tr>\n",
              "      <th>4</th>\n",
              "      <td>103297</td>\n",
              "      <td>0.26</td>\n",
              "    </tr>\n",
              "  </tbody>\n",
              "</table>\n",
              "</div>\n",
              "      <button class=\"colab-df-convert\" onclick=\"convertToInteractive('df-0891e3e4-4456-457e-ac07-84e899979cdb')\"\n",
              "              title=\"Convert this dataframe to an interactive table.\"\n",
              "              style=\"display:none;\">\n",
              "        \n",
              "  <svg xmlns=\"http://www.w3.org/2000/svg\" height=\"24px\"viewBox=\"0 0 24 24\"\n",
              "       width=\"24px\">\n",
              "    <path d=\"M0 0h24v24H0V0z\" fill=\"none\"/>\n",
              "    <path d=\"M18.56 5.44l.94 2.06.94-2.06 2.06-.94-2.06-.94-.94-2.06-.94 2.06-2.06.94zm-11 1L8.5 8.5l.94-2.06 2.06-.94-2.06-.94L8.5 2.5l-.94 2.06-2.06.94zm10 10l.94 2.06.94-2.06 2.06-.94-2.06-.94-.94-2.06-.94 2.06-2.06.94z\"/><path d=\"M17.41 7.96l-1.37-1.37c-.4-.4-.92-.59-1.43-.59-.52 0-1.04.2-1.43.59L10.3 9.45l-7.72 7.72c-.78.78-.78 2.05 0 2.83L4 21.41c.39.39.9.59 1.41.59.51 0 1.02-.2 1.41-.59l7.78-7.78 2.81-2.81c.8-.78.8-2.07 0-2.86zM5.41 20L4 18.59l7.72-7.72 1.47 1.35L5.41 20z\"/>\n",
              "  </svg>\n",
              "      </button>\n",
              "      \n",
              "  <style>\n",
              "    .colab-df-container {\n",
              "      display:flex;\n",
              "      flex-wrap:wrap;\n",
              "      gap: 12px;\n",
              "    }\n",
              "\n",
              "    .colab-df-convert {\n",
              "      background-color: #E8F0FE;\n",
              "      border: none;\n",
              "      border-radius: 50%;\n",
              "      cursor: pointer;\n",
              "      display: none;\n",
              "      fill: #1967D2;\n",
              "      height: 32px;\n",
              "      padding: 0 0 0 0;\n",
              "      width: 32px;\n",
              "    }\n",
              "\n",
              "    .colab-df-convert:hover {\n",
              "      background-color: #E2EBFA;\n",
              "      box-shadow: 0px 1px 2px rgba(60, 64, 67, 0.3), 0px 1px 3px 1px rgba(60, 64, 67, 0.15);\n",
              "      fill: #174EA6;\n",
              "    }\n",
              "\n",
              "    [theme=dark] .colab-df-convert {\n",
              "      background-color: #3B4455;\n",
              "      fill: #D2E3FC;\n",
              "    }\n",
              "\n",
              "    [theme=dark] .colab-df-convert:hover {\n",
              "      background-color: #434B5C;\n",
              "      box-shadow: 0px 1px 3px 1px rgba(0, 0, 0, 0.15);\n",
              "      filter: drop-shadow(0px 1px 2px rgba(0, 0, 0, 0.3));\n",
              "      fill: #FFFFFF;\n",
              "    }\n",
              "  </style>\n",
              "\n",
              "      <script>\n",
              "        const buttonEl =\n",
              "          document.querySelector('#df-0891e3e4-4456-457e-ac07-84e899979cdb button.colab-df-convert');\n",
              "        buttonEl.style.display =\n",
              "          google.colab.kernel.accessAllowed ? 'block' : 'none';\n",
              "\n",
              "        async function convertToInteractive(key) {\n",
              "          const element = document.querySelector('#df-0891e3e4-4456-457e-ac07-84e899979cdb');\n",
              "          const dataTable =\n",
              "            await google.colab.kernel.invokeFunction('convertToInteractive',\n",
              "                                                     [key], {});\n",
              "          if (!dataTable) return;\n",
              "\n",
              "          const docLinkHtml = 'Like what you see? Visit the ' +\n",
              "            '<a target=\"_blank\" href=https://colab.research.google.com/notebooks/data_table.ipynb>data table notebook</a>'\n",
              "            + ' to learn more about interactive tables.';\n",
              "          element.innerHTML = '';\n",
              "          dataTable['output_type'] = 'display_data';\n",
              "          await google.colab.output.renderOutput(dataTable, element);\n",
              "          const docLink = document.createElement('div');\n",
              "          docLink.innerHTML = docLinkHtml;\n",
              "          element.appendChild(docLink);\n",
              "        }\n",
              "      </script>\n",
              "    </div>\n",
              "  </div>\n",
              "  "
            ]
          },
          "metadata": {},
          "execution_count": 120
        }
      ]
    },
    {
      "cell_type": "code",
      "source": [
        "df_final_publish.to_csv('1005_HR_ProbabilityData.csv', header=False, index=False)"
      ],
      "metadata": {
        "id": "vG6SupjNtSgq"
      },
      "execution_count": 121,
      "outputs": []
    },
    {
      "cell_type": "code",
      "source": [
        ""
      ],
      "metadata": {
        "id": "OcFLTjXctp54"
      },
      "execution_count": 121,
      "outputs": []
    }
  ],
  "metadata": {
    "colab": {
      "collapsed_sections": [],
      "name": "Employee Retention Prediction.ipynb",
      "provenance": [],
      "include_colab_link": true
    },
    "kernelspec": {
      "display_name": "Python 3 (ipykernel)",
      "language": "python",
      "name": "python3"
    },
    "language_info": {
      "codemirror_mode": {
        "name": "ipython",
        "version": 3
      },
      "file_extension": ".py",
      "mimetype": "text/x-python",
      "name": "python",
      "nbconvert_exporter": "python",
      "pygments_lexer": "ipython3",
      "version": "3.9.12"
    }
  },
  "nbformat": 4,
  "nbformat_minor": 0
}